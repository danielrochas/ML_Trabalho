{
 "cells": [
  {
   "cell_type": "markdown",
   "metadata": {},
   "source": [
    "# Análise de Dados com Métodos de Aprendizado de Máquina"
   ]
  },
  {
   "cell_type": "markdown",
   "metadata": {},
   "source": [
    "## Introdução ao Aprendizado de Máquina"
   ]
  },
  {
   "cell_type": "markdown",
   "metadata": {},
   "source": [
    "### Daniel Rocha da Silva, Laura Kubitschek Fiorindo"
   ]
  },
  {
   "cell_type": "markdown",
   "metadata": {},
   "source": [
    "Link para repositório no GitHub: [Repositório no GitHub](https://github.com/danielrochas/ML_Trabalho/tree/main/Trabalho%202)\n",
    "\n",
    "Descrição do trabalho: [Descrição.pdf](https://github.com/danielrochas/ML_Trabalho/blob/main/Trabalho%202/Descrição.pdf)"
   ]
  },
  {
   "cell_type": "markdown",
   "metadata": {},
   "source": [
    "### Importação de bibliotecas"
   ]
  },
  {
   "cell_type": "code",
   "execution_count": 2,
   "metadata": {},
   "outputs": [
    {
     "name": "stderr",
     "output_type": "stream",
     "text": [
      "C:\\Users\\Laura\\Anaconda3\\lib\\site-packages\\sklearn\\linear_model\\least_angle.py:35: DeprecationWarning: `np.float` is a deprecated alias for the builtin `float`. To silence this warning, use `float` by itself. Doing this will not modify any behavior and is safe. If you specifically wanted the numpy scalar type, use `np.float64` here.\n",
      "Deprecated in NumPy 1.20; for more details and guidance: https://numpy.org/devdocs/release/1.20.0-notes.html#deprecations\n",
      "  eps=np.finfo(np.float).eps,\n",
      "C:\\Users\\Laura\\Anaconda3\\lib\\site-packages\\sklearn\\linear_model\\least_angle.py:597: DeprecationWarning: `np.float` is a deprecated alias for the builtin `float`. To silence this warning, use `float` by itself. Doing this will not modify any behavior and is safe. If you specifically wanted the numpy scalar type, use `np.float64` here.\n",
      "Deprecated in NumPy 1.20; for more details and guidance: https://numpy.org/devdocs/release/1.20.0-notes.html#deprecations\n",
      "  eps=np.finfo(np.float).eps, copy_X=True, fit_path=True,\n",
      "C:\\Users\\Laura\\Anaconda3\\lib\\site-packages\\sklearn\\linear_model\\least_angle.py:836: DeprecationWarning: `np.float` is a deprecated alias for the builtin `float`. To silence this warning, use `float` by itself. Doing this will not modify any behavior and is safe. If you specifically wanted the numpy scalar type, use `np.float64` here.\n",
      "Deprecated in NumPy 1.20; for more details and guidance: https://numpy.org/devdocs/release/1.20.0-notes.html#deprecations\n",
      "  eps=np.finfo(np.float).eps, copy_X=True, fit_path=True,\n",
      "C:\\Users\\Laura\\Anaconda3\\lib\\site-packages\\sklearn\\linear_model\\least_angle.py:862: DeprecationWarning: `np.float` is a deprecated alias for the builtin `float`. To silence this warning, use `float` by itself. Doing this will not modify any behavior and is safe. If you specifically wanted the numpy scalar type, use `np.float64` here.\n",
      "Deprecated in NumPy 1.20; for more details and guidance: https://numpy.org/devdocs/release/1.20.0-notes.html#deprecations\n",
      "  eps=np.finfo(np.float).eps, positive=False):\n",
      "C:\\Users\\Laura\\Anaconda3\\lib\\site-packages\\sklearn\\linear_model\\least_angle.py:1074: DeprecationWarning: `np.float` is a deprecated alias for the builtin `float`. To silence this warning, use `float` by itself. Doing this will not modify any behavior and is safe. If you specifically wanted the numpy scalar type, use `np.float64` here.\n",
      "Deprecated in NumPy 1.20; for more details and guidance: https://numpy.org/devdocs/release/1.20.0-notes.html#deprecations\n",
      "  max_n_alphas=1000, n_jobs=1, eps=np.finfo(np.float).eps,\n",
      "C:\\Users\\Laura\\Anaconda3\\lib\\site-packages\\sklearn\\linear_model\\least_angle.py:1306: DeprecationWarning: `np.float` is a deprecated alias for the builtin `float`. To silence this warning, use `float` by itself. Doing this will not modify any behavior and is safe. If you specifically wanted the numpy scalar type, use `np.float64` here.\n",
      "Deprecated in NumPy 1.20; for more details and guidance: https://numpy.org/devdocs/release/1.20.0-notes.html#deprecations\n",
      "  max_n_alphas=1000, n_jobs=1, eps=np.finfo(np.float).eps,\n",
      "C:\\Users\\Laura\\Anaconda3\\lib\\site-packages\\sklearn\\linear_model\\least_angle.py:1442: DeprecationWarning: `np.float` is a deprecated alias for the builtin `float`. To silence this warning, use `float` by itself. Doing this will not modify any behavior and is safe. If you specifically wanted the numpy scalar type, use `np.float64` here.\n",
      "Deprecated in NumPy 1.20; for more details and guidance: https://numpy.org/devdocs/release/1.20.0-notes.html#deprecations\n",
      "  eps=np.finfo(np.float).eps, copy_X=True, positive=False):\n",
      "C:\\Users\\Laura\\Anaconda3\\lib\\site-packages\\sklearn\\linear_model\\randomized_l1.py:152: DeprecationWarning: `np.float` is a deprecated alias for the builtin `float`. To silence this warning, use `float` by itself. Doing this will not modify any behavior and is safe. If you specifically wanted the numpy scalar type, use `np.float64` here.\n",
      "Deprecated in NumPy 1.20; for more details and guidance: https://numpy.org/devdocs/release/1.20.0-notes.html#deprecations\n",
      "  precompute=False, eps=np.finfo(np.float).eps,\n",
      "C:\\Users\\Laura\\Anaconda3\\lib\\site-packages\\sklearn\\linear_model\\randomized_l1.py:318: DeprecationWarning: `np.float` is a deprecated alias for the builtin `float`. To silence this warning, use `float` by itself. Doing this will not modify any behavior and is safe. If you specifically wanted the numpy scalar type, use `np.float64` here.\n",
      "Deprecated in NumPy 1.20; for more details and guidance: https://numpy.org/devdocs/release/1.20.0-notes.html#deprecations\n",
      "  eps=np.finfo(np.float).eps, random_state=None,\n",
      "C:\\Users\\Laura\\Anaconda3\\lib\\site-packages\\sklearn\\linear_model\\randomized_l1.py:575: DeprecationWarning: `np.float` is a deprecated alias for the builtin `float`. To silence this warning, use `float` by itself. Doing this will not modify any behavior and is safe. If you specifically wanted the numpy scalar type, use `np.float64` here.\n",
      "Deprecated in NumPy 1.20; for more details and guidance: https://numpy.org/devdocs/release/1.20.0-notes.html#deprecations\n",
      "  eps=4 * np.finfo(np.float).eps, n_jobs=1,\n",
      "C:\\Users\\Laura\\Anaconda3\\lib\\site-packages\\sklearn\\ensemble\\weight_boosting.py:29: DeprecationWarning: numpy.core.umath_tests is an internal NumPy module and should not be imported. It will be removed in a future NumPy release.\n",
      "  from numpy.core.umath_tests import inner1d\n",
      "C:\\Users\\Laura\\Anaconda3\\lib\\site-packages\\sklearn\\ensemble\\gradient_boosting.py:34: DeprecationWarning: `np.bool` is a deprecated alias for the builtin `bool`. To silence this warning, use `bool` by itself. Doing this will not modify any behavior and is safe. If you specifically wanted the numpy scalar type, use `np.bool_` here.\n",
      "Deprecated in NumPy 1.20; for more details and guidance: https://numpy.org/devdocs/release/1.20.0-notes.html#deprecations\n",
      "  from ._gradient_boosting import predict_stages\n",
      "C:\\Users\\Laura\\Anaconda3\\lib\\site-packages\\sklearn\\ensemble\\gradient_boosting.py:34: DeprecationWarning: `np.bool` is a deprecated alias for the builtin `bool`. To silence this warning, use `bool` by itself. Doing this will not modify any behavior and is safe. If you specifically wanted the numpy scalar type, use `np.bool_` here.\n",
      "Deprecated in NumPy 1.20; for more details and guidance: https://numpy.org/devdocs/release/1.20.0-notes.html#deprecations\n",
      "  from ._gradient_boosting import predict_stages\n"
     ]
    }
   ],
   "source": [
    "import pandas as pd\n",
    "import numpy as np\n",
    "\n",
    "import matplotlib.pyplot as plt\n",
    "from sklearn.model_selection import train_test_split, cross_val_score\n",
    "from sklearn.preprocessing import StandardScaler, OneHotEncoder\n",
    "from sklearn.linear_model import LinearRegression\n",
    "from sklearn.tree import DecisionTreeRegressor\n",
    "from sklearn.ensemble import RandomForestRegressor\n",
    "from sklearn.metrics import explained_variance_score,mean_absolute_error,r2_score,mean_squared_error\n",
    "from sklearn.svm import SVR\n",
    "from sklearn.linear_model import Lasso"
   ]
  },
  {
   "cell_type": "markdown",
   "metadata": {},
   "source": [
    "### Problema 1"
   ]
  },
  {
   "cell_type": "code",
   "execution_count": 21,
   "metadata": {},
   "outputs": [
    {
     "data": {
      "text/html": [
       "<div>\n",
       "<style scoped>\n",
       "    .dataframe tbody tr th:only-of-type {\n",
       "        vertical-align: middle;\n",
       "    }\n",
       "\n",
       "    .dataframe tbody tr th {\n",
       "        vertical-align: top;\n",
       "    }\n",
       "\n",
       "    .dataframe thead th {\n",
       "        text-align: right;\n",
       "    }\n",
       "</style>\n",
       "<table border=\"1\" class=\"dataframe\">\n",
       "  <thead>\n",
       "    <tr style=\"text-align: right;\">\n",
       "      <th></th>\n",
       "      <th>%</th>\n",
       "      <th>lcavol</th>\n",
       "      <th>lweigh</th>\n",
       "      <th>age</th>\n",
       "      <th>lbph</th>\n",
       "      <th>svi</th>\n",
       "      <th>lcp</th>\n",
       "      <th>gleason</th>\n",
       "      <th>pgg45</th>\n",
       "      <th>lpsa</th>\n",
       "    </tr>\n",
       "  </thead>\n",
       "  <tbody>\n",
       "    <tr>\n",
       "      <th>0</th>\n",
       "      <td>1</td>\n",
       "      <td>-0.579818</td>\n",
       "      <td>2.769459</td>\n",
       "      <td>50</td>\n",
       "      <td>-1.386294</td>\n",
       "      <td>0</td>\n",
       "      <td>-1.386294</td>\n",
       "      <td>6</td>\n",
       "      <td>0</td>\n",
       "      <td>-0.430783</td>\n",
       "    </tr>\n",
       "    <tr>\n",
       "      <th>1</th>\n",
       "      <td>2</td>\n",
       "      <td>-0.994252</td>\n",
       "      <td>3.319626</td>\n",
       "      <td>58</td>\n",
       "      <td>-1.386294</td>\n",
       "      <td>0</td>\n",
       "      <td>-1.386294</td>\n",
       "      <td>6</td>\n",
       "      <td>0</td>\n",
       "      <td>-0.162519</td>\n",
       "    </tr>\n",
       "    <tr>\n",
       "      <th>2</th>\n",
       "      <td>3</td>\n",
       "      <td>-0.510826</td>\n",
       "      <td>2.691243</td>\n",
       "      <td>74</td>\n",
       "      <td>-1.386294</td>\n",
       "      <td>0</td>\n",
       "      <td>-1.386294</td>\n",
       "      <td>7</td>\n",
       "      <td>20</td>\n",
       "      <td>-0.162519</td>\n",
       "    </tr>\n",
       "    <tr>\n",
       "      <th>3</th>\n",
       "      <td>4</td>\n",
       "      <td>-1.203973</td>\n",
       "      <td>3.282789</td>\n",
       "      <td>58</td>\n",
       "      <td>-1.386294</td>\n",
       "      <td>0</td>\n",
       "      <td>-1.386294</td>\n",
       "      <td>6</td>\n",
       "      <td>0</td>\n",
       "      <td>-0.162519</td>\n",
       "    </tr>\n",
       "    <tr>\n",
       "      <th>4</th>\n",
       "      <td>5</td>\n",
       "      <td>0.751416</td>\n",
       "      <td>3.432373</td>\n",
       "      <td>62</td>\n",
       "      <td>-1.386294</td>\n",
       "      <td>0</td>\n",
       "      <td>-1.386294</td>\n",
       "      <td>6</td>\n",
       "      <td>0</td>\n",
       "      <td>0.371564</td>\n",
       "    </tr>\n",
       "  </tbody>\n",
       "</table>\n",
       "</div>"
      ],
      "text/plain": [
       "   %    lcavol    lweigh  age      lbph  svi       lcp  gleason  pgg45  \\\n",
       "0  1 -0.579818  2.769459   50 -1.386294    0 -1.386294        6      0   \n",
       "1  2 -0.994252  3.319626   58 -1.386294    0 -1.386294        6      0   \n",
       "2  3 -0.510826  2.691243   74 -1.386294    0 -1.386294        7     20   \n",
       "3  4 -1.203973  3.282789   58 -1.386294    0 -1.386294        6      0   \n",
       "4  5  0.751416  3.432373   62 -1.386294    0 -1.386294        6      0   \n",
       "\n",
       "       lpsa  \n",
       "0 -0.430783  \n",
       "1 -0.162519  \n",
       "2 -0.162519  \n",
       "3 -0.162519  \n",
       "4  0.371564  "
      ]
     },
     "execution_count": 21,
     "metadata": {},
     "output_type": "execute_result"
    }
   ],
   "source": [
    "prostate_data = pd.read_csv('data/prostate.data', sep=\"\\t\")\n",
    "prostate_data.head(5)"
   ]
  },
  {
   "cell_type": "markdown",
   "metadata": {},
   "source": [
    "###### Visualização da variável resposta"
   ]
  },
  {
   "cell_type": "code",
   "execution_count": 22,
   "metadata": {},
   "outputs": [
    {
     "data": {
      "text/plain": [
       "(array([ 4.,  3.,  7., 17., 17., 26., 14.,  4.,  2.,  3.]),\n",
       " array([-0.4307829 ,  0.17058861,  0.77196012,  1.37333163,  1.97470314,\n",
       "         2.57607465,  3.17744616,  3.77881767,  4.38018918,  4.98156069,\n",
       "         5.5829322 ]),\n",
       " <BarContainer object of 10 artists>)"
      ]
     },
     "execution_count": 22,
     "metadata": {},
     "output_type": "execute_result"
    },
    {
     "data": {
      "image/png": "[encoded data removed]",
      "text/plain": [
       "<Figure size 432x288 with 1 Axes>"
      ]
     },
     "metadata": {
      "needs_background": "light"
     },
     "output_type": "display_data"
    }
   ],
   "source": [
    "%matplotlib inline\n",
    "\n",
    "plt.hist(prostate_data[\"lpsa\"])"
   ]
  },
  {
   "cell_type": "markdown",
   "metadata": {},
   "source": [
    "Por meio do histrograma da variável resposta *lpsa* nota-se que ela possui distribuição semelhante à Normal, uma vez que possui maior frequência nos valores centrais e menor frequência nas caudas a esquerda e a direita."
   ]
  },
  {
   "cell_type": "markdown",
   "metadata": {},
   "source": [
    "###### Separação entre *features* e *target* e Padronização das features"
   ]
  },
  {
   "cell_type": "code",
   "execution_count": 23,
   "metadata": {},
   "outputs": [],
   "source": [
    "features_prostate = prostate_data.drop(columns = {\"%\", \"lpsa\"})\n",
    "target_prostate = prostate_data[\"lpsa\"]\n",
    "\n",
    "scaler = StandardScaler()\n",
    "features_prostate_scaled = scaler.fit_transform(features_prostate)"
   ]
  },
  {
   "cell_type": "markdown",
   "metadata": {},
   "source": [
    "###### Separação do conjunto de treinamento (80%) e do conjunto de teste (20%)"
   ]
  },
  {
   "cell_type": "code",
   "execution_count": 24,
   "metadata": {},
   "outputs": [],
   "source": [
    "features_prostate_train, features_prostate_test, target_prostate_train, target_prostate_test = \\\n",
    "    train_test_split(features_prostate_scaled, target_prostate, test_size = 0.2, random_state = 13)"
   ]
  },
  {
   "cell_type": "markdown",
   "metadata": {},
   "source": [
    "###### Ajuste e Resultado do Primeiro Trabalho"
   ]
  },
  {
   "cell_type": "code",
   "execution_count": 25,
   "metadata": {},
   "outputs": [
    {
     "name": "stdout",
     "output_type": "stream",
     "text": [
      "R^2:  0.6412486024604563\n",
      "\n",
      "\n",
      "Intercepto 2.472079597636012\n",
      "% 0.63087872514241\n",
      "lcavol 0.26544671319484003\n",
      "lweigh -0.12463076945582278\n",
      "age 0.0453329718141779\n",
      "lbph 0.3091557905043822\n",
      "svi -0.135731238585248\n",
      "lcp 0.06860159996008097\n",
      "gleason 0.08423788362411526\n",
      "\n",
      "\n",
      "EQM Conjunto Teste:  0.6\n"
     ]
    }
   ],
   "source": [
    "lr_prostate = LinearRegression()\n",
    "modelo_lr_prostate =lr_prostate.fit(features_prostate_train, target_prostate_train);\n",
    "\n",
    "# Validação\n",
    "print(\"R^2: \", modelo_lr_prostate.score(features_prostate_test, target_prostate_test))\n",
    "\n",
    "print(\"\\n\")\n",
    "\n",
    "print(\"Intercepto\", modelo_lr_prostate.intercept_)\n",
    "for i in range(len(modelo_lr_prostate.coef_)):\n",
    "    print(prostate_data.columns[i], modelo_lr_prostate.coef_[i])\n",
    "\n",
    "print(\"\\n\")\n",
    "    \n",
    "target_predicted = modelo_lr_prostate.predict(features_prostate_test)\n",
    "print(\"EQM Conjunto Teste: \",round(mean_squared_error(target_prostate_test, target_predicted),2))"
   ]
  },
  {
   "cell_type": "markdown",
   "metadata": {},
   "source": [
    "###### Ajuste Regressão com Regularização"
   ]
  },
  {
   "cell_type": "code",
   "execution_count": 26,
   "metadata": {},
   "outputs": [
    {
     "name": "stdout",
     "output_type": "stream",
     "text": [
      "Escore Variância Explicada:0.28\n",
      "MAE: 0.84\n",
      "R^2: 0.28\n",
      "EQM Conjunto Teste:  1.2\n"
     ]
    }
   ],
   "source": [
    "regression = Lasso(alpha=0.5)\n",
    "regression_prostate = regression.fit(features_prostate_train, target_prostate_train)\n",
    "\n",
    "pred_reg_prostate = regression_prostate.predict(features_prostate_test)\n",
    "\n",
    "explained_variance = explained_variance_score(target_prostate_test, pred_reg_prostate)\n",
    "print('Escore Variância Explicada:{0:0.2f}'.format(explained_variance))\n",
    "\n",
    "mae= mean_absolute_error(target_prostate_test, pred_reg_prostate)\n",
    "print('MAE: {0:0.2f}'.format(mae))\n",
    "\n",
    "r2score = r2_score(target_prostate_test, pred_reg_prostate)\n",
    "print('R^2: {0:0.2f}'.format(r2score))\n",
    "\n",
    "print(\"EQM Conjunto Teste: \",round(mean_squared_error(target_prostate_test, pred_reg_prostate),2))"
   ]
  },
  {
   "cell_type": "markdown",
   "metadata": {},
   "source": [
    "###### Ajuste Árvore de Decisão"
   ]
  },
  {
   "cell_type": "code",
   "execution_count": 27,
   "metadata": {},
   "outputs": [
    {
     "name": "stdout",
     "output_type": "stream",
     "text": [
      "Escore Variância Explicada:0.32\n",
      "MAE: 0.84\n",
      "R^2: 0.32\n",
      "EQM Conjunto Teste:  1.14\n"
     ]
    }
   ],
   "source": [
    "decisiontree = DecisionTreeRegressor(random_state=0)\n",
    "arv_dec_prostate = decisiontree.fit(features_prostate_train, target_prostate_train)\n",
    "\n",
    "pred_arv_dec_prostate = arv_dec_prostate.predict(features_prostate_test)\n",
    "\n",
    "explained_variance = explained_variance_score(target_prostate_test, pred_arv_dec_prostate)\n",
    "print('Escore Variância Explicada:{0:0.2f}'.format(explained_variance))\n",
    "\n",
    "mae= mean_absolute_error(target_prostate_test, pred_arv_dec_prostate)\n",
    "print('MAE: {0:0.2f}'.format(mae))\n",
    "\n",
    "r2score = r2_score(target_prostate_test, pred_arv_dec_prostate)\n",
    "print('R^2: {0:0.2f}'.format(r2score))\n",
    "\n",
    "print(\"EQM Conjunto Teste: \",round(mean_squared_error(target_prostate_test, pred_arv_dec_prostate),2))"
   ]
  },
  {
   "cell_type": "markdown",
   "metadata": {},
   "source": [
    "###### Ajuste Floresta Aleatória"
   ]
  },
  {
   "cell_type": "code",
   "execution_count": 28,
   "metadata": {},
   "outputs": [
    {
     "name": "stdout",
     "output_type": "stream",
     "text": [
      "Escore Variância Explicada:0.48\n",
      "MAE: 0.70\n",
      "R^2: 0.47\n",
      "EQM Conjunto Teste:  0.88\n"
     ]
    },
    {
     "name": "stderr",
     "output_type": "stream",
     "text": [
      "C:\\Users\\Laura\\Anaconda3\\lib\\site-packages\\sklearn\\ensemble\\base.py:157: DeprecationWarning: `np.int` is a deprecated alias for the builtin `int`. To silence this warning, use `int` by itself. Doing this will not modify any behavior and is safe. When replacing `np.int`, you may wish to use e.g. `np.int64` or `np.int32` to specify the precision. If you wish to review your current use, check the release note link for additional information.\n",
      "Deprecated in NumPy 1.20; for more details and guidance: https://numpy.org/devdocs/release/1.20.0-notes.html#deprecations\n",
      "  dtype=np.int)\n"
     ]
    }
   ],
   "source": [
    "randomforest = RandomForestRegressor(random_state=0, n_jobs=-1)\n",
    "rand_for_prostate = randomforest.fit(features_prostate_train, target_prostate_train)\n",
    "\n",
    "pred_rand_for_prostate = rand_for_prostate.predict(features_prostate_test)\n",
    "\n",
    "explained_variance = explained_variance_score(target_prostate_test, pred_rand_for_prostate)\n",
    "print('Escore Variância Explicada:{0:0.2f}'.format(explained_variance))\n",
    "\n",
    "mae= mean_absolute_error(target_prostate_test, pred_rand_for_prostate)\n",
    "print('MAE: {0:0.2f}'.format(mae))\n",
    "\n",
    "r2score = r2_score(target_prostate_test,pred_rand_for_prostate)\n",
    "print('R^2: {0:0.2f}'.format(r2score))\n",
    "\n",
    "print(\"EQM Conjunto Teste: \",round(mean_squared_error(target_prostate_test, pred_rand_for_prostate),2))"
   ]
  },
  {
   "cell_type": "markdown",
   "metadata": {},
   "source": [
    "###### Ajuste SVM"
   ]
  },
  {
   "cell_type": "code",
   "execution_count": 29,
   "metadata": {},
   "outputs": [
    {
     "name": "stdout",
     "output_type": "stream",
     "text": [
      "Escore Variância Explicada:0.66\n",
      "MAE: 0.61\n",
      "R^2: 0.66\n",
      "EQM Conjunto Teste:  0.57\n"
     ]
    }
   ],
   "source": [
    "svm = SVR(kernel=\"linear\")\n",
    "svm_prostate = svm.fit(features_prostate_train, target_prostate_train)\n",
    "\n",
    "pred_svm_prostate = svm_prostate.predict(features_prostate_test)\n",
    "\n",
    "explained_variance = explained_variance_score(target_prostate_test, pred_svm_prostate)\n",
    "print('Escore Variância Explicada:{0:0.2f}'.format(explained_variance))\n",
    "\n",
    "mae= mean_absolute_error(target_prostate_test, pred_svm_prostate)\n",
    "print('MAE: {0:0.2f}'.format(mae))\n",
    "\n",
    "r2score = r2_score(target_prostate_test,pred_svm_prostate)\n",
    "print('R^2: {0:0.2f}'.format(r2score))\n",
    "\n",
    "print(\"EQM Conjunto Teste: \",round(mean_squared_error(target_prostate_test,pred_svm_prostate),2))"
   ]
  },
  {
   "cell_type": "markdown",
   "metadata": {},
   "source": [
    "###### Ajuste RNA"
   ]
  },
  {
   "cell_type": "code",
   "execution_count": null,
   "metadata": {},
   "outputs": [],
   "source": []
  },
  {
   "cell_type": "markdown",
   "metadata": {},
   "source": [
    "###### Comparação e Análise dos Resultados"
   ]
  },
  {
   "cell_type": "code",
   "execution_count": null,
   "metadata": {},
   "outputs": [],
   "source": []
  },
  {
   "cell_type": "markdown",
   "metadata": {},
   "source": [
    "### Problema 2"
   ]
  },
  {
   "cell_type": "code",
   "execution_count": null,
   "metadata": {},
   "outputs": [],
   "source": [
    "card_data = pd.read_csv('data/card.csv', sep=\",\")\n",
    "card_data"
   ]
  },
  {
   "cell_type": "markdown",
   "metadata": {},
   "source": [
    "Visualização da variável resposta"
   ]
  },
  {
   "cell_type": "code",
   "execution_count": null,
   "metadata": {},
   "outputs": [],
   "source": [
    "%matplotlib inline\n",
    "\n",
    "\n",
    "unique, counts = np.unique(card_data[\"y\"], return_counts = True)\n",
    "unique = ''.join(str(e) for e in unique)\n",
    "plot_data = dict(zip(unique, counts))\n",
    "\n",
    "names = list(plot_data.keys())\n",
    "values = list(plot_data.values())\n",
    "\n",
    "fig, axs = plt.subplots(1, 1, figsize = (5, 6))\n",
    "axs.bar(names, values)\n",
    "fig.suptitle('Distribuição dos dados da variável resposta (y)')"
   ]
  },
  {
   "cell_type": "markdown",
   "metadata": {},
   "source": [
    "Por meio do gráfico acima, é possível notar que a variável resposta, que é categórica, possui apenas 2 níveis, sendo eles 0 ou 1. Além disso, as duas categorias possuem frequências próximas, indicando que os dados estão, de certa forma, balanceados de acordo com a variável resposta. Nesse problema serão ajustados 3 modelos diferentes para avaliação das métricas, são eles: KNN (k=5), Naive Bayes e Regressão Logística."
   ]
  },
  {
   "cell_type": "markdown",
   "metadata": {},
   "source": [
    "Separação entre *features* e *target*"
   ]
  },
  {
   "cell_type": "code",
   "execution_count": null,
   "metadata": {},
   "outputs": [],
   "source": [
    "features_card = card_data.drop(columns = {\"y\"})\n",
    "target_card = card_data[\"y\"]"
   ]
  },
  {
   "cell_type": "markdown",
   "metadata": {},
   "source": [
    "Padronização das *features*"
   ]
  },
  {
   "cell_type": "code",
   "execution_count": null,
   "metadata": {},
   "outputs": [],
   "source": [
    "scaler = StandardScaler()\n",
    "features_card_scaled = scaler.fit_transform(features_card)"
   ]
  },
  {
   "cell_type": "markdown",
   "metadata": {},
   "source": [
    "Aplicando o método 5-vizinhos mais próximos"
   ]
  },
  {
   "cell_type": "code",
   "execution_count": null,
   "metadata": {},
   "outputs": [],
   "source": [
    "neigh_card = KNeighborsClassifier(n_neighbors=5)\n",
    "neigh_card.fit(features_card_scaled, target_card);\n",
    "\n",
    "# Validação cruzada com método 10-fold\n",
    "print(\"Dados normalizados:\")\n",
    "score = cross_val_score(neigh_card, features_card_scaled, target_card, cv = 10, scoring = \"accuracy\")\n",
    "print(\"\\n\")\n",
    "print(\"Acurácia: \", score, \"Média: \", np.mean(score))\n",
    "score = cross_val_score(neigh_card, features_card_scaled, target_card, cv = 10, scoring = \"recall\")\n",
    "print(\"\\n\")\n",
    "print(\"Recall: \", score, \"Média: \", np.mean(score))\n",
    "score = cross_val_score(neigh_card, features_card_scaled, target_card, cv = 10, scoring = \"precision\")\n",
    "print(\"\\n\")\n",
    "print(\"Precison: \", score, \"Média: \", np.mean(score))\n",
    "score = cross_val_score(neigh_card, features_card_scaled, target_card, cv = 10, scoring = \"f1\")\n",
    "print(\"\\n\")\n",
    "print(\"f1: \", score, \"Média: \", np.mean(score))\n",
    "\n",
    "print(\"\\n\")\n",
    "print(\"Dados originais:\")\n",
    "score = cross_val_score(neigh_card, features_card, target_card, cv = 10, scoring = \"accuracy\")\n",
    "print(\"\\n\")\n",
    "print(\"Acurácia: \", score, \"Média: \", np.mean(score))\n",
    "score = cross_val_score(neigh_card, features_card, target_card, cv = 10, scoring = \"recall\")\n",
    "print(\"\\n\")\n",
    "print(\"Recall: \", score, \"Média: \", np.mean(score))\n",
    "score = cross_val_score(neigh_card, features_card, target_card, cv = 10, scoring = \"precision\")\n",
    "print(\"\\n\")\n",
    "print(\"Precison: \", score, \"Média: \", np.mean(score))\n",
    "score = cross_val_score(neigh_card, features_card, target_card, cv = 10, scoring = \"f1\")\n",
    "print(\"\\n\")\n",
    "print(\"f1: \", score, \"Média: \", np.mean(score))"
   ]
  },
  {
   "cell_type": "markdown",
   "metadata": {},
   "source": [
    "Ao ajustar o modelo de 5 vizinhos mais próximos nos dados padronizados e nos dados originais, observou-se melhor resultado no modelo em que foi utilizado os dados originais. Considerando o modelo com os dados originais, foram obtidas as seguintes métricas de avaliação do modelo:\n",
    "\n",
    "* acurácia média de 0.84;\n",
    "* sensibilidade média de 0.87\n",
    "* precisão média de 0.85\n",
    "* f1 médio de 0.86"
   ]
  },
  {
   "cell_type": "markdown",
   "metadata": {},
   "source": [
    "Aplicando o método Naive Bayes"
   ]
  },
  {
   "cell_type": "code",
   "execution_count": null,
   "metadata": {},
   "outputs": [],
   "source": [
    "gaussian_nb_card = GaussianNB()\n",
    "gaussian_nb_card.fit(features_card, target_card);\n",
    "\n",
    "# Validação cruzada com método 10-fold\n",
    "score = cross_val_score(gaussian_nb_card, features_card, target_card, cv = 10, scoring = \"accuracy\")\n",
    "print(\"Acurácia: \", score, \"Média: \", np.mean(score))\n",
    "score = cross_val_score(gaussian_nb_card, features_card, target_card, cv = 10, scoring = \"recall\")\n",
    "print(\"Recall: \", score, \"Média: \", np.mean(score))\n",
    "score = cross_val_score(gaussian_nb_card, features_card, target_card, cv = 10, scoring = \"precision\")\n",
    "print(\"Precison: \", score, \"Média: \", np.mean(score))\n",
    "score = cross_val_score(gaussian_nb_card, features_card, target_card, cv = 10, scoring = \"f1\")\n",
    "print(\"f1: \", score, \"Média: \", np.mean(score))"
   ]
  },
  {
   "cell_type": "markdown",
   "metadata": {},
   "source": [
    "Ao ajustar o modelo naive bayes nos dados originais, foram obtidas as seguintes métricas de avaliação do modelo:\n",
    "\n",
    "* acurácia média de 0.69;\n",
    "* sensibilidade média de 0.96\n",
    "* precisão média de 0.64 \n",
    "* f1 médio de 0.77"
   ]
  },
  {
   "cell_type": "markdown",
   "metadata": {},
   "source": [
    "Comparando os resultados do modelo KNN e Naive Bayes, observou-se que o primeiro possui métricas de avaliação melhores, por possuir valores maiores dessas medidas, exceto quando se trata da sensibilidade. Nesse caso, como o modelo naive bayes possui alta sensibilidade ele é bom para identificar instâncias positiva quanto a concessão quando ela é realmente positiva. No entanto, nesse caso a precisão do modelo não é tão boa, indicando que ao classificar uma instância como positiva existe uma proporção considerável delas que na realidade é negativa."
   ]
  },
  {
   "cell_type": "markdown",
   "metadata": {},
   "source": [
    "Aplicando o método de Regressão Logística"
   ]
  },
  {
   "cell_type": "code",
   "execution_count": null,
   "metadata": {},
   "outputs": [],
   "source": [
    "logistic_regression_card = LogisticRegression()\n",
    "logistic_regression_card.fit(features_card_scaled,target_card)\n",
    "\n",
    "score = cross_val_score(logistic_regression_card, features_card_scaled, target_card, cv = 10, scoring = \"accuracy\")\n",
    "print(\"Acurácia: \", score, \"Média: \", np.mean(score))\n",
    "score = cross_val_score(logistic_regression_card, features_card_scaled, target_card, cv = 10, scoring = \"recall\")\n",
    "print(\"Recall: \", score, \"Média: \", np.mean(score))\n",
    "score = cross_val_score(logistic_regression_card, features_card_scaled, target_card, cv = 10, scoring = \"precision\")\n",
    "print(\"Precison: \", score, \"Média: \", np.mean(score))\n",
    "score = cross_val_score(logistic_regression_card, features_card_scaled, target_card, cv = 10, scoring = \"f1\")\n",
    "print(\"f1: \", score, \"Média: \", np.mean(score))"
   ]
  },
  {
   "cell_type": "markdown",
   "metadata": {},
   "source": [
    "Ao ajustar o modelo de regressão logística nos dados originais, foram obtidas seguintes métricas de avaliação do modelo:\n",
    "\n",
    "* acurácia média de 0.86;\n",
    "* sensibilidade média de 0.85\n",
    "* precisão média de 0.90\n",
    "* f1 médio de 0.87"
   ]
  },
  {
   "cell_type": "markdown",
   "metadata": {},
   "source": [
    "Comparando o modelo logístico com os demais, ele possui sensibilidade inferior aos modelos KNN e Naive Bayes, no entanto, para as demais métricas, obteve medidas mais elevadas se comparadas com os demais modelos. Nesse caso, cabe ao banco avaliar qual métrica deve ser maximizada em um modelo para classificação da concessão de crédito. Uma alta sensibilidade indica que o modelo prevê bem instâncias como positiva quanto a concessão quando ela é realmente positiva. No entanto, também é interessante que a precisão do modelo seja alta, para assim evitar prejuízos ao aumentar a proporção de observações verdadeiramente positivas quando elas foram classificadas positivas. Nesse sentido, o modelo de regressão logística parece ser ideal, tendo valores altos para todas métricas de avaliação."
   ]
  },
  {
   "cell_type": "markdown",
   "metadata": {},
   "source": [
    "### Problema 3"
   ]
  },
  {
   "cell_type": "markdown",
   "metadata": {},
   "source": [
    "Importação e visualização do banco de dados"
   ]
  },
  {
   "cell_type": "code",
   "execution_count": null,
   "metadata": {},
   "outputs": [],
   "source": [
    "college_data = pd.read_csv(\"data/College.csv\")\n",
    "college_data"
   ]
  },
  {
   "cell_type": "markdown",
   "metadata": {},
   "source": [
    "Foi feita a troca da variável *Top10perc* pela variável *Elite*, sendo esta uma variável que assume o valor 0 para valores da variável *Top10perc* no intervalo (-1, 50] e 1 para valores no intervalo (50, 101]."
   ]
  },
  {
   "cell_type": "code",
   "execution_count": null,
   "metadata": {},
   "outputs": [],
   "source": [
    "college_data[\"Elite\"] = pd.cut(college_data[\"Top10perc\"], bins = (-1,50,101), labels = False)\n",
    "college_data = college_data.drop(columns = {\"Top10perc\"})"
   ]
  },
  {
   "cell_type": "markdown",
   "metadata": {},
   "source": [
    "Foi feita a troca da variável Private para valores inteiros (Yes = 1; No = 0)."
   ]
  },
  {
   "cell_type": "code",
   "execution_count": null,
   "metadata": {},
   "outputs": [],
   "source": [
    "college_data[\"Private\"] = np.where(college_data[\"Private\"] == 'Yes', 1, 0)"
   ]
  },
  {
   "cell_type": "markdown",
   "metadata": {},
   "source": [
    "Visualização da variável resposta"
   ]
  },
  {
   "cell_type": "code",
   "execution_count": null,
   "metadata": {},
   "outputs": [],
   "source": [
    "%matplotlib inline\n",
    "\n",
    "\n",
    "unique, counts = np.unique(college_data[\"Elite\"], return_counts = True)\n",
    "unique = ''.join(str(e) for e in unique)\n",
    "plot_data = dict(zip(unique, counts))\n",
    "\n",
    "names = list(plot_data.keys())\n",
    "values = list(plot_data.values())\n",
    "\n",
    "fig, axs = plt.subplots(1, 1, figsize = (5, 6))\n",
    "axs.bar(names, values)\n",
    "fig.suptitle('Distribuição dos dados da variável resposta (Elite)')"
   ]
  },
  {
   "cell_type": "markdown",
   "metadata": {},
   "source": [
    "Com o gráfico acima podemos perceber como a variável resposta apresenta classes (0, 1) com frequência nos dados desbalanceada. Isso deve ser observado nos modelos feitos a seguir."
   ]
  },
  {
   "cell_type": "markdown",
   "metadata": {},
   "source": [
    "Separação entre *features* e *target*"
   ]
  },
  {
   "cell_type": "code",
   "execution_count": null,
   "metadata": {},
   "outputs": [],
   "source": [
    "features_college = college_data.drop(columns = {\"Inst.Name\", \"Elite\"})\n",
    "target_college = college_data[\"Elite\"]"
   ]
  },
  {
   "cell_type": "markdown",
   "metadata": {},
   "source": [
    "Foi feita a padronização das *features*"
   ]
  },
  {
   "cell_type": "code",
   "execution_count": null,
   "metadata": {},
   "outputs": [],
   "source": [
    "scaler = StandardScaler()\n",
    "features_college_scaled = scaler.fit_transform(features_college)"
   ]
  },
  {
   "cell_type": "markdown",
   "metadata": {},
   "source": [
    "Aplicamos o método K-vizinhos"
   ]
  },
  {
   "cell_type": "code",
   "execution_count": null,
   "metadata": {},
   "outputs": [],
   "source": [
    "neigh_college = KNeighborsClassifier(n_neighbors=5)\n",
    "neigh_college.fit(features_college_scaled, target_college);\n",
    "\n",
    "# Validação cruzada com método 10-fold\n",
    "print(\"Dados normalizados:\")\n",
    "score = cross_val_score(neigh_college, features_college_scaled, target_college, cv = 10, scoring = \"accuracy\")\n",
    "print(\"Acurácia: \", score, \"Média: \", np.mean(score))\n",
    "score = cross_val_score(neigh_college, features_college_scaled, target_college, cv = 10, scoring = \"recall\")\n",
    "print(\"Recall: \", score, \"Média: \", np.mean(score))\n",
    "score = cross_val_score(neigh_college, features_college_scaled, target_college, cv = 10, scoring = \"precision\")\n",
    "print(\"Precison: \", score, \"Média: \", np.mean(score))\n",
    "score = cross_val_score(neigh_college, features_college_scaled, target_college, cv = 10, scoring = \"f1\")\n",
    "print(\"f1: \", score, \"Média: \", np.mean(score))\n",
    "\n",
    "print(\"\\n\")\n",
    "print(\"Dados originais:\")\n",
    "score = cross_val_score(neigh_college, features_college, target_college, cv = 10, scoring = \"accuracy\")\n",
    "print(\"Acurácia: \", score, \"Média: \", np.mean(score))\n",
    "score = cross_val_score(neigh_college, features_college, target_college, cv = 10, scoring = \"recall\")\n",
    "print(\"Recall: \", score, \"Média: \", np.mean(score))\n",
    "score = cross_val_score(neigh_college, features_college, target_college, cv = 10, scoring = \"precision\")\n",
    "print(\"Precison: \", score, \"Média: \", np.mean(score))\n",
    "score = cross_val_score(neigh_college, features_college, target_college, cv = 10, scoring = \"f1\")\n",
    "print(\"f1: \", score, \"Média: \", np.mean(score))"
   ]
  },
  {
   "cell_type": "markdown",
   "metadata": {},
   "source": [
    "Como podemos ver com os resultados acima conseguimos resultados melhores com a normalização das *features*. \n",
    "\n",
    "Podemos perceber também que a medida de acurácia pode ser enganosa já que, neste caso, temos classes bem desbalanceadas. Por isso as medidas *recall*, *precision* e *f1* são mais interessantes para a situação."
   ]
  },
  {
   "cell_type": "markdown",
   "metadata": {},
   "source": [
    "Aplicamos Naive Bayes"
   ]
  },
  {
   "cell_type": "code",
   "execution_count": null,
   "metadata": {},
   "outputs": [],
   "source": [
    "gaussian_nb_college = GaussianNB()\n",
    "gaussian_nb_college.fit(features_college, target_college);\n",
    "\n",
    "# Validação cruzada com método 10-fold\n",
    "score = cross_val_score(gaussian_nb_college, features_college, target_college, cv = 10, scoring = \"accuracy\")\n",
    "print(\"Acurácia: \", score, \"Média: \", np.mean(score))\n",
    "score = cross_val_score(gaussian_nb_college, features_college, target_college, cv = 10, scoring = \"recall\")\n",
    "print(\"Recall: \", score, \"Média: \", np.mean(score))\n",
    "score = cross_val_score(gaussian_nb_college, features_college, target_college, cv = 10, scoring = \"precision\")\n",
    "print(\"Precison: \", score, \"Média: \", np.mean(score))\n",
    "score = cross_val_score(gaussian_nb_college, features_college, target_college, cv = 10, scoring = \"f1\")\n",
    "print(\"f1: \", score, \"Média: \", np.mean(score))"
   ]
  },
  {
   "cell_type": "markdown",
   "metadata": {},
   "source": [
    "Com o *Naive Bayes Gaussiano* não precisamos normalizar as *features*.\n",
    "\n",
    "Podemos perceber com as métricas apresentadas acima que os resultados obtidos com o método de *Naive Bayes* foram melhores pela métrica *recall*. Esta métrica representa a proporção de classificações 1 corretamente identificadas pelo modelo dentre todas as verdadeiras classificações 1 nos dados, essa medida, em geral é muito importante e um incremento nela é algo significativo. Já na métrica *precision* tivemos uma piora em relação ao modelo k-vizinhos. Esta métrica representa a proporção de classificações 1 feitas pelo modelo que realmente são classificações 1 nos dados."
   ]
  },
  {
   "cell_type": "markdown",
   "metadata": {},
   "source": [
    "### Problema 4"
   ]
  },
  {
   "cell_type": "code",
   "execution_count": 12,
   "metadata": {},
   "outputs": [
    {
     "data": {
      "text/html": [
       "<div>\n",
       "<style scoped>\n",
       "    .dataframe tbody tr th:only-of-type {\n",
       "        vertical-align: middle;\n",
       "    }\n",
       "\n",
       "    .dataframe tbody tr th {\n",
       "        vertical-align: top;\n",
       "    }\n",
       "\n",
       "    .dataframe thead th {\n",
       "        text-align: right;\n",
       "    }\n",
       "</style>\n",
       "<table border=\"1\" class=\"dataframe\">\n",
       "  <thead>\n",
       "    <tr style=\"text-align: right;\">\n",
       "      <th></th>\n",
       "      <th>crim</th>\n",
       "      <th>zn</th>\n",
       "      <th>indus</th>\n",
       "      <th>chas</th>\n",
       "      <th>nox</th>\n",
       "      <th>rm</th>\n",
       "      <th>age</th>\n",
       "      <th>dis</th>\n",
       "      <th>rad</th>\n",
       "      <th>tax</th>\n",
       "      <th>ptratio</th>\n",
       "      <th>black</th>\n",
       "      <th>lstat</th>\n",
       "      <th>medv</th>\n",
       "    </tr>\n",
       "  </thead>\n",
       "  <tbody>\n",
       "    <tr>\n",
       "      <th>0</th>\n",
       "      <td>0.00632</td>\n",
       "      <td>18.0</td>\n",
       "      <td>2.31</td>\n",
       "      <td>0</td>\n",
       "      <td>0.538</td>\n",
       "      <td>6.575</td>\n",
       "      <td>65.2</td>\n",
       "      <td>4.0900</td>\n",
       "      <td>1</td>\n",
       "      <td>296</td>\n",
       "      <td>15.3</td>\n",
       "      <td>396.90</td>\n",
       "      <td>4.98</td>\n",
       "      <td>24.0</td>\n",
       "    </tr>\n",
       "    <tr>\n",
       "      <th>1</th>\n",
       "      <td>0.02731</td>\n",
       "      <td>0.0</td>\n",
       "      <td>7.07</td>\n",
       "      <td>0</td>\n",
       "      <td>0.469</td>\n",
       "      <td>6.421</td>\n",
       "      <td>78.9</td>\n",
       "      <td>4.9671</td>\n",
       "      <td>2</td>\n",
       "      <td>242</td>\n",
       "      <td>17.8</td>\n",
       "      <td>396.90</td>\n",
       "      <td>9.14</td>\n",
       "      <td>21.6</td>\n",
       "    </tr>\n",
       "    <tr>\n",
       "      <th>2</th>\n",
       "      <td>0.02729</td>\n",
       "      <td>0.0</td>\n",
       "      <td>7.07</td>\n",
       "      <td>0</td>\n",
       "      <td>0.469</td>\n",
       "      <td>7.185</td>\n",
       "      <td>61.1</td>\n",
       "      <td>4.9671</td>\n",
       "      <td>2</td>\n",
       "      <td>242</td>\n",
       "      <td>17.8</td>\n",
       "      <td>392.83</td>\n",
       "      <td>4.03</td>\n",
       "      <td>34.7</td>\n",
       "    </tr>\n",
       "    <tr>\n",
       "      <th>3</th>\n",
       "      <td>0.03237</td>\n",
       "      <td>0.0</td>\n",
       "      <td>2.18</td>\n",
       "      <td>0</td>\n",
       "      <td>0.458</td>\n",
       "      <td>6.998</td>\n",
       "      <td>45.8</td>\n",
       "      <td>6.0622</td>\n",
       "      <td>3</td>\n",
       "      <td>222</td>\n",
       "      <td>18.7</td>\n",
       "      <td>394.63</td>\n",
       "      <td>2.94</td>\n",
       "      <td>33.4</td>\n",
       "    </tr>\n",
       "    <tr>\n",
       "      <th>4</th>\n",
       "      <td>0.06905</td>\n",
       "      <td>0.0</td>\n",
       "      <td>2.18</td>\n",
       "      <td>0</td>\n",
       "      <td>0.458</td>\n",
       "      <td>7.147</td>\n",
       "      <td>54.2</td>\n",
       "      <td>6.0622</td>\n",
       "      <td>3</td>\n",
       "      <td>222</td>\n",
       "      <td>18.7</td>\n",
       "      <td>396.90</td>\n",
       "      <td>5.33</td>\n",
       "      <td>36.2</td>\n",
       "    </tr>\n",
       "  </tbody>\n",
       "</table>\n",
       "</div>"
      ],
      "text/plain": [
       "      crim    zn  indus  chas    nox     rm   age     dis  rad  tax  ptratio  \\\n",
       "0  0.00632  18.0   2.31     0  0.538  6.575  65.2  4.0900    1  296     15.3   \n",
       "1  0.02731   0.0   7.07     0  0.469  6.421  78.9  4.9671    2  242     17.8   \n",
       "2  0.02729   0.0   7.07     0  0.469  7.185  61.1  4.9671    2  242     17.8   \n",
       "3  0.03237   0.0   2.18     0  0.458  6.998  45.8  6.0622    3  222     18.7   \n",
       "4  0.06905   0.0   2.18     0  0.458  7.147  54.2  6.0622    3  222     18.7   \n",
       "\n",
       "    black  lstat  medv  \n",
       "0  396.90   4.98  24.0  \n",
       "1  396.90   9.14  21.6  \n",
       "2  392.83   4.03  34.7  \n",
       "3  394.63   2.94  33.4  \n",
       "4  396.90   5.33  36.2  "
      ]
     },
     "execution_count": 12,
     "metadata": {},
     "output_type": "execute_result"
    }
   ],
   "source": [
    "boston_data = pd.read_csv(\"data/Boston.csv\", sep = \";\", decimal = \",\")\n",
    "boston_data.head(5)"
   ]
  },
  {
   "cell_type": "markdown",
   "metadata": {},
   "source": [
    "###### Visualização da variável resposta"
   ]
  },
  {
   "cell_type": "code",
   "execution_count": 13,
   "metadata": {},
   "outputs": [
    {
     "data": {
      "text/plain": [
       "(array([ 21.,  55.,  82., 154.,  84.,  41.,  30.,   8.,  10.,  21.]),\n",
       " array([ 5. ,  9.5, 14. , 18.5, 23. , 27.5, 32. , 36.5, 41. , 45.5, 50. ]),\n",
       " <BarContainer object of 10 artists>)"
      ]
     },
     "execution_count": 13,
     "metadata": {},
     "output_type": "execute_result"
    },
    {
     "data": {
      "image/png": "[encoded data removed]",
      "text/plain": [
       "<Figure size 432x288 with 1 Axes>"
      ]
     },
     "metadata": {
      "needs_background": "light"
     },
     "output_type": "display_data"
    }
   ],
   "source": [
    "%matplotlib inline\n",
    "\n",
    "plt.hist(boston_data[\"medv\"])"
   ]
  },
  {
   "cell_type": "markdown",
   "metadata": {},
   "source": [
    "A partir do histograma da variável resposta *medv*, observa-se que sua distribuição assemelha-se com uma normal, com valores mais frequentes no intervalo central e frequência reduzida nas caudas. "
   ]
  },
  {
   "cell_type": "markdown",
   "metadata": {},
   "source": [
    "###### Separação entre features e target e Padronização das features"
   ]
  },
  {
   "cell_type": "code",
   "execution_count": 14,
   "metadata": {},
   "outputs": [],
   "source": [
    "# Separação do Banco\n",
    "features_boston = boston_data.drop(columns = {\"medv\"})\n",
    "target_boston = boston_data[\"medv\"]\n",
    "# Padronização das Features\n",
    "scaler = StandardScaler()\n",
    "features_boston_scaled = scaler.fit_transform(features_boston)"
   ]
  },
  {
   "cell_type": "markdown",
   "metadata": {},
   "source": [
    "###### Separação do conjunto de treinamento (80%) e do conjunto de teste (20%)"
   ]
  },
  {
   "cell_type": "code",
   "execution_count": 15,
   "metadata": {},
   "outputs": [],
   "source": [
    "features_boston_train, features_boston_test, target_boston_train, target_boston_test = \\\n",
    "    train_test_split(features_boston_scaled, target_boston, test_size = 0.2, random_state = 42)"
   ]
  },
  {
   "cell_type": "markdown",
   "metadata": {},
   "source": [
    "###### Ajuste e Resultado do Primeiro Trabalho"
   ]
  },
  {
   "cell_type": "code",
   "execution_count": 16,
   "metadata": {},
   "outputs": [
    {
     "name": "stdout",
     "output_type": "stream",
     "text": [
      "R^2:  0.668759493535632\n",
      "\n",
      "\n",
      "Intercepto 22.485268239316902\n",
      "crim -0.9714942298153079\n",
      "zn 0.7015556186825159\n",
      "indus 0.2767521175609763\n",
      "chas 0.7065315219738251\n",
      "nox -1.9914304346295517\n",
      "rm 3.11571836395898\n",
      "age -0.17706020680903295\n",
      "dis -3.0457706454104887\n",
      "rad 2.2827847127887217\n",
      "tax -1.7926046757521554\n",
      "ptratio -1.9799535094590683\n",
      "black 1.1264986355572144\n",
      "lstat -3.6281493743713633\n",
      "\n",
      "\n",
      "EQM Conjunto Teste:  24.29\n"
     ]
    }
   ],
   "source": [
    "lr_boston = LinearRegression()\n",
    "modelo_lr_boston =lr_boston.fit(features_boston_train, target_boston_train);\n",
    "\n",
    "# Validação\n",
    "print(\"R^2: \", modelo_lr_boston.score(features_boston_test, target_boston_test))\n",
    "\n",
    "print(\"\\n\")\n",
    "\n",
    "print(\"Intercepto\", modelo_lr_boston.intercept_)\n",
    "for i in range(len(modelo_lr_boston.coef_)):\n",
    "    print(boston_data.columns[i], modelo_lr_boston.coef_[i])\n",
    "\n",
    "print(\"\\n\")\n",
    "    \n",
    "target_predicted = modelo_lr_boston.predict(features_boston_test)\n",
    "print(\"EQM Conjunto Teste: \",round(mean_squared_error(target_boston_test, target_predicted),2))"
   ]
  },
  {
   "cell_type": "markdown",
   "metadata": {},
   "source": [
    "###### Ajuste Árvore de Decisão"
   ]
  },
  {
   "cell_type": "code",
   "execution_count": 17,
   "metadata": {},
   "outputs": [
    {
     "name": "stdout",
     "output_type": "stream",
     "text": [
      "Escore Variância Explicada:0.87\n",
      "MAE: 2.30\n",
      "R^2: 0.87\n",
      "EQM Conjunto Teste:  9.58\n"
     ]
    }
   ],
   "source": [
    "decisiontree = DecisionTreeRegressor(random_state=0)\n",
    "arv_dec_boston = decisiontree.fit(features_boston_train, target_boston_train)\n",
    "\n",
    "pred_arv_dec_boston = arv_dec_boston.predict(features_boston_test)\n",
    "\n",
    "explained_variance = explained_variance_score(target_boston_test, pred_arv_dec_boston)\n",
    "print('Escore Variância Explicada:{0:0.2f}'.format(explained_variance))\n",
    "\n",
    "mae= mean_absolute_error(target_boston_test, pred_arv_dec_boston)\n",
    "print('MAE: {0:0.2f}'.format(mae))\n",
    "\n",
    "r2score = r2_score(target_boston_test, pred_arv_dec_boston)\n",
    "print('R^2: {0:0.2f}'.format(r2score))\n",
    "\n",
    "print(\"EQM Conjunto Teste: \",round(mean_squared_error(target_boston_test, pred_arv_dec_boston),2))"
   ]
  },
  {
   "cell_type": "markdown",
   "metadata": {},
   "source": [
    "###### Ajuste Floresta Aleatória"
   ]
  },
  {
   "cell_type": "code",
   "execution_count": 18,
   "metadata": {},
   "outputs": [
    {
     "name": "stdout",
     "output_type": "stream",
     "text": [
      "Escore Variância Explicada: 0.86\n",
      "MAE: 2.27\n",
      "R^2: 0.86\n",
      "EQM Conjunto Teste: 10.35\n"
     ]
    },
    {
     "name": "stderr",
     "output_type": "stream",
     "text": [
      "C:\\Users\\Laura\\Anaconda3\\lib\\site-packages\\sklearn\\ensemble\\base.py:157: DeprecationWarning: `np.int` is a deprecated alias for the builtin `int`. To silence this warning, use `int` by itself. Doing this will not modify any behavior and is safe. When replacing `np.int`, you may wish to use e.g. `np.int64` or `np.int32` to specify the precision. If you wish to review your current use, check the release note link for additional information.\n",
      "Deprecated in NumPy 1.20; for more details and guidance: https://numpy.org/devdocs/release/1.20.0-notes.html#deprecations\n",
      "  dtype=np.int)\n"
     ]
    }
   ],
   "source": [
    "randomforest = RandomForestRegressor(random_state=0, n_jobs=-1)\n",
    "rand_for_boston = randomforest.fit(features_boston_train, target_boston_train)\n",
    "\n",
    "pred_rand_for_boston = rand_for_boston.predict(features_boston_test)\n",
    "\n",
    "explained_variance = explained_variance_score(target_boston_test, pred_rand_for_boston)\n",
    "print('Escore Variância Explicada: {0:0.2f}'.format(explained_variance))\n",
    "\n",
    "mae = mean_absolute_error(target_boston_test, pred_rand_for_boston)\n",
    "print('MAE: {0:0.2f}'.format(mae))\n",
    "\n",
    "r2score = r2_score(target_boston_test,pred_rand_for_boston)\n",
    "print('R^2: {0:0.2f}'.format(r2score))\n",
    "\n",
    "print(\"EQM Conjunto Teste:\",round(mean_squared_error(target_boston_test, pred_rand_for_boston),2))"
   ]
  },
  {
   "cell_type": "markdown",
   "metadata": {},
   "source": [
    "###### Ajuste SVM"
   ]
  },
  {
   "cell_type": "code",
   "execution_count": 19,
   "metadata": {},
   "outputs": [
    {
     "name": "stdout",
     "output_type": "stream",
     "text": [
      "Escore Variância Explicada:0.63\n",
      "MAE: 3.10\n",
      "R^2: 0.61\n",
      "EQM Conjunto Teste:  28.9\n"
     ]
    }
   ],
   "source": [
    "svm = SVR(kernel=\"linear\")\n",
    "svm_boston = svm.fit(features_boston_train, target_boston_train)\n",
    "\n",
    "pred_svm_boston = svm_boston.predict(features_boston_test)\n",
    "\n",
    "explained_variance = explained_variance_score(target_boston_test, pred_svm_boston)\n",
    "print('Escore Variância Explicada:{0:0.2f}'.format(explained_variance))\n",
    "\n",
    "mae= mean_absolute_error(target_boston_test, pred_svm_boston)\n",
    "print('MAE: {0:0.2f}'.format(mae))\n",
    "\n",
    "r2score = r2_score(target_boston_test,pred_svm_boston)\n",
    "print('R^2: {0:0.2f}'.format(r2score))\n",
    "\n",
    "print(\"EQM Conjunto Teste: \",round(mean_squared_error(target_boston_test,pred_svm_boston),2))"
   ]
  },
  {
   "cell_type": "markdown",
   "metadata": {},
   "source": [
    "###### Comparação e Análise dos Resultados"
   ]
  },
  {
   "cell_type": "markdown",
   "metadata": {},
   "source": [
    "Nota-se que, os modelos ajustados via árvore de decisão e floresta aleatória obtiveram melhor valores do R2 se comparado com os valores obtidos na regressão linear feito anteriormente e no SVM para regressão aplicado agora. Comparando as métricas calculadas para os dois melhores modelos (árvore de decisão e a floresta aleatória), é possível observar que eles possuem valores muito próximos, porém, além da árvore possuir uma R2 um pouco mais alto e um erro quadrático médio menor, ela possui como vantagem a sua interpretabilidade, portanto vai ser usada como referência de melhor modelo.\n",
    "\n",
    "Abaixo, tem-se o gráfico com a importância de cada uma das covariáveis para a contrução desse modelo. A variável com maior importância é *rm*, que destaca-se muito em relação as demais, seguidas das covariáveis *lstat* e *dis*."
   ]
  },
  {
   "cell_type": "code",
   "execution_count": 20,
   "metadata": {},
   "outputs": [
    {
     "data": {
      "image/png": "[encoded data removed]",
      "text/plain": [
       "<Figure size 432x288 with 1 Axes>"
      ]
     },
     "metadata": {
      "needs_background": "light"
     },
     "output_type": "display_data"
    }
   ],
   "source": [
    "importances = arv_dec_boston.feature_importances_\n",
    "indices = np.argsort(importances)[::-1]\n",
    "names = [boston_data.columns.tolist()[i] for i in indices]\n",
    "plt.figure()\n",
    "plt.title(\"Importância das Variáveis\")\n",
    "plt.bar(range(features_boston_train.shape[1]),\n",
    "importances[indices])\n",
    "plt.xticks(range(features_boston_train.shape[1]), names,rotation=90)\n",
    "plt.show()"
   ]
  },
  {
   "cell_type": "markdown",
   "metadata": {},
   "source": [
    "### Problema 5"
   ]
  },
  {
   "cell_type": "code",
   "execution_count": 30,
   "metadata": {},
   "outputs": [
    {
     "data": {
      "text/html": [
       "<div>\n",
       "<style scoped>\n",
       "    .dataframe tbody tr th:only-of-type {\n",
       "        vertical-align: middle;\n",
       "    }\n",
       "\n",
       "    .dataframe tbody tr th {\n",
       "        vertical-align: top;\n",
       "    }\n",
       "\n",
       "    .dataframe thead th {\n",
       "        text-align: right;\n",
       "    }\n",
       "</style>\n",
       "<table border=\"1\" class=\"dataframe\">\n",
       "  <thead>\n",
       "    <tr style=\"text-align: right;\">\n",
       "      <th></th>\n",
       "      <th>IDADE</th>\n",
       "      <th>TP_SEXO</th>\n",
       "      <th>ST_CONCLUSAO</th>\n",
       "      <th>IN_TP_ENSINO</th>\n",
       "      <th>IN_CERTIFICADO</th>\n",
       "      <th>TP_ESTADO_CIVIL</th>\n",
       "      <th>TP_LINGUA</th>\n",
       "      <th>Q01</th>\n",
       "      <th>Q02</th>\n",
       "      <th>Q03</th>\n",
       "      <th>...</th>\n",
       "      <th>Q25</th>\n",
       "      <th>Q26</th>\n",
       "      <th>Q27</th>\n",
       "      <th>Q28</th>\n",
       "      <th>Q29</th>\n",
       "      <th>Q30</th>\n",
       "      <th>Q31</th>\n",
       "      <th>Q32</th>\n",
       "      <th>Q33</th>\n",
       "      <th>NU_NT_CN</th>\n",
       "    </tr>\n",
       "  </thead>\n",
       "  <tbody>\n",
       "    <tr>\n",
       "      <th>0</th>\n",
       "      <td>20</td>\n",
       "      <td>M</td>\n",
       "      <td>3</td>\n",
       "      <td></td>\n",
       "      <td>1</td>\n",
       "      <td>0</td>\n",
       "      <td>1</td>\n",
       "      <td>A</td>\n",
       "      <td>C</td>\n",
       "      <td>B</td>\n",
       "      <td>...</td>\n",
       "      <td>4</td>\n",
       "      <td>5</td>\n",
       "      <td>4</td>\n",
       "      <td>E</td>\n",
       "      <td>A</td>\n",
       "      <td>A</td>\n",
       "      <td>F</td>\n",
       "      <td>B</td>\n",
       "      <td>A</td>\n",
       "      <td></td>\n",
       "    </tr>\n",
       "    <tr>\n",
       "      <th>1</th>\n",
       "      <td>31</td>\n",
       "      <td>F</td>\n",
       "      <td>1</td>\n",
       "      <td>1</td>\n",
       "      <td>0</td>\n",
       "      <td>1</td>\n",
       "      <td>0</td>\n",
       "      <td>A</td>\n",
       "      <td>A</td>\n",
       "      <td>A</td>\n",
       "      <td>...</td>\n",
       "      <td>5</td>\n",
       "      <td>5</td>\n",
       "      <td>5</td>\n",
       "      <td>D</td>\n",
       "      <td>A</td>\n",
       "      <td>A</td>\n",
       "      <td>B</td>\n",
       "      <td>B</td>\n",
       "      <td>A</td>\n",
       "      <td></td>\n",
       "    </tr>\n",
       "    <tr>\n",
       "      <th>2</th>\n",
       "      <td>27</td>\n",
       "      <td>F</td>\n",
       "      <td>1</td>\n",
       "      <td>1</td>\n",
       "      <td>0</td>\n",
       "      <td>1</td>\n",
       "      <td>0</td>\n",
       "      <td>A</td>\n",
       "      <td>C</td>\n",
       "      <td>C</td>\n",
       "      <td>...</td>\n",
       "      <td>5</td>\n",
       "      <td>0</td>\n",
       "      <td>5</td>\n",
       "      <td>A</td>\n",
       "      <td>A</td>\n",
       "      <td>A</td>\n",
       "      <td>B</td>\n",
       "      <td>A</td>\n",
       "      <td>A</td>\n",
       "      <td></td>\n",
       "    </tr>\n",
       "    <tr>\n",
       "      <th>3</th>\n",
       "      <td>19</td>\n",
       "      <td>F</td>\n",
       "      <td>1</td>\n",
       "      <td>1</td>\n",
       "      <td>0</td>\n",
       "      <td>0</td>\n",
       "      <td>1</td>\n",
       "      <td>B</td>\n",
       "      <td>A</td>\n",
       "      <td>I</td>\n",
       "      <td>...</td>\n",
       "      <td>5</td>\n",
       "      <td>4</td>\n",
       "      <td>4</td>\n",
       "      <td>B</td>\n",
       "      <td>A</td>\n",
       "      <td>A</td>\n",
       "      <td>B</td>\n",
       "      <td>A</td>\n",
       "      <td>A</td>\n",
       "      <td>342.3</td>\n",
       "    </tr>\n",
       "    <tr>\n",
       "      <th>4</th>\n",
       "      <td>26</td>\n",
       "      <td>F</td>\n",
       "      <td>1</td>\n",
       "      <td>1</td>\n",
       "      <td>0</td>\n",
       "      <td>0</td>\n",
       "      <td>1</td>\n",
       "      <td>A</td>\n",
       "      <td>I</td>\n",
       "      <td>B</td>\n",
       "      <td>...</td>\n",
       "      <td>5</td>\n",
       "      <td>0</td>\n",
       "      <td>5</td>\n",
       "      <td>C</td>\n",
       "      <td>A</td>\n",
       "      <td>A</td>\n",
       "      <td>D</td>\n",
       "      <td>B</td>\n",
       "      <td>A</td>\n",
       "      <td>411.6</td>\n",
       "    </tr>\n",
       "  </tbody>\n",
       "</table>\n",
       "<p>5 rows × 26 columns</p>\n",
       "</div>"
      ],
      "text/plain": [
       "   IDADE TP_SEXO  ST_CONCLUSAO IN_TP_ENSINO IN_CERTIFICADO  TP_ESTADO_CIVIL  \\\n",
       "0     20       M             3                           1                0   \n",
       "1     31       F             1            1              0                1   \n",
       "2     27       F             1            1              0                1   \n",
       "3     19       F             1            1              0                0   \n",
       "4     26       F             1            1              0                0   \n",
       "\n",
       "   TP_LINGUA Q01 Q02 Q03   ...    Q25 Q26 Q27 Q28 Q29  Q30  Q31  Q32  Q33  \\\n",
       "0          1   A   C   B   ...      4   5   4   E   A    A    F    B    A   \n",
       "1          0   A   A   A   ...      5   5   5   D   A    A    B    B    A   \n",
       "2          0   A   C   C   ...      5   0   5   A   A    A    B    A    A   \n",
       "3          1   B   A   I   ...      5   4   4   B   A    A    B    A    A   \n",
       "4          1   A   I   B   ...      5   0   5   C   A    A    D    B    A   \n",
       "\n",
       "  NU_NT_CN  \n",
       "0           \n",
       "1           \n",
       "2           \n",
       "3    342.3  \n",
       "4    411.6  \n",
       "\n",
       "[5 rows x 26 columns]"
      ]
     },
     "execution_count": 30,
     "metadata": {},
     "output_type": "execute_result"
    }
   ],
   "source": [
    "enem_data_na = pd.read_csv(\"data/DadosEnemCandidatosMG.csv\", sep = \";\", decimal = \",\")\n",
    "enem_data_na.head(5)"
   ]
  },
  {
   "cell_type": "code",
   "execution_count": 31,
   "metadata": {},
   "outputs": [
    {
     "data": {
      "text/plain": [
       "(382179, 26)"
      ]
     },
     "execution_count": 31,
     "metadata": {},
     "output_type": "execute_result"
    }
   ],
   "source": [
    "enem_data_na.shape"
   ]
  },
  {
   "cell_type": "markdown",
   "metadata": {},
   "source": [
    "A partir da visualização dos dados inicial é possível notar que esse banco de dados possui NAs, tanto em algumas covariáveis quanto na variável resposta. Como o objetivo principal do trabalho é avaliar diferentes modelos para prever a nota final dos candidatos e o banco de dados possui informações de muitos candidatos, optou-se por descartar as linhas com valores faltantes."
   ]
  },
  {
   "cell_type": "code",
   "execution_count": 32,
   "metadata": {},
   "outputs": [
    {
     "data": {
      "text/html": [
       "<div>\n",
       "<style scoped>\n",
       "    .dataframe tbody tr th:only-of-type {\n",
       "        vertical-align: middle;\n",
       "    }\n",
       "\n",
       "    .dataframe tbody tr th {\n",
       "        vertical-align: top;\n",
       "    }\n",
       "\n",
       "    .dataframe thead th {\n",
       "        text-align: right;\n",
       "    }\n",
       "</style>\n",
       "<table border=\"1\" class=\"dataframe\">\n",
       "  <thead>\n",
       "    <tr style=\"text-align: right;\">\n",
       "      <th></th>\n",
       "      <th>IDADE</th>\n",
       "      <th>TP_SEXO</th>\n",
       "      <th>ST_CONCLUSAO</th>\n",
       "      <th>IN_TP_ENSINO</th>\n",
       "      <th>IN_CERTIFICADO</th>\n",
       "      <th>TP_ESTADO_CIVIL</th>\n",
       "      <th>TP_LINGUA</th>\n",
       "      <th>Q01</th>\n",
       "      <th>Q02</th>\n",
       "      <th>Q03</th>\n",
       "      <th>...</th>\n",
       "      <th>Q25</th>\n",
       "      <th>Q26</th>\n",
       "      <th>Q27</th>\n",
       "      <th>Q28</th>\n",
       "      <th>Q29</th>\n",
       "      <th>Q30</th>\n",
       "      <th>Q31</th>\n",
       "      <th>Q32</th>\n",
       "      <th>Q33</th>\n",
       "      <th>NU_NT_CN</th>\n",
       "    </tr>\n",
       "  </thead>\n",
       "  <tbody>\n",
       "    <tr>\n",
       "      <th>3</th>\n",
       "      <td>19</td>\n",
       "      <td>F</td>\n",
       "      <td>1</td>\n",
       "      <td>1</td>\n",
       "      <td>0</td>\n",
       "      <td>0</td>\n",
       "      <td>1</td>\n",
       "      <td>B</td>\n",
       "      <td>A</td>\n",
       "      <td>I</td>\n",
       "      <td>...</td>\n",
       "      <td>5</td>\n",
       "      <td>4</td>\n",
       "      <td>4</td>\n",
       "      <td>B</td>\n",
       "      <td>A</td>\n",
       "      <td>A</td>\n",
       "      <td>B</td>\n",
       "      <td>A</td>\n",
       "      <td>A</td>\n",
       "      <td>342.3</td>\n",
       "    </tr>\n",
       "    <tr>\n",
       "      <th>4</th>\n",
       "      <td>26</td>\n",
       "      <td>F</td>\n",
       "      <td>1</td>\n",
       "      <td>1</td>\n",
       "      <td>0</td>\n",
       "      <td>0</td>\n",
       "      <td>1</td>\n",
       "      <td>A</td>\n",
       "      <td>I</td>\n",
       "      <td>B</td>\n",
       "      <td>...</td>\n",
       "      <td>5</td>\n",
       "      <td>0</td>\n",
       "      <td>5</td>\n",
       "      <td>C</td>\n",
       "      <td>A</td>\n",
       "      <td>A</td>\n",
       "      <td>D</td>\n",
       "      <td>B</td>\n",
       "      <td>A</td>\n",
       "      <td>411.6</td>\n",
       "    </tr>\n",
       "    <tr>\n",
       "      <th>6</th>\n",
       "      <td>24</td>\n",
       "      <td>F</td>\n",
       "      <td>1</td>\n",
       "      <td>1</td>\n",
       "      <td>0</td>\n",
       "      <td>0</td>\n",
       "      <td>0</td>\n",
       "      <td>B</td>\n",
       "      <td>A</td>\n",
       "      <td>A</td>\n",
       "      <td>...</td>\n",
       "      <td>5</td>\n",
       "      <td>2</td>\n",
       "      <td>5</td>\n",
       "      <td>A</td>\n",
       "      <td>A</td>\n",
       "      <td>A</td>\n",
       "      <td>B</td>\n",
       "      <td>A</td>\n",
       "      <td>A</td>\n",
       "      <td>397.8</td>\n",
       "    </tr>\n",
       "    <tr>\n",
       "      <th>7</th>\n",
       "      <td>30</td>\n",
       "      <td>F</td>\n",
       "      <td>1</td>\n",
       "      <td>1</td>\n",
       "      <td>0</td>\n",
       "      <td>1</td>\n",
       "      <td>1</td>\n",
       "      <td>A</td>\n",
       "      <td>A</td>\n",
       "      <td>A</td>\n",
       "      <td>...</td>\n",
       "      <td>5</td>\n",
       "      <td>0</td>\n",
       "      <td>5</td>\n",
       "      <td>C</td>\n",
       "      <td>A</td>\n",
       "      <td>A</td>\n",
       "      <td>A</td>\n",
       "      <td>A</td>\n",
       "      <td>A</td>\n",
       "      <td>461.8</td>\n",
       "    </tr>\n",
       "    <tr>\n",
       "      <th>8</th>\n",
       "      <td>29</td>\n",
       "      <td>M</td>\n",
       "      <td>1</td>\n",
       "      <td>1</td>\n",
       "      <td>0</td>\n",
       "      <td>1</td>\n",
       "      <td>1</td>\n",
       "      <td>B</td>\n",
       "      <td>B</td>\n",
       "      <td>A</td>\n",
       "      <td>...</td>\n",
       "      <td>5</td>\n",
       "      <td>5</td>\n",
       "      <td>5</td>\n",
       "      <td>F</td>\n",
       "      <td>A</td>\n",
       "      <td>A</td>\n",
       "      <td>B</td>\n",
       "      <td>A</td>\n",
       "      <td>A</td>\n",
       "      <td>566.8</td>\n",
       "    </tr>\n",
       "  </tbody>\n",
       "</table>\n",
       "<p>5 rows × 26 columns</p>\n",
       "</div>"
      ],
      "text/plain": [
       "   IDADE TP_SEXO  ST_CONCLUSAO IN_TP_ENSINO IN_CERTIFICADO  TP_ESTADO_CIVIL  \\\n",
       "3     19       F             1            1              0                0   \n",
       "4     26       F             1            1              0                0   \n",
       "6     24       F             1            1              0                0   \n",
       "7     30       F             1            1              0                1   \n",
       "8     29       M             1            1              0                1   \n",
       "\n",
       "   TP_LINGUA Q01 Q02 Q03   ...    Q25 Q26 Q27 Q28 Q29  Q30  Q31  Q32  Q33  \\\n",
       "3          1   B   A   I   ...      5   4   4   B   A    A    B    A    A   \n",
       "4          1   A   I   B   ...      5   0   5   C   A    A    D    B    A   \n",
       "6          0   B   A   A   ...      5   2   5   A   A    A    B    A    A   \n",
       "7          1   A   A   A   ...      5   0   5   C   A    A    A    A    A   \n",
       "8          1   B   B   A   ...      5   5   5   F   A    A    B    A    A   \n",
       "\n",
       "  NU_NT_CN  \n",
       "3    342.3  \n",
       "4    411.6  \n",
       "6    397.8  \n",
       "7    461.8  \n",
       "8    566.8  \n",
       "\n",
       "[5 rows x 26 columns]"
      ]
     },
     "execution_count": 32,
     "metadata": {},
     "output_type": "execute_result"
    }
   ],
   "source": [
    "enem_data_na.replace(\" \", pd.NaT, inplace=True)\n",
    "enem_data = enem_data_na.dropna()\n",
    "enem_data.head(5)"
   ]
  },
  {
   "cell_type": "code",
   "execution_count": 33,
   "metadata": {},
   "outputs": [
    {
     "data": {
      "text/plain": [
       "(180638, 26)"
      ]
     },
     "execution_count": 33,
     "metadata": {},
     "output_type": "execute_result"
    }
   ],
   "source": [
    "enem_data.shape"
   ]
  },
  {
   "cell_type": "markdown",
   "metadata": {},
   "source": [
    "Após a remoção de linhas que continham NAs, o tamanho do banco passou de 382179 observações para 180638. O banco continua sendo grande para o ajuste de um modelo para predição da resposta, dessa forma iremos prosseguir o estudo."
   ]
  },
  {
   "cell_type": "markdown",
   "metadata": {},
   "source": [
    "Outro detalhe importante para realizar o ajuste dos modelos é verificar como as variáveis estão sendo interpretadas, isto é, seus tipos. A seguir foram feitas uma série de transformações a fim de que o melhor ajuste possível fosse realizado.\n",
    "\n",
    "* Alteração na codificação de algumas variáveis para aproveitar a sua característica ordinal;\n",
    "* Alteração do tipo de algumas covariáveis para melhor ajuste;\n",
    "* Criação de Variáveis Dummies para representar covariáveis categóricas."
   ]
  },
  {
   "cell_type": "code",
   "execution_count": 34,
   "metadata": {},
   "outputs": [],
   "source": [
    "enem_data = enem_data.replace({\"Q01\": {'A': 1, 'B': 2, 'C': 3, 'D': 4, 'E': 0},\n",
    "                               \"Q04\": {'A':1, 'B': 2, 'C': 3, 'D': 4, 'E': 5, 'F': 6, 'G': 7, 'H': 0},\n",
    "                               \"Q05\": {'A':1, 'B': 2, 'C': 3, 'D': 4, 'E': 5, 'F': 6, 'G': 7, 'H': 0},\n",
    "                               \"Q28\": {'A': 0, 'B': 1, 'C': 2, 'D': 3, 'E': 4, 'F': 5, 'G': 6},\n",
    "                               \"Q29\": {'A': 0, 'B': 1, 'C': 2, 'D': 3, 'E': 4},\n",
    "                               \"Q31\": {'A': 0, 'B': 1, 'C': 2, 'D': 3, 'E': 4, 'F': 5},\n",
    "                               \"Q32\": {'A': 0, 'B': 1, 'C': 2, 'D': 3, 'E': 4}})"
   ]
  },
  {
   "cell_type": "code",
   "execution_count": 35,
   "metadata": {},
   "outputs": [
    {
     "data": {
      "text/plain": [
       "IDADE               int64\n",
       "TP_SEXO            object\n",
       "ST_CONCLUSAO        int64\n",
       "IN_TP_ENSINO       object\n",
       "IN_CERTIFICADO     object\n",
       "TP_ESTADO_CIVIL     int64\n",
       "TP_LINGUA           int64\n",
       "Q01                 int64\n",
       "Q02                object\n",
       "Q03                object\n",
       "Q04                 int64\n",
       "Q05                 int64\n",
       "Q06                object\n",
       "Q07                object\n",
       "Q08                object\n",
       "Q24                 int64\n",
       "Q25                 int64\n",
       "Q26                 int64\n",
       "Q27                 int64\n",
       "Q28                 int64\n",
       "Q29                 int64\n",
       "Q30                object\n",
       "Q31                 int64\n",
       "Q32                 int64\n",
       "Q33                object\n",
       "NU_NT_CN           object\n",
       "dtype: object"
      ]
     },
     "execution_count": 35,
     "metadata": {},
     "output_type": "execute_result"
    }
   ],
   "source": [
    "enem_data.dtypes"
   ]
  },
  {
   "cell_type": "code",
   "execution_count": 36,
   "metadata": {},
   "outputs": [
    {
     "data": {
      "text/plain": [
       "IDADE                  int64\n",
       "ST_CONCLUSAO           int64\n",
       "Q01                    int64\n",
       "Q04                    int64\n",
       "Q05                    int64\n",
       "Q24                    int64\n",
       "Q25                    int64\n",
       "Q26                    int64\n",
       "Q27                    int64\n",
       "Q28                    int64\n",
       "Q29                    int64\n",
       "Q31                    int64\n",
       "Q32                    int64\n",
       "NU_NT_CN             float64\n",
       "TP_SEXO_F              uint8\n",
       "TP_SEXO_M              uint8\n",
       "IN_TP_ENSINO_1         uint8\n",
       "IN_TP_ENSINO_2         uint8\n",
       "IN_TP_ENSINO_3         uint8\n",
       "IN_TP_ENSINO_4         uint8\n",
       "IN_CERTIFICADO_0       uint8\n",
       "IN_CERTIFICADO_1       uint8\n",
       "TP_ESTADO_CIVIL_0      uint8\n",
       "TP_ESTADO_CIVIL_1      uint8\n",
       "TP_ESTADO_CIVIL_2      uint8\n",
       "TP_ESTADO_CIVIL_3      uint8\n",
       "TP_LINGUA_0            uint8\n",
       "TP_LINGUA_1            uint8\n",
       "Q02_A                  uint8\n",
       "Q02_B                  uint8\n",
       "                      ...   \n",
       "Q03_C                  uint8\n",
       "Q03_D                  uint8\n",
       "Q03_E                  uint8\n",
       "Q03_F                  uint8\n",
       "Q03_G                  uint8\n",
       "Q03_H                  uint8\n",
       "Q03_I                  uint8\n",
       "Q06_A                  uint8\n",
       "Q06_B                  uint8\n",
       "Q06_C                  uint8\n",
       "Q07_A                  uint8\n",
       "Q07_B                  uint8\n",
       "Q07_C                  uint8\n",
       "Q07_D                  uint8\n",
       "Q08_A                  uint8\n",
       "Q08_B                  uint8\n",
       "Q30_A                  uint8\n",
       "Q30_B                  uint8\n",
       "Q30_C                  uint8\n",
       "Q30_D                  uint8\n",
       "Q30_E                  uint8\n",
       "Q30_F                  uint8\n",
       "Q30_G                  uint8\n",
       "Q30_H                  uint8\n",
       "Q33_A                  uint8\n",
       "Q33_B                  uint8\n",
       "Q33_E                  uint8\n",
       "Q33_F                  uint8\n",
       "Q33_G                  uint8\n",
       "Q33_H                  uint8\n",
       "Length: 69, dtype: object"
      ]
     },
     "execution_count": 36,
     "metadata": {},
     "output_type": "execute_result"
    }
   ],
   "source": [
    "variavel_tipo = {'TP_SEXO': 'category',\n",
    "                 'IN_TP_ENSINO': 'category',\n",
    "                 'IN_CERTIFICADO': 'category',\n",
    "                 'TP_ESTADO_CIVIL': 'category',\n",
    "                 'TP_LINGUA': 'category',\n",
    "                 'Q02': 'category',\n",
    "                 'Q03': 'category',\n",
    "                 'Q06': 'category',\n",
    "                 'Q07': 'category',\n",
    "                 'Q08': 'category',\n",
    "                 'Q30': 'category',\n",
    "                 'Q33': 'category',\n",
    "                 'NU_NT_CN': 'float'}\n",
    "\n",
    "enem_data = enem_data.astype(variavel_tipo)\n",
    "\n",
    "colunas_categoricas = ['TP_SEXO','IN_TP_ENSINO','IN_CERTIFICADO','TP_ESTADO_CIVIL','TP_LINGUA','Q02','Q03',\n",
    "                       'Q06','Q07','Q08','Q30','Q33']\n",
    "\n",
    "enem_data = pd.get_dummies(enem_data, prefix = colunas_categoricas,\n",
    "                           columns = colunas_categoricas)\n",
    "\n",
    "enem_data.dtypes"
   ]
  },
  {
   "cell_type": "code",
   "execution_count": 37,
   "metadata": {},
   "outputs": [
    {
     "data": {
      "text/html": [
       "<div>\n",
       "<style scoped>\n",
       "    .dataframe tbody tr th:only-of-type {\n",
       "        vertical-align: middle;\n",
       "    }\n",
       "\n",
       "    .dataframe tbody tr th {\n",
       "        vertical-align: top;\n",
       "    }\n",
       "\n",
       "    .dataframe thead th {\n",
       "        text-align: right;\n",
       "    }\n",
       "</style>\n",
       "<table border=\"1\" class=\"dataframe\">\n",
       "  <thead>\n",
       "    <tr style=\"text-align: right;\">\n",
       "      <th></th>\n",
       "      <th>IDADE</th>\n",
       "      <th>ST_CONCLUSAO</th>\n",
       "      <th>Q01</th>\n",
       "      <th>Q04</th>\n",
       "      <th>Q05</th>\n",
       "      <th>Q24</th>\n",
       "      <th>Q25</th>\n",
       "      <th>Q26</th>\n",
       "      <th>Q27</th>\n",
       "      <th>Q28</th>\n",
       "      <th>...</th>\n",
       "      <th>Q30_E</th>\n",
       "      <th>Q30_F</th>\n",
       "      <th>Q30_G</th>\n",
       "      <th>Q30_H</th>\n",
       "      <th>Q33_A</th>\n",
       "      <th>Q33_B</th>\n",
       "      <th>Q33_E</th>\n",
       "      <th>Q33_F</th>\n",
       "      <th>Q33_G</th>\n",
       "      <th>Q33_H</th>\n",
       "    </tr>\n",
       "  </thead>\n",
       "  <tbody>\n",
       "    <tr>\n",
       "      <th>3</th>\n",
       "      <td>19</td>\n",
       "      <td>1</td>\n",
       "      <td>2</td>\n",
       "      <td>1</td>\n",
       "      <td>0</td>\n",
       "      <td>4</td>\n",
       "      <td>5</td>\n",
       "      <td>4</td>\n",
       "      <td>4</td>\n",
       "      <td>1</td>\n",
       "      <td>...</td>\n",
       "      <td>0</td>\n",
       "      <td>0</td>\n",
       "      <td>0</td>\n",
       "      <td>0</td>\n",
       "      <td>1</td>\n",
       "      <td>0</td>\n",
       "      <td>0</td>\n",
       "      <td>0</td>\n",
       "      <td>0</td>\n",
       "      <td>0</td>\n",
       "    </tr>\n",
       "    <tr>\n",
       "      <th>4</th>\n",
       "      <td>26</td>\n",
       "      <td>1</td>\n",
       "      <td>1</td>\n",
       "      <td>1</td>\n",
       "      <td>1</td>\n",
       "      <td>5</td>\n",
       "      <td>5</td>\n",
       "      <td>0</td>\n",
       "      <td>5</td>\n",
       "      <td>2</td>\n",
       "      <td>...</td>\n",
       "      <td>0</td>\n",
       "      <td>0</td>\n",
       "      <td>0</td>\n",
       "      <td>0</td>\n",
       "      <td>1</td>\n",
       "      <td>0</td>\n",
       "      <td>0</td>\n",
       "      <td>0</td>\n",
       "      <td>0</td>\n",
       "      <td>0</td>\n",
       "    </tr>\n",
       "    <tr>\n",
       "      <th>6</th>\n",
       "      <td>24</td>\n",
       "      <td>1</td>\n",
       "      <td>2</td>\n",
       "      <td>1</td>\n",
       "      <td>2</td>\n",
       "      <td>4</td>\n",
       "      <td>5</td>\n",
       "      <td>2</td>\n",
       "      <td>5</td>\n",
       "      <td>0</td>\n",
       "      <td>...</td>\n",
       "      <td>0</td>\n",
       "      <td>0</td>\n",
       "      <td>0</td>\n",
       "      <td>0</td>\n",
       "      <td>1</td>\n",
       "      <td>0</td>\n",
       "      <td>0</td>\n",
       "      <td>0</td>\n",
       "      <td>0</td>\n",
       "      <td>0</td>\n",
       "    </tr>\n",
       "    <tr>\n",
       "      <th>7</th>\n",
       "      <td>30</td>\n",
       "      <td>1</td>\n",
       "      <td>1</td>\n",
       "      <td>1</td>\n",
       "      <td>0</td>\n",
       "      <td>3</td>\n",
       "      <td>5</td>\n",
       "      <td>0</td>\n",
       "      <td>5</td>\n",
       "      <td>2</td>\n",
       "      <td>...</td>\n",
       "      <td>0</td>\n",
       "      <td>0</td>\n",
       "      <td>0</td>\n",
       "      <td>0</td>\n",
       "      <td>1</td>\n",
       "      <td>0</td>\n",
       "      <td>0</td>\n",
       "      <td>0</td>\n",
       "      <td>0</td>\n",
       "      <td>0</td>\n",
       "    </tr>\n",
       "    <tr>\n",
       "      <th>8</th>\n",
       "      <td>29</td>\n",
       "      <td>1</td>\n",
       "      <td>2</td>\n",
       "      <td>1</td>\n",
       "      <td>1</td>\n",
       "      <td>5</td>\n",
       "      <td>5</td>\n",
       "      <td>5</td>\n",
       "      <td>5</td>\n",
       "      <td>5</td>\n",
       "      <td>...</td>\n",
       "      <td>0</td>\n",
       "      <td>0</td>\n",
       "      <td>0</td>\n",
       "      <td>0</td>\n",
       "      <td>1</td>\n",
       "      <td>0</td>\n",
       "      <td>0</td>\n",
       "      <td>0</td>\n",
       "      <td>0</td>\n",
       "      <td>0</td>\n",
       "    </tr>\n",
       "  </tbody>\n",
       "</table>\n",
       "<p>5 rows × 69 columns</p>\n",
       "</div>"
      ],
      "text/plain": [
       "   IDADE  ST_CONCLUSAO  Q01  Q04  Q05  Q24  Q25  Q26  Q27  Q28  ...    Q30_E  \\\n",
       "3     19             1    2    1    0    4    5    4    4    1  ...        0   \n",
       "4     26             1    1    1    1    5    5    0    5    2  ...        0   \n",
       "6     24             1    2    1    2    4    5    2    5    0  ...        0   \n",
       "7     30             1    1    1    0    3    5    0    5    2  ...        0   \n",
       "8     29             1    2    1    1    5    5    5    5    5  ...        0   \n",
       "\n",
       "   Q30_F  Q30_G  Q30_H  Q33_A  Q33_B  Q33_E  Q33_F  Q33_G  Q33_H  \n",
       "3      0      0      0      1      0      0      0      0      0  \n",
       "4      0      0      0      1      0      0      0      0      0  \n",
       "6      0      0      0      1      0      0      0      0      0  \n",
       "7      0      0      0      1      0      0      0      0      0  \n",
       "8      0      0      0      1      0      0      0      0      0  \n",
       "\n",
       "[5 rows x 69 columns]"
      ]
     },
     "execution_count": 37,
     "metadata": {},
     "output_type": "execute_result"
    }
   ],
   "source": [
    "enem_data.head(5)"
   ]
  },
  {
   "cell_type": "markdown",
   "metadata": {},
   "source": [
    "###### Visualização da Variável Resposta"
   ]
  },
  {
   "cell_type": "code",
   "execution_count": 38,
   "metadata": {},
   "outputs": [
    {
     "data": {
      "text/plain": [
       "(array([4.4790e+03, 8.9510e+03, 8.9230e+03, 1.0652e+04, 1.2250e+04,\n",
       "        1.2980e+04, 1.3031e+04, 1.2842e+04, 1.2870e+04, 1.3270e+04,\n",
       "        1.4051e+04, 1.3661e+04, 1.2284e+04, 1.0188e+04, 7.2310e+03,\n",
       "        4.7320e+03, 3.0550e+03, 1.9410e+03, 1.2870e+03, 7.9800e+02,\n",
       "        4.9700e+02, 2.7600e+02, 1.7800e+02, 1.0300e+02, 6.0000e+01,\n",
       "        2.7000e+01, 1.4000e+01, 3.0000e+00, 2.0000e+00, 2.0000e+00]),\n",
       " array([313.4 , 335.26, 357.12, 378.98, 400.84, 422.7 , 444.56, 466.42,\n",
       "        488.28, 510.14, 532.  , 553.86, 575.72, 597.58, 619.44, 641.3 ,\n",
       "        663.16, 685.02, 706.88, 728.74, 750.6 , 772.46, 794.32, 816.18,\n",
       "        838.04, 859.9 , 881.76, 903.62, 925.48, 947.34, 969.2 ]),\n",
       " <BarContainer object of 30 artists>)"
      ]
     },
     "execution_count": 38,
     "metadata": {},
     "output_type": "execute_result"
    },
    {
     "data": {
      "image/png": "[encoded data removed]",
      "text/plain": [
       "<Figure size 432x288 with 1 Axes>"
      ]
     },
     "metadata": {
      "needs_background": "light"
     },
     "output_type": "display_data"
    }
   ],
   "source": [
    "%matplotlib inline\n",
    "\n",
    "plt.hist(enem_data[\"NU_NT_CN\"], bins = 30)"
   ]
  },
  {
   "cell_type": "markdown",
   "metadata": {},
   "source": [
    "A partir do histograma das notas dos candidatos, nota-se que notas maiores que 700 possuem frequência muito baixa, enquanto que o intervalo entre 400 e 600 possui uma alta frequência de ocorrência. É válido ressaltar também que a fequência na cauda da esquerda, notas entre 300 e 400, possui maior frequência se comparada com a cauda da direita a partir do valor de 700"
   ]
  },
  {
   "cell_type": "markdown",
   "metadata": {},
   "source": [
    "###### Separação entre *features* e *target*"
   ]
  },
  {
   "cell_type": "code",
   "execution_count": 39,
   "metadata": {},
   "outputs": [],
   "source": [
    "features_enem = enem_data.drop(columns = {\"NU_NT_CN\"})\n",
    "target_enem = enem_data[\"NU_NT_CN\"]"
   ]
  },
  {
   "cell_type": "markdown",
   "metadata": {},
   "source": [
    "###### Ajuste Árvore de Decisão"
   ]
  },
  {
   "cell_type": "code",
   "execution_count": 40,
   "metadata": {},
   "outputs": [
    {
     "name": "stderr",
     "output_type": "stream",
     "text": [
      "C:\\Users\\Laura\\Anaconda3\\lib\\site-packages\\sklearn\\model_selection\\_split.py:428: DeprecationWarning: `np.int` is a deprecated alias for the builtin `int`. To silence this warning, use `int` by itself. Doing this will not modify any behavior and is safe. When replacing `np.int`, you may wish to use e.g. `np.int64` or `np.int32` to specify the precision. If you wish to review your current use, check the release note link for additional information.\n",
      "Deprecated in NumPy 1.20; for more details and guidance: https://numpy.org/devdocs/release/1.20.0-notes.html#deprecations\n",
      "  fold_sizes = (n_samples // n_splits) * np.ones(n_splits, dtype=np.int)\n",
      "C:\\Users\\Laura\\Anaconda3\\lib\\site-packages\\sklearn\\model_selection\\_split.py:108: DeprecationWarning: `np.bool` is a deprecated alias for the builtin `bool`. To silence this warning, use `bool` by itself. Doing this will not modify any behavior and is safe. If you specifically wanted the numpy scalar type, use `np.bool_` here.\n",
      "Deprecated in NumPy 1.20; for more details and guidance: https://numpy.org/devdocs/release/1.20.0-notes.html#deprecations\n",
      "  test_mask = np.zeros(_num_samples(X), dtype=np.bool)\n",
      "C:\\Users\\Laura\\Anaconda3\\lib\\site-packages\\sklearn\\model_selection\\_split.py:108: DeprecationWarning: `np.bool` is a deprecated alias for the builtin `bool`. To silence this warning, use `bool` by itself. Doing this will not modify any behavior and is safe. If you specifically wanted the numpy scalar type, use `np.bool_` here.\n",
      "Deprecated in NumPy 1.20; for more details and guidance: https://numpy.org/devdocs/release/1.20.0-notes.html#deprecations\n",
      "  test_mask = np.zeros(_num_samples(X), dtype=np.bool)\n",
      "C:\\Users\\Laura\\Anaconda3\\lib\\site-packages\\sklearn\\model_selection\\_split.py:108: DeprecationWarning: `np.bool` is a deprecated alias for the builtin `bool`. To silence this warning, use `bool` by itself. Doing this will not modify any behavior and is safe. If you specifically wanted the numpy scalar type, use `np.bool_` here.\n",
      "Deprecated in NumPy 1.20; for more details and guidance: https://numpy.org/devdocs/release/1.20.0-notes.html#deprecations\n",
      "  test_mask = np.zeros(_num_samples(X), dtype=np.bool)\n",
      "C:\\Users\\Laura\\Anaconda3\\lib\\site-packages\\sklearn\\model_selection\\_split.py:108: DeprecationWarning: `np.bool` is a deprecated alias for the builtin `bool`. To silence this warning, use `bool` by itself. Doing this will not modify any behavior and is safe. If you specifically wanted the numpy scalar type, use `np.bool_` here.\n",
      "Deprecated in NumPy 1.20; for more details and guidance: https://numpy.org/devdocs/release/1.20.0-notes.html#deprecations\n",
      "  test_mask = np.zeros(_num_samples(X), dtype=np.bool)\n",
      "C:\\Users\\Laura\\Anaconda3\\lib\\site-packages\\sklearn\\model_selection\\_split.py:108: DeprecationWarning: `np.bool` is a deprecated alias for the builtin `bool`. To silence this warning, use `bool` by itself. Doing this will not modify any behavior and is safe. If you specifically wanted the numpy scalar type, use `np.bool_` here.\n",
      "Deprecated in NumPy 1.20; for more details and guidance: https://numpy.org/devdocs/release/1.20.0-notes.html#deprecations\n",
      "  test_mask = np.zeros(_num_samples(X), dtype=np.bool)\n",
      "C:\\Users\\Laura\\Anaconda3\\lib\\site-packages\\sklearn\\model_selection\\_split.py:108: DeprecationWarning: `np.bool` is a deprecated alias for the builtin `bool`. To silence this warning, use `bool` by itself. Doing this will not modify any behavior and is safe. If you specifically wanted the numpy scalar type, use `np.bool_` here.\n",
      "Deprecated in NumPy 1.20; for more details and guidance: https://numpy.org/devdocs/release/1.20.0-notes.html#deprecations\n",
      "  test_mask = np.zeros(_num_samples(X), dtype=np.bool)\n",
      "C:\\Users\\Laura\\Anaconda3\\lib\\site-packages\\sklearn\\model_selection\\_split.py:108: DeprecationWarning: `np.bool` is a deprecated alias for the builtin `bool`. To silence this warning, use `bool` by itself. Doing this will not modify any behavior and is safe. If you specifically wanted the numpy scalar type, use `np.bool_` here.\n",
      "Deprecated in NumPy 1.20; for more details and guidance: https://numpy.org/devdocs/release/1.20.0-notes.html#deprecations\n",
      "  test_mask = np.zeros(_num_samples(X), dtype=np.bool)\n",
      "C:\\Users\\Laura\\Anaconda3\\lib\\site-packages\\sklearn\\model_selection\\_split.py:108: DeprecationWarning: `np.bool` is a deprecated alias for the builtin `bool`. To silence this warning, use `bool` by itself. Doing this will not modify any behavior and is safe. If you specifically wanted the numpy scalar type, use `np.bool_` here.\n",
      "Deprecated in NumPy 1.20; for more details and guidance: https://numpy.org/devdocs/release/1.20.0-notes.html#deprecations\n",
      "  test_mask = np.zeros(_num_samples(X), dtype=np.bool)\n",
      "C:\\Users\\Laura\\Anaconda3\\lib\\site-packages\\sklearn\\model_selection\\_split.py:108: DeprecationWarning: `np.bool` is a deprecated alias for the builtin `bool`. To silence this warning, use `bool` by itself. Doing this will not modify any behavior and is safe. If you specifically wanted the numpy scalar type, use `np.bool_` here.\n",
      "Deprecated in NumPy 1.20; for more details and guidance: https://numpy.org/devdocs/release/1.20.0-notes.html#deprecations\n",
      "  test_mask = np.zeros(_num_samples(X), dtype=np.bool)\n",
      "C:\\Users\\Laura\\Anaconda3\\lib\\site-packages\\sklearn\\model_selection\\_split.py:108: DeprecationWarning: `np.bool` is a deprecated alias for the builtin `bool`. To silence this warning, use `bool` by itself. Doing this will not modify any behavior and is safe. If you specifically wanted the numpy scalar type, use `np.bool_` here.\n",
      "Deprecated in NumPy 1.20; for more details and guidance: https://numpy.org/devdocs/release/1.20.0-notes.html#deprecations\n",
      "  test_mask = np.zeros(_num_samples(X), dtype=np.bool)\n",
      "C:\\Users\\Laura\\Anaconda3\\lib\\site-packages\\sklearn\\model_selection\\_split.py:428: DeprecationWarning: `np.int` is a deprecated alias for the builtin `int`. To silence this warning, use `int` by itself. Doing this will not modify any behavior and is safe. When replacing `np.int`, you may wish to use e.g. `np.int64` or `np.int32` to specify the precision. If you wish to review your current use, check the release note link for additional information.\n",
      "Deprecated in NumPy 1.20; for more details and guidance: https://numpy.org/devdocs/release/1.20.0-notes.html#deprecations\n",
      "  fold_sizes = (n_samples // n_splits) * np.ones(n_splits, dtype=np.int)\n",
      "C:\\Users\\Laura\\Anaconda3\\lib\\site-packages\\sklearn\\model_selection\\_split.py:108: DeprecationWarning: `np.bool` is a deprecated alias for the builtin `bool`. To silence this warning, use `bool` by itself. Doing this will not modify any behavior and is safe. If you specifically wanted the numpy scalar type, use `np.bool_` here.\n",
      "Deprecated in NumPy 1.20; for more details and guidance: https://numpy.org/devdocs/release/1.20.0-notes.html#deprecations\n",
      "  test_mask = np.zeros(_num_samples(X), dtype=np.bool)\n",
      "C:\\Users\\Laura\\Anaconda3\\lib\\site-packages\\sklearn\\model_selection\\_split.py:108: DeprecationWarning: `np.bool` is a deprecated alias for the builtin `bool`. To silence this warning, use `bool` by itself. Doing this will not modify any behavior and is safe. If you specifically wanted the numpy scalar type, use `np.bool_` here.\n",
      "Deprecated in NumPy 1.20; for more details and guidance: https://numpy.org/devdocs/release/1.20.0-notes.html#deprecations\n",
      "  test_mask = np.zeros(_num_samples(X), dtype=np.bool)\n",
      "C:\\Users\\Laura\\Anaconda3\\lib\\site-packages\\sklearn\\model_selection\\_split.py:108: DeprecationWarning: `np.bool` is a deprecated alias for the builtin `bool`. To silence this warning, use `bool` by itself. Doing this will not modify any behavior and is safe. If you specifically wanted the numpy scalar type, use `np.bool_` here.\n",
      "Deprecated in NumPy 1.20; for more details and guidance: https://numpy.org/devdocs/release/1.20.0-notes.html#deprecations\n",
      "  test_mask = np.zeros(_num_samples(X), dtype=np.bool)\n",
      "C:\\Users\\Laura\\Anaconda3\\lib\\site-packages\\sklearn\\model_selection\\_split.py:108: DeprecationWarning: `np.bool` is a deprecated alias for the builtin `bool`. To silence this warning, use `bool` by itself. Doing this will not modify any behavior and is safe. If you specifically wanted the numpy scalar type, use `np.bool_` here.\n",
      "Deprecated in NumPy 1.20; for more details and guidance: https://numpy.org/devdocs/release/1.20.0-notes.html#deprecations\n",
      "  test_mask = np.zeros(_num_samples(X), dtype=np.bool)\n"
     ]
    },
    {
     "name": "stderr",
     "output_type": "stream",
     "text": [
      "C:\\Users\\Laura\\Anaconda3\\lib\\site-packages\\sklearn\\model_selection\\_split.py:108: DeprecationWarning: `np.bool` is a deprecated alias for the builtin `bool`. To silence this warning, use `bool` by itself. Doing this will not modify any behavior and is safe. If you specifically wanted the numpy scalar type, use `np.bool_` here.\n",
      "Deprecated in NumPy 1.20; for more details and guidance: https://numpy.org/devdocs/release/1.20.0-notes.html#deprecations\n",
      "  test_mask = np.zeros(_num_samples(X), dtype=np.bool)\n",
      "C:\\Users\\Laura\\Anaconda3\\lib\\site-packages\\sklearn\\model_selection\\_split.py:108: DeprecationWarning: `np.bool` is a deprecated alias for the builtin `bool`. To silence this warning, use `bool` by itself. Doing this will not modify any behavior and is safe. If you specifically wanted the numpy scalar type, use `np.bool_` here.\n",
      "Deprecated in NumPy 1.20; for more details and guidance: https://numpy.org/devdocs/release/1.20.0-notes.html#deprecations\n",
      "  test_mask = np.zeros(_num_samples(X), dtype=np.bool)\n",
      "C:\\Users\\Laura\\Anaconda3\\lib\\site-packages\\sklearn\\model_selection\\_split.py:108: DeprecationWarning: `np.bool` is a deprecated alias for the builtin `bool`. To silence this warning, use `bool` by itself. Doing this will not modify any behavior and is safe. If you specifically wanted the numpy scalar type, use `np.bool_` here.\n",
      "Deprecated in NumPy 1.20; for more details and guidance: https://numpy.org/devdocs/release/1.20.0-notes.html#deprecations\n",
      "  test_mask = np.zeros(_num_samples(X), dtype=np.bool)\n",
      "C:\\Users\\Laura\\Anaconda3\\lib\\site-packages\\sklearn\\model_selection\\_split.py:108: DeprecationWarning: `np.bool` is a deprecated alias for the builtin `bool`. To silence this warning, use `bool` by itself. Doing this will not modify any behavior and is safe. If you specifically wanted the numpy scalar type, use `np.bool_` here.\n",
      "Deprecated in NumPy 1.20; for more details and guidance: https://numpy.org/devdocs/release/1.20.0-notes.html#deprecations\n",
      "  test_mask = np.zeros(_num_samples(X), dtype=np.bool)\n",
      "C:\\Users\\Laura\\Anaconda3\\lib\\site-packages\\sklearn\\model_selection\\_split.py:108: DeprecationWarning: `np.bool` is a deprecated alias for the builtin `bool`. To silence this warning, use `bool` by itself. Doing this will not modify any behavior and is safe. If you specifically wanted the numpy scalar type, use `np.bool_` here.\n",
      "Deprecated in NumPy 1.20; for more details and guidance: https://numpy.org/devdocs/release/1.20.0-notes.html#deprecations\n",
      "  test_mask = np.zeros(_num_samples(X), dtype=np.bool)\n",
      "C:\\Users\\Laura\\Anaconda3\\lib\\site-packages\\sklearn\\model_selection\\_split.py:108: DeprecationWarning: `np.bool` is a deprecated alias for the builtin `bool`. To silence this warning, use `bool` by itself. Doing this will not modify any behavior and is safe. If you specifically wanted the numpy scalar type, use `np.bool_` here.\n",
      "Deprecated in NumPy 1.20; for more details and guidance: https://numpy.org/devdocs/release/1.20.0-notes.html#deprecations\n",
      "  test_mask = np.zeros(_num_samples(X), dtype=np.bool)\n",
      "C:\\Users\\Laura\\Anaconda3\\lib\\site-packages\\sklearn\\model_selection\\_split.py:428: DeprecationWarning: `np.int` is a deprecated alias for the builtin `int`. To silence this warning, use `int` by itself. Doing this will not modify any behavior and is safe. When replacing `np.int`, you may wish to use e.g. `np.int64` or `np.int32` to specify the precision. If you wish to review your current use, check the release note link for additional information.\n",
      "Deprecated in NumPy 1.20; for more details and guidance: https://numpy.org/devdocs/release/1.20.0-notes.html#deprecations\n",
      "  fold_sizes = (n_samples // n_splits) * np.ones(n_splits, dtype=np.int)\n",
      "C:\\Users\\Laura\\Anaconda3\\lib\\site-packages\\sklearn\\model_selection\\_split.py:108: DeprecationWarning: `np.bool` is a deprecated alias for the builtin `bool`. To silence this warning, use `bool` by itself. Doing this will not modify any behavior and is safe. If you specifically wanted the numpy scalar type, use `np.bool_` here.\n",
      "Deprecated in NumPy 1.20; for more details and guidance: https://numpy.org/devdocs/release/1.20.0-notes.html#deprecations\n",
      "  test_mask = np.zeros(_num_samples(X), dtype=np.bool)\n",
      "C:\\Users\\Laura\\Anaconda3\\lib\\site-packages\\sklearn\\model_selection\\_split.py:108: DeprecationWarning: `np.bool` is a deprecated alias for the builtin `bool`. To silence this warning, use `bool` by itself. Doing this will not modify any behavior and is safe. If you specifically wanted the numpy scalar type, use `np.bool_` here.\n",
      "Deprecated in NumPy 1.20; for more details and guidance: https://numpy.org/devdocs/release/1.20.0-notes.html#deprecations\n",
      "  test_mask = np.zeros(_num_samples(X), dtype=np.bool)\n",
      "C:\\Users\\Laura\\Anaconda3\\lib\\site-packages\\sklearn\\model_selection\\_split.py:108: DeprecationWarning: `np.bool` is a deprecated alias for the builtin `bool`. To silence this warning, use `bool` by itself. Doing this will not modify any behavior and is safe. If you specifically wanted the numpy scalar type, use `np.bool_` here.\n",
      "Deprecated in NumPy 1.20; for more details and guidance: https://numpy.org/devdocs/release/1.20.0-notes.html#deprecations\n",
      "  test_mask = np.zeros(_num_samples(X), dtype=np.bool)\n",
      "C:\\Users\\Laura\\Anaconda3\\lib\\site-packages\\sklearn\\model_selection\\_split.py:108: DeprecationWarning: `np.bool` is a deprecated alias for the builtin `bool`. To silence this warning, use `bool` by itself. Doing this will not modify any behavior and is safe. If you specifically wanted the numpy scalar type, use `np.bool_` here.\n",
      "Deprecated in NumPy 1.20; for more details and guidance: https://numpy.org/devdocs/release/1.20.0-notes.html#deprecations\n",
      "  test_mask = np.zeros(_num_samples(X), dtype=np.bool)\n",
      "C:\\Users\\Laura\\Anaconda3\\lib\\site-packages\\sklearn\\model_selection\\_split.py:108: DeprecationWarning: `np.bool` is a deprecated alias for the builtin `bool`. To silence this warning, use `bool` by itself. Doing this will not modify any behavior and is safe. If you specifically wanted the numpy scalar type, use `np.bool_` here.\n",
      "Deprecated in NumPy 1.20; for more details and guidance: https://numpy.org/devdocs/release/1.20.0-notes.html#deprecations\n",
      "  test_mask = np.zeros(_num_samples(X), dtype=np.bool)\n",
      "C:\\Users\\Laura\\Anaconda3\\lib\\site-packages\\sklearn\\model_selection\\_split.py:108: DeprecationWarning: `np.bool` is a deprecated alias for the builtin `bool`. To silence this warning, use `bool` by itself. Doing this will not modify any behavior and is safe. If you specifically wanted the numpy scalar type, use `np.bool_` here.\n",
      "Deprecated in NumPy 1.20; for more details and guidance: https://numpy.org/devdocs/release/1.20.0-notes.html#deprecations\n",
      "  test_mask = np.zeros(_num_samples(X), dtype=np.bool)\n",
      "C:\\Users\\Laura\\Anaconda3\\lib\\site-packages\\sklearn\\model_selection\\_split.py:108: DeprecationWarning: `np.bool` is a deprecated alias for the builtin `bool`. To silence this warning, use `bool` by itself. Doing this will not modify any behavior and is safe. If you specifically wanted the numpy scalar type, use `np.bool_` here.\n",
      "Deprecated in NumPy 1.20; for more details and guidance: https://numpy.org/devdocs/release/1.20.0-notes.html#deprecations\n",
      "  test_mask = np.zeros(_num_samples(X), dtype=np.bool)\n",
      "C:\\Users\\Laura\\Anaconda3\\lib\\site-packages\\sklearn\\model_selection\\_split.py:108: DeprecationWarning: `np.bool` is a deprecated alias for the builtin `bool`. To silence this warning, use `bool` by itself. Doing this will not modify any behavior and is safe. If you specifically wanted the numpy scalar type, use `np.bool_` here.\n",
      "Deprecated in NumPy 1.20; for more details and guidance: https://numpy.org/devdocs/release/1.20.0-notes.html#deprecations\n",
      "  test_mask = np.zeros(_num_samples(X), dtype=np.bool)\n",
      "C:\\Users\\Laura\\Anaconda3\\lib\\site-packages\\sklearn\\model_selection\\_split.py:108: DeprecationWarning: `np.bool` is a deprecated alias for the builtin `bool`. To silence this warning, use `bool` by itself. Doing this will not modify any behavior and is safe. If you specifically wanted the numpy scalar type, use `np.bool_` here.\n",
      "Deprecated in NumPy 1.20; for more details and guidance: https://numpy.org/devdocs/release/1.20.0-notes.html#deprecations\n",
      "  test_mask = np.zeros(_num_samples(X), dtype=np.bool)\n"
     ]
    },
    {
     "name": "stderr",
     "output_type": "stream",
     "text": [
      "C:\\Users\\Laura\\Anaconda3\\lib\\site-packages\\sklearn\\model_selection\\_split.py:108: DeprecationWarning: `np.bool` is a deprecated alias for the builtin `bool`. To silence this warning, use `bool` by itself. Doing this will not modify any behavior and is safe. If you specifically wanted the numpy scalar type, use `np.bool_` here.\n",
      "Deprecated in NumPy 1.20; for more details and guidance: https://numpy.org/devdocs/release/1.20.0-notes.html#deprecations\n",
      "  test_mask = np.zeros(_num_samples(X), dtype=np.bool)\n"
     ]
    },
    {
     "name": "stdout",
     "output_type": "stream",
     "text": [
      "Variancia Explicada:  [-0.62000127 -0.74271484 -0.49276672 -0.57874172 -0.59560764 -0.56782783\n",
      " -0.62751706 -0.59979251 -0.65271409 -0.60112615] Média:  -0.6078809823181494\n",
      "Mean Squared Error:  [-14594.74177564 -13677.4516946  -15142.39966918 -15276.42329373\n",
      " -15188.74317449 -15245.17640565 -14898.62240724 -14580.98709252\n",
      " -14754.71977055 -15471.68652119] Média:  -14883.095180479519\n",
      "R^2: [-0.63965843 -0.75919195 -0.49424952 -0.59144307 -0.59979375 -0.56873172\n",
      " -0.629676   -0.61042591 -0.6635538  -0.6020391 ] Média:  -0.6158763232684208\n"
     ]
    }
   ],
   "source": [
    "decisiontree = DecisionTreeRegressor(random_state=13)\n",
    "\n",
    "var_exp = cross_val_score(decisiontree, features_enem, target_enem,cv=10, scoring = \"explained_variance\")\n",
    "mse = cross_val_score(decisiontree, features_enem, target_enem,cv=10, scoring = \"neg_mean_squared_error\")\n",
    "r2score = cross_val_score(decisiontree, features_enem, target_enem,cv=10, scoring = \"r2\")\n",
    "\n",
    "print('Variancia Explicada: ',var_exp,\"Média: \", np.mean(var_exp))\n",
    "print('Mean Squared Error: ',mse,\"Média: \", np.mean(mse))\n",
    "print('R^2:',r2score,\"Média: \", np.mean(r2score))"
   ]
  },
  {
   "cell_type": "markdown",
   "metadata": {},
   "source": [
    "###### Ajuste Floresta Aleatória"
   ]
  },
  {
   "cell_type": "code",
   "execution_count": null,
   "metadata": {},
   "outputs": [
    {
     "name": "stderr",
     "output_type": "stream",
     "text": [
      "C:\\Users\\Laura\\Anaconda3\\lib\\site-packages\\sklearn\\model_selection\\_split.py:428: DeprecationWarning: `np.int` is a deprecated alias for the builtin `int`. To silence this warning, use `int` by itself. Doing this will not modify any behavior and is safe. When replacing `np.int`, you may wish to use e.g. `np.int64` or `np.int32` to specify the precision. If you wish to review your current use, check the release note link for additional information.\n",
      "Deprecated in NumPy 1.20; for more details and guidance: https://numpy.org/devdocs/release/1.20.0-notes.html#deprecations\n",
      "  fold_sizes = (n_samples // n_splits) * np.ones(n_splits, dtype=np.int)\n",
      "C:\\Users\\Laura\\Anaconda3\\lib\\site-packages\\sklearn\\model_selection\\_split.py:108: DeprecationWarning: `np.bool` is a deprecated alias for the builtin `bool`. To silence this warning, use `bool` by itself. Doing this will not modify any behavior and is safe. If you specifically wanted the numpy scalar type, use `np.bool_` here.\n",
      "Deprecated in NumPy 1.20; for more details and guidance: https://numpy.org/devdocs/release/1.20.0-notes.html#deprecations\n",
      "  test_mask = np.zeros(_num_samples(X), dtype=np.bool)\n",
      "C:\\Users\\Laura\\Anaconda3\\lib\\site-packages\\sklearn\\ensemble\\base.py:157: DeprecationWarning: `np.int` is a deprecated alias for the builtin `int`. To silence this warning, use `int` by itself. Doing this will not modify any behavior and is safe. When replacing `np.int`, you may wish to use e.g. `np.int64` or `np.int32` to specify the precision. If you wish to review your current use, check the release note link for additional information.\n",
      "Deprecated in NumPy 1.20; for more details and guidance: https://numpy.org/devdocs/release/1.20.0-notes.html#deprecations\n",
      "  dtype=np.int)\n",
      "C:\\Users\\Laura\\Anaconda3\\lib\\site-packages\\sklearn\\model_selection\\_split.py:108: DeprecationWarning: `np.bool` is a deprecated alias for the builtin `bool`. To silence this warning, use `bool` by itself. Doing this will not modify any behavior and is safe. If you specifically wanted the numpy scalar type, use `np.bool_` here.\n",
      "Deprecated in NumPy 1.20; for more details and guidance: https://numpy.org/devdocs/release/1.20.0-notes.html#deprecations\n",
      "  test_mask = np.zeros(_num_samples(X), dtype=np.bool)\n",
      "C:\\Users\\Laura\\Anaconda3\\lib\\site-packages\\sklearn\\ensemble\\base.py:157: DeprecationWarning: `np.int` is a deprecated alias for the builtin `int`. To silence this warning, use `int` by itself. Doing this will not modify any behavior and is safe. When replacing `np.int`, you may wish to use e.g. `np.int64` or `np.int32` to specify the precision. If you wish to review your current use, check the release note link for additional information.\n",
      "Deprecated in NumPy 1.20; for more details and guidance: https://numpy.org/devdocs/release/1.20.0-notes.html#deprecations\n",
      "  dtype=np.int)\n",
      "C:\\Users\\Laura\\Anaconda3\\lib\\site-packages\\sklearn\\model_selection\\_split.py:108: DeprecationWarning: `np.bool` is a deprecated alias for the builtin `bool`. To silence this warning, use `bool` by itself. Doing this will not modify any behavior and is safe. If you specifically wanted the numpy scalar type, use `np.bool_` here.\n",
      "Deprecated in NumPy 1.20; for more details and guidance: https://numpy.org/devdocs/release/1.20.0-notes.html#deprecations\n",
      "  test_mask = np.zeros(_num_samples(X), dtype=np.bool)\n",
      "C:\\Users\\Laura\\Anaconda3\\lib\\site-packages\\sklearn\\ensemble\\base.py:157: DeprecationWarning: `np.int` is a deprecated alias for the builtin `int`. To silence this warning, use `int` by itself. Doing this will not modify any behavior and is safe. When replacing `np.int`, you may wish to use e.g. `np.int64` or `np.int32` to specify the precision. If you wish to review your current use, check the release note link for additional information.\n",
      "Deprecated in NumPy 1.20; for more details and guidance: https://numpy.org/devdocs/release/1.20.0-notes.html#deprecations\n",
      "  dtype=np.int)\n",
      "C:\\Users\\Laura\\Anaconda3\\lib\\site-packages\\sklearn\\model_selection\\_split.py:108: DeprecationWarning: `np.bool` is a deprecated alias for the builtin `bool`. To silence this warning, use `bool` by itself. Doing this will not modify any behavior and is safe. If you specifically wanted the numpy scalar type, use `np.bool_` here.\n",
      "Deprecated in NumPy 1.20; for more details and guidance: https://numpy.org/devdocs/release/1.20.0-notes.html#deprecations\n",
      "  test_mask = np.zeros(_num_samples(X), dtype=np.bool)\n",
      "C:\\Users\\Laura\\Anaconda3\\lib\\site-packages\\sklearn\\ensemble\\base.py:157: DeprecationWarning: `np.int` is a deprecated alias for the builtin `int`. To silence this warning, use `int` by itself. Doing this will not modify any behavior and is safe. When replacing `np.int`, you may wish to use e.g. `np.int64` or `np.int32` to specify the precision. If you wish to review your current use, check the release note link for additional information.\n",
      "Deprecated in NumPy 1.20; for more details and guidance: https://numpy.org/devdocs/release/1.20.0-notes.html#deprecations\n",
      "  dtype=np.int)\n",
      "C:\\Users\\Laura\\Anaconda3\\lib\\site-packages\\sklearn\\model_selection\\_split.py:108: DeprecationWarning: `np.bool` is a deprecated alias for the builtin `bool`. To silence this warning, use `bool` by itself. Doing this will not modify any behavior and is safe. If you specifically wanted the numpy scalar type, use `np.bool_` here.\n",
      "Deprecated in NumPy 1.20; for more details and guidance: https://numpy.org/devdocs/release/1.20.0-notes.html#deprecations\n",
      "  test_mask = np.zeros(_num_samples(X), dtype=np.bool)\n",
      "C:\\Users\\Laura\\Anaconda3\\lib\\site-packages\\sklearn\\ensemble\\base.py:157: DeprecationWarning: `np.int` is a deprecated alias for the builtin `int`. To silence this warning, use `int` by itself. Doing this will not modify any behavior and is safe. When replacing `np.int`, you may wish to use e.g. `np.int64` or `np.int32` to specify the precision. If you wish to review your current use, check the release note link for additional information.\n",
      "Deprecated in NumPy 1.20; for more details and guidance: https://numpy.org/devdocs/release/1.20.0-notes.html#deprecations\n",
      "  dtype=np.int)\n",
      "C:\\Users\\Laura\\Anaconda3\\lib\\site-packages\\sklearn\\model_selection\\_split.py:108: DeprecationWarning: `np.bool` is a deprecated alias for the builtin `bool`. To silence this warning, use `bool` by itself. Doing this will not modify any behavior and is safe. If you specifically wanted the numpy scalar type, use `np.bool_` here.\n",
      "Deprecated in NumPy 1.20; for more details and guidance: https://numpy.org/devdocs/release/1.20.0-notes.html#deprecations\n",
      "  test_mask = np.zeros(_num_samples(X), dtype=np.bool)\n",
      "C:\\Users\\Laura\\Anaconda3\\lib\\site-packages\\sklearn\\ensemble\\base.py:157: DeprecationWarning: `np.int` is a deprecated alias for the builtin `int`. To silence this warning, use `int` by itself. Doing this will not modify any behavior and is safe. When replacing `np.int`, you may wish to use e.g. `np.int64` or `np.int32` to specify the precision. If you wish to review your current use, check the release note link for additional information.\n",
      "Deprecated in NumPy 1.20; for more details and guidance: https://numpy.org/devdocs/release/1.20.0-notes.html#deprecations\n",
      "  dtype=np.int)\n",
      "C:\\Users\\Laura\\Anaconda3\\lib\\site-packages\\sklearn\\model_selection\\_split.py:108: DeprecationWarning: `np.bool` is a deprecated alias for the builtin `bool`. To silence this warning, use `bool` by itself. Doing this will not modify any behavior and is safe. If you specifically wanted the numpy scalar type, use `np.bool_` here.\n",
      "Deprecated in NumPy 1.20; for more details and guidance: https://numpy.org/devdocs/release/1.20.0-notes.html#deprecations\n",
      "  test_mask = np.zeros(_num_samples(X), dtype=np.bool)\n",
      "C:\\Users\\Laura\\Anaconda3\\lib\\site-packages\\sklearn\\ensemble\\base.py:157: DeprecationWarning: `np.int` is a deprecated alias for the builtin `int`. To silence this warning, use `int` by itself. Doing this will not modify any behavior and is safe. When replacing `np.int`, you may wish to use e.g. `np.int64` or `np.int32` to specify the precision. If you wish to review your current use, check the release note link for additional information.\n",
      "Deprecated in NumPy 1.20; for more details and guidance: https://numpy.org/devdocs/release/1.20.0-notes.html#deprecations\n",
      "  dtype=np.int)\n",
      "C:\\Users\\Laura\\Anaconda3\\lib\\site-packages\\sklearn\\model_selection\\_split.py:108: DeprecationWarning: `np.bool` is a deprecated alias for the builtin `bool`. To silence this warning, use `bool` by itself. Doing this will not modify any behavior and is safe. If you specifically wanted the numpy scalar type, use `np.bool_` here.\n",
      "Deprecated in NumPy 1.20; for more details and guidance: https://numpy.org/devdocs/release/1.20.0-notes.html#deprecations\n",
      "  test_mask = np.zeros(_num_samples(X), dtype=np.bool)\n"
     ]
    },
    {
     "name": "stderr",
     "output_type": "stream",
     "text": [
      "C:\\Users\\Laura\\Anaconda3\\lib\\site-packages\\sklearn\\ensemble\\base.py:157: DeprecationWarning: `np.int` is a deprecated alias for the builtin `int`. To silence this warning, use `int` by itself. Doing this will not modify any behavior and is safe. When replacing `np.int`, you may wish to use e.g. `np.int64` or `np.int32` to specify the precision. If you wish to review your current use, check the release note link for additional information.\n",
      "Deprecated in NumPy 1.20; for more details and guidance: https://numpy.org/devdocs/release/1.20.0-notes.html#deprecations\n",
      "  dtype=np.int)\n",
      "C:\\Users\\Laura\\Anaconda3\\lib\\site-packages\\sklearn\\model_selection\\_split.py:108: DeprecationWarning: `np.bool` is a deprecated alias for the builtin `bool`. To silence this warning, use `bool` by itself. Doing this will not modify any behavior and is safe. If you specifically wanted the numpy scalar type, use `np.bool_` here.\n",
      "Deprecated in NumPy 1.20; for more details and guidance: https://numpy.org/devdocs/release/1.20.0-notes.html#deprecations\n",
      "  test_mask = np.zeros(_num_samples(X), dtype=np.bool)\n",
      "C:\\Users\\Laura\\Anaconda3\\lib\\site-packages\\sklearn\\ensemble\\base.py:157: DeprecationWarning: `np.int` is a deprecated alias for the builtin `int`. To silence this warning, use `int` by itself. Doing this will not modify any behavior and is safe. When replacing `np.int`, you may wish to use e.g. `np.int64` or `np.int32` to specify the precision. If you wish to review your current use, check the release note link for additional information.\n",
      "Deprecated in NumPy 1.20; for more details and guidance: https://numpy.org/devdocs/release/1.20.0-notes.html#deprecations\n",
      "  dtype=np.int)\n",
      "C:\\Users\\Laura\\Anaconda3\\lib\\site-packages\\sklearn\\model_selection\\_split.py:108: DeprecationWarning: `np.bool` is a deprecated alias for the builtin `bool`. To silence this warning, use `bool` by itself. Doing this will not modify any behavior and is safe. If you specifically wanted the numpy scalar type, use `np.bool_` here.\n",
      "Deprecated in NumPy 1.20; for more details and guidance: https://numpy.org/devdocs/release/1.20.0-notes.html#deprecations\n",
      "  test_mask = np.zeros(_num_samples(X), dtype=np.bool)\n",
      "C:\\Users\\Laura\\Anaconda3\\lib\\site-packages\\sklearn\\ensemble\\base.py:157: DeprecationWarning: `np.int` is a deprecated alias for the builtin `int`. To silence this warning, use `int` by itself. Doing this will not modify any behavior and is safe. When replacing `np.int`, you may wish to use e.g. `np.int64` or `np.int32` to specify the precision. If you wish to review your current use, check the release note link for additional information.\n",
      "Deprecated in NumPy 1.20; for more details and guidance: https://numpy.org/devdocs/release/1.20.0-notes.html#deprecations\n",
      "  dtype=np.int)\n",
      "C:\\Users\\Laura\\Anaconda3\\lib\\site-packages\\sklearn\\model_selection\\_split.py:428: DeprecationWarning: `np.int` is a deprecated alias for the builtin `int`. To silence this warning, use `int` by itself. Doing this will not modify any behavior and is safe. When replacing `np.int`, you may wish to use e.g. `np.int64` or `np.int32` to specify the precision. If you wish to review your current use, check the release note link for additional information.\n",
      "Deprecated in NumPy 1.20; for more details and guidance: https://numpy.org/devdocs/release/1.20.0-notes.html#deprecations\n",
      "  fold_sizes = (n_samples // n_splits) * np.ones(n_splits, dtype=np.int)\n",
      "C:\\Users\\Laura\\Anaconda3\\lib\\site-packages\\sklearn\\model_selection\\_split.py:108: DeprecationWarning: `np.bool` is a deprecated alias for the builtin `bool`. To silence this warning, use `bool` by itself. Doing this will not modify any behavior and is safe. If you specifically wanted the numpy scalar type, use `np.bool_` here.\n",
      "Deprecated in NumPy 1.20; for more details and guidance: https://numpy.org/devdocs/release/1.20.0-notes.html#deprecations\n",
      "  test_mask = np.zeros(_num_samples(X), dtype=np.bool)\n",
      "C:\\Users\\Laura\\Anaconda3\\lib\\site-packages\\sklearn\\ensemble\\base.py:157: DeprecationWarning: `np.int` is a deprecated alias for the builtin `int`. To silence this warning, use `int` by itself. Doing this will not modify any behavior and is safe. When replacing `np.int`, you may wish to use e.g. `np.int64` or `np.int32` to specify the precision. If you wish to review your current use, check the release note link for additional information.\n",
      "Deprecated in NumPy 1.20; for more details and guidance: https://numpy.org/devdocs/release/1.20.0-notes.html#deprecations\n",
      "  dtype=np.int)\n",
      "C:\\Users\\Laura\\Anaconda3\\lib\\site-packages\\sklearn\\model_selection\\_split.py:108: DeprecationWarning: `np.bool` is a deprecated alias for the builtin `bool`. To silence this warning, use `bool` by itself. Doing this will not modify any behavior and is safe. If you specifically wanted the numpy scalar type, use `np.bool_` here.\n",
      "Deprecated in NumPy 1.20; for more details and guidance: https://numpy.org/devdocs/release/1.20.0-notes.html#deprecations\n",
      "  test_mask = np.zeros(_num_samples(X), dtype=np.bool)\n",
      "C:\\Users\\Laura\\Anaconda3\\lib\\site-packages\\sklearn\\ensemble\\base.py:157: DeprecationWarning: `np.int` is a deprecated alias for the builtin `int`. To silence this warning, use `int` by itself. Doing this will not modify any behavior and is safe. When replacing `np.int`, you may wish to use e.g. `np.int64` or `np.int32` to specify the precision. If you wish to review your current use, check the release note link for additional information.\n",
      "Deprecated in NumPy 1.20; for more details and guidance: https://numpy.org/devdocs/release/1.20.0-notes.html#deprecations\n",
      "  dtype=np.int)\n",
      "C:\\Users\\Laura\\Anaconda3\\lib\\site-packages\\sklearn\\model_selection\\_split.py:108: DeprecationWarning: `np.bool` is a deprecated alias for the builtin `bool`. To silence this warning, use `bool` by itself. Doing this will not modify any behavior and is safe. If you specifically wanted the numpy scalar type, use `np.bool_` here.\n",
      "Deprecated in NumPy 1.20; for more details and guidance: https://numpy.org/devdocs/release/1.20.0-notes.html#deprecations\n",
      "  test_mask = np.zeros(_num_samples(X), dtype=np.bool)\n",
      "C:\\Users\\Laura\\Anaconda3\\lib\\site-packages\\sklearn\\ensemble\\base.py:157: DeprecationWarning: `np.int` is a deprecated alias for the builtin `int`. To silence this warning, use `int` by itself. Doing this will not modify any behavior and is safe. When replacing `np.int`, you may wish to use e.g. `np.int64` or `np.int32` to specify the precision. If you wish to review your current use, check the release note link for additional information.\n",
      "Deprecated in NumPy 1.20; for more details and guidance: https://numpy.org/devdocs/release/1.20.0-notes.html#deprecations\n",
      "  dtype=np.int)\n",
      "C:\\Users\\Laura\\Anaconda3\\lib\\site-packages\\sklearn\\model_selection\\_split.py:108: DeprecationWarning: `np.bool` is a deprecated alias for the builtin `bool`. To silence this warning, use `bool` by itself. Doing this will not modify any behavior and is safe. If you specifically wanted the numpy scalar type, use `np.bool_` here.\n",
      "Deprecated in NumPy 1.20; for more details and guidance: https://numpy.org/devdocs/release/1.20.0-notes.html#deprecations\n",
      "  test_mask = np.zeros(_num_samples(X), dtype=np.bool)\n"
     ]
    }
   ],
   "source": [
    "randomforest = RandomForestRegressor(random_state=0, n_jobs=-1)\n",
    "\n",
    "var_exp = cross_val_score(randomforest, features_enem, target_enem,cv=10, scoring = \"explained_variance\")\n",
    "mse = cross_val_score(randomforest, features_enem, target_enem,cv=10, scoring = \"neg_mean_squared_error\")\n",
    "r2score = cross_val_score(randomforest, features_enem, target_enem,cv=10, scoring = \"r2\")\n",
    "\n",
    "print('Variancia Explicada: ',var_exp,\"Média: \", np.mean(var_exp))\n",
    "print('Mean Squared Error: ',mse,\"Média: \", np.mean(mse))\n",
    "print('R^2:',r2score,\"Média: \", np.mean(r2score))"
   ]
  },
  {
   "cell_type": "markdown",
   "metadata": {},
   "source": [
    "###### Ajuste Regressão com Regularização"
   ]
  },
  {
   "cell_type": "markdown",
   "metadata": {},
   "source": [
    "Para a aplicação de um Modelo de Regressão Lasso é necessário, anteriormente, padronizar as covariáveis."
   ]
  },
  {
   "cell_type": "code",
   "execution_count": null,
   "metadata": {},
   "outputs": [],
   "source": [
    "scaler = StandardScaler()\n",
    "features_enem_standardized = scaler.fit_transform(features_enem)"
   ]
  },
  {
   "cell_type": "code",
   "execution_count": null,
   "metadata": {},
   "outputs": [],
   "source": [
    "regression = Lasso(alpha=0.5)\n",
    "\n",
    "var_exp = cross_val_score(regression, features_enem, target_enem,cv=10, scoring = \"explained_variance\")\n",
    "mse = cross_val_score(regression, features_enem, target_enem,cv=10, scoring = \"neg_mean_squared_error\")\n",
    "r2score = cross_val_score(regression, features_enem, target_enem,cv=10, scoring = \"r2\")\n",
    "\n",
    "print('Variancia Explicada: ',var_exp,\"Média: \", np.mean(var_exp))\n",
    "print('Mean Squared Error: ',mse,\"Média: \", np.mean(mse))\n",
    "print('R^2:',r2score,\"Média: \", np.mean(r2score))"
   ]
  }
 ],
 "metadata": {
  "kernelspec": {
   "display_name": "Python 3",
   "language": "python",
   "name": "python3"
  },
  "language_info": {
   "codemirror_mode": {
    "name": "ipython",
    "version": 3
   },
   "file_extension": ".py",
   "mimetype": "text/x-python",
   "name": "python",
   "nbconvert_exporter": "python",
   "pygments_lexer": "ipython3",
   "version": "3.7.0"
  }
 },
 "nbformat": 4,
 "nbformat_minor": 5
}
