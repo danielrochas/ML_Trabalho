{
 "cells": [
  {
   "cell_type": "markdown",
   "id": "b0b03e25",
   "metadata": {},
   "source": [
    "# Análise de Dados com Métodos de Aprendizado de Máquina"
   ]
  },
  {
   "cell_type": "markdown",
   "id": "320ce9a5",
   "metadata": {},
   "source": [
    "## Introdução ao Aprendizado de Máquina"
   ]
  },
  {
   "cell_type": "markdown",
   "id": "3d768999",
   "metadata": {},
   "source": [
    "### Daniel Rocha da Silva, Laura Kubitschek Fiorindo"
   ]
  },
  {
   "cell_type": "markdown",
   "id": "9e891bc6",
   "metadata": {},
   "source": [
    "Link para repositório no GitHub: [Repositório no GitHub](https://github.com/danielrochas/ML_Trabalho/tree/main/Trabalho%202)\n",
    "\n",
    "Descrição do trabalho: [Descrição.pdf](https://github.com/danielrochas/ML_Trabalho/blob/main/Trabalho%202/Descrição.pdf)"
   ]
  },
  {
   "cell_type": "markdown",
   "id": "2b426053",
   "metadata": {},
   "source": [
    "### Importação de bibliotecas"
   ]
  },
  {
   "cell_type": "code",
   "execution_count": 1,
   "id": "cadbedea",
   "metadata": {},
   "outputs": [],
   "source": [
    "import pandas as pd\n",
    "import numpy as np\n",
    "\n",
    "import matplotlib.pyplot as plt\n",
    "from sklearn.model_selection import train_test_split, cross_val_score\n",
    "from sklearn.preprocessing import StandardScaler\n",
    "from sklearn.linear_model import LinearRegression, LogisticRegression\n",
    "from sklearn.tree import DecisionTreeRegressor, DecisionTreeClassifier\n",
    "from sklearn.ensemble import RandomForestRegressor, RandomForestClassifier\n",
    "from sklearn.metrics import explained_variance_score,mean_absolute_error,r2_score,mean_squared_error\n",
    "from sklearn.svm import SVR, SVC\n",
    "from sklearn.neighbors import KNeighborsClassifier\n",
    "from sklearn.naive_bayes import GaussianNB\n",
    "from sklearn.discriminant_analysis import LinearDiscriminantAnalysis\n",
    "from sklearn.neural_network import MLPClassifier, MLPRegressor\n",
    "from sklearn.linear_model import Lasso\n",
    "from sklearn.decomposition import PCA"
   ]
  },
  {
   "cell_type": "code",
   "execution_count": 2,
   "id": "4d77ff2f",
   "metadata": {},
   "outputs": [],
   "source": [
    "def avaliacao_classificador(modelo, metodos_avaliacao, features, target, cv):\n",
    "    for metodo in metodos_avaliacao:\n",
    "        score = cross_val_score(modelo, features, target, cv = cv, scoring = metodo)\n",
    "        print(metodos_avaliacao[metodo], np.round(score,2), \"Média:\", np.round(np.mean(score),2))"
   ]
  },
  {
   "cell_type": "markdown",
   "id": "1dbc07fc",
   "metadata": {},
   "source": [
    "### Problema 1"
   ]
  },
  {
   "cell_type": "code",
   "execution_count": 3,
   "id": "59ee39ae",
   "metadata": {},
   "outputs": [
    {
     "data": {
      "text/html": [
       "<div>\n",
       "<style scoped>\n",
       "    .dataframe tbody tr th:only-of-type {\n",
       "        vertical-align: middle;\n",
       "    }\n",
       "\n",
       "    .dataframe tbody tr th {\n",
       "        vertical-align: top;\n",
       "    }\n",
       "\n",
       "    .dataframe thead th {\n",
       "        text-align: right;\n",
       "    }\n",
       "</style>\n",
       "<table border=\"1\" class=\"dataframe\">\n",
       "  <thead>\n",
       "    <tr style=\"text-align: right;\">\n",
       "      <th></th>\n",
       "      <th>%</th>\n",
       "      <th>lcavol</th>\n",
       "      <th>lweigh</th>\n",
       "      <th>age</th>\n",
       "      <th>lbph</th>\n",
       "      <th>svi</th>\n",
       "      <th>lcp</th>\n",
       "      <th>gleason</th>\n",
       "      <th>pgg45</th>\n",
       "      <th>lpsa</th>\n",
       "    </tr>\n",
       "  </thead>\n",
       "  <tbody>\n",
       "    <tr>\n",
       "      <th>0</th>\n",
       "      <td>1</td>\n",
       "      <td>-0.579818</td>\n",
       "      <td>2.769459</td>\n",
       "      <td>50</td>\n",
       "      <td>-1.386294</td>\n",
       "      <td>0</td>\n",
       "      <td>-1.386294</td>\n",
       "      <td>6</td>\n",
       "      <td>0</td>\n",
       "      <td>-0.430783</td>\n",
       "    </tr>\n",
       "    <tr>\n",
       "      <th>1</th>\n",
       "      <td>2</td>\n",
       "      <td>-0.994252</td>\n",
       "      <td>3.319626</td>\n",
       "      <td>58</td>\n",
       "      <td>-1.386294</td>\n",
       "      <td>0</td>\n",
       "      <td>-1.386294</td>\n",
       "      <td>6</td>\n",
       "      <td>0</td>\n",
       "      <td>-0.162519</td>\n",
       "    </tr>\n",
       "    <tr>\n",
       "      <th>2</th>\n",
       "      <td>3</td>\n",
       "      <td>-0.510826</td>\n",
       "      <td>2.691243</td>\n",
       "      <td>74</td>\n",
       "      <td>-1.386294</td>\n",
       "      <td>0</td>\n",
       "      <td>-1.386294</td>\n",
       "      <td>7</td>\n",
       "      <td>20</td>\n",
       "      <td>-0.162519</td>\n",
       "    </tr>\n",
       "    <tr>\n",
       "      <th>3</th>\n",
       "      <td>4</td>\n",
       "      <td>-1.203973</td>\n",
       "      <td>3.282789</td>\n",
       "      <td>58</td>\n",
       "      <td>-1.386294</td>\n",
       "      <td>0</td>\n",
       "      <td>-1.386294</td>\n",
       "      <td>6</td>\n",
       "      <td>0</td>\n",
       "      <td>-0.162519</td>\n",
       "    </tr>\n",
       "    <tr>\n",
       "      <th>4</th>\n",
       "      <td>5</td>\n",
       "      <td>0.751416</td>\n",
       "      <td>3.432373</td>\n",
       "      <td>62</td>\n",
       "      <td>-1.386294</td>\n",
       "      <td>0</td>\n",
       "      <td>-1.386294</td>\n",
       "      <td>6</td>\n",
       "      <td>0</td>\n",
       "      <td>0.371564</td>\n",
       "    </tr>\n",
       "  </tbody>\n",
       "</table>\n",
       "</div>"
      ],
      "text/plain": [
       "   %    lcavol    lweigh  age      lbph  svi       lcp  gleason  pgg45  \\\n",
       "0  1 -0.579818  2.769459   50 -1.386294    0 -1.386294        6      0   \n",
       "1  2 -0.994252  3.319626   58 -1.386294    0 -1.386294        6      0   \n",
       "2  3 -0.510826  2.691243   74 -1.386294    0 -1.386294        7     20   \n",
       "3  4 -1.203973  3.282789   58 -1.386294    0 -1.386294        6      0   \n",
       "4  5  0.751416  3.432373   62 -1.386294    0 -1.386294        6      0   \n",
       "\n",
       "       lpsa  \n",
       "0 -0.430783  \n",
       "1 -0.162519  \n",
       "2 -0.162519  \n",
       "3 -0.162519  \n",
       "4  0.371564  "
      ]
     },
     "execution_count": 3,
     "metadata": {},
     "output_type": "execute_result"
    }
   ],
   "source": [
    "prostate_data = pd.read_csv('data/prostate.data', sep=\"\\t\")\n",
    "prostate_data.head(5)"
   ]
  },
  {
   "cell_type": "markdown",
   "id": "7342e7ce",
   "metadata": {},
   "source": [
    "###### Visualização da variável resposta"
   ]
  },
  {
   "cell_type": "code",
   "execution_count": 4,
   "id": "7c54624f",
   "metadata": {},
   "outputs": [
    {
     "data": {
      "text/plain": [
       "(array([ 4.,  3.,  7., 17., 17., 26., 14.,  4.,  2.,  3.]),\n",
       " array([-0.4307829 ,  0.17058861,  0.77196012,  1.37333163,  1.97470314,\n",
       "         2.57607465,  3.17744616,  3.77881767,  4.38018918,  4.98156069,\n",
       "         5.5829322 ]),\n",
       " <BarContainer object of 10 artists>)"
      ]
     },
     "execution_count": 4,
     "metadata": {},
     "output_type": "execute_result"
    },
    {
     "data": {
      "image/png": "[encoded data removed]",
      "text/plain": [
       "<Figure size 432x288 with 1 Axes>"
      ]
     },
     "metadata": {
      "needs_background": "light"
     },
     "output_type": "display_data"
    }
   ],
   "source": [
    "%matplotlib inline\n",
    "\n",
    "plt.hist(prostate_data[\"lpsa\"])"
   ]
  },
  {
   "cell_type": "markdown",
   "id": "5f9210a1",
   "metadata": {},
   "source": [
    "Por meio do histrograma da variável resposta *lpsa* nota-se que ela possui distribuição semelhante à Normal, uma vez que possui maior frequência nos valores centrais e menor frequência nas caudas à esquerda e à direita."
   ]
  },
  {
   "cell_type": "markdown",
   "id": "b03468ae",
   "metadata": {},
   "source": [
    "###### Separação entre *features* e *target* e Padronização das features"
   ]
  },
  {
   "cell_type": "code",
   "execution_count": 5,
   "id": "055fa5b5",
   "metadata": {},
   "outputs": [],
   "source": [
    "features_prostate = prostate_data.drop(columns = {\"%\", \"lpsa\"})\n",
    "target_prostate = prostate_data[\"lpsa\"]\n",
    "\n",
    "scaler = StandardScaler()\n",
    "features_prostate_scaled = scaler.fit_transform(features_prostate)"
   ]
  },
  {
   "cell_type": "markdown",
   "id": "dd265abb",
   "metadata": {},
   "source": [
    "###### Separação do conjunto de treinamento (80%) e do conjunto de teste (20%)"
   ]
  },
  {
   "cell_type": "code",
   "execution_count": 6,
   "id": "97fb8607",
   "metadata": {},
   "outputs": [],
   "source": [
    "features_prostate_train, features_prostate_test, target_prostate_train, target_prostate_test = \\\n",
    "    train_test_split(features_prostate_scaled, target_prostate, test_size = 0.2, random_state = 13)"
   ]
  },
  {
   "cell_type": "markdown",
   "id": "741e2f6a",
   "metadata": {},
   "source": [
    "###### Ajuste e Resultado do Primeiro Trabalho"
   ]
  },
  {
   "cell_type": "code",
   "execution_count": 7,
   "id": "45a873b2",
   "metadata": {},
   "outputs": [
    {
     "name": "stdout",
     "output_type": "stream",
     "text": [
      "R^2:  0.6412486024604561\n",
      "\n",
      "\n",
      "Intercepto 2.472079597636012\n",
      "% 0.6308787251424092\n",
      "lcavol 0.26544671319484003\n",
      "lweigh -0.124630769455823\n",
      "age 0.04533297181417791\n",
      "lbph 0.3091557905043822\n",
      "svi -0.1357312385852475\n",
      "lcp 0.06860159996008115\n",
      "gleason 0.08423788362411491\n",
      "\n",
      "\n",
      "EQM Conjunto Teste:  0.6\n"
     ]
    }
   ],
   "source": [
    "lr_prostate = LinearRegression()\n",
    "modelo_lr_prostate =lr_prostate.fit(features_prostate_train, target_prostate_train);\n",
    "\n",
    "# Validação\n",
    "print(\"R^2: \", modelo_lr_prostate.score(features_prostate_test, target_prostate_test))\n",
    "\n",
    "print(\"\\n\")\n",
    "\n",
    "print(\"Intercepto\", modelo_lr_prostate.intercept_)\n",
    "for i in range(len(modelo_lr_prostate.coef_)):\n",
    "    print(prostate_data.columns[i], modelo_lr_prostate.coef_[i])\n",
    "\n",
    "print(\"\\n\")\n",
    "    \n",
    "target_predicted = modelo_lr_prostate.predict(features_prostate_test)\n",
    "print(\"EQM Conjunto Teste: \",round(mean_squared_error(target_prostate_test, target_predicted),2))"
   ]
  },
  {
   "cell_type": "markdown",
   "id": "884fb087",
   "metadata": {},
   "source": [
    "###### Ajuste Regressão com Regularização"
   ]
  },
  {
   "cell_type": "code",
   "execution_count": 8,
   "id": "ce4ef6f8",
   "metadata": {},
   "outputs": [
    {
     "name": "stdout",
     "output_type": "stream",
     "text": [
      "Escore Variância Explicada:0.28\n",
      "MAE: 0.84\n",
      "R^2: 0.28\n",
      "EQM Conjunto Teste:  1.2\n"
     ]
    }
   ],
   "source": [
    "regression = Lasso(alpha=0.5)\n",
    "regression_prostate = regression.fit(features_prostate_train, target_prostate_train)\n",
    "\n",
    "pred_reg_prostate = regression_prostate.predict(features_prostate_test)\n",
    "\n",
    "explained_variance = explained_variance_score(target_prostate_test, pred_reg_prostate)\n",
    "print('Escore Variância Explicada:{0:0.2f}'.format(explained_variance))\n",
    "\n",
    "mae= mean_absolute_error(target_prostate_test, pred_reg_prostate)\n",
    "print('MAE: {0:0.2f}'.format(mae))\n",
    "\n",
    "r2score = r2_score(target_prostate_test, pred_reg_prostate)\n",
    "print('R^2: {0:0.2f}'.format(r2score))\n",
    "\n",
    "print(\"EQM Conjunto Teste: \",round(mean_squared_error(target_prostate_test, pred_reg_prostate),2))"
   ]
  },
  {
   "cell_type": "markdown",
   "id": "331eef43",
   "metadata": {},
   "source": [
    "###### Ajuste Árvore de Decisão"
   ]
  },
  {
   "cell_type": "code",
   "execution_count": 9,
   "id": "95b36011",
   "metadata": {},
   "outputs": [
    {
     "name": "stdout",
     "output_type": "stream",
     "text": [
      "Escore Variância Explicada:0.35\n",
      "MAE: 0.82\n",
      "R^2: 0.34\n",
      "EQM Conjunto Teste:  1.1\n"
     ]
    }
   ],
   "source": [
    "decisiontree = DecisionTreeRegressor(random_state=0)\n",
    "arv_dec_prostate = decisiontree.fit(features_prostate_train, target_prostate_train)\n",
    "\n",
    "pred_arv_dec_prostate = arv_dec_prostate.predict(features_prostate_test)\n",
    "\n",
    "explained_variance = explained_variance_score(target_prostate_test, pred_arv_dec_prostate)\n",
    "print('Escore Variância Explicada:{0:0.2f}'.format(explained_variance))\n",
    "\n",
    "mae= mean_absolute_error(target_prostate_test, pred_arv_dec_prostate)\n",
    "print('MAE: {0:0.2f}'.format(mae))\n",
    "\n",
    "r2score = r2_score(target_prostate_test, pred_arv_dec_prostate)\n",
    "print('R^2: {0:0.2f}'.format(r2score))\n",
    "\n",
    "print(\"EQM Conjunto Teste: \",round(mean_squared_error(target_prostate_test, pred_arv_dec_prostate),2))"
   ]
  },
  {
   "cell_type": "markdown",
   "id": "2f0b67df",
   "metadata": {},
   "source": [
    "###### Ajuste Floresta Aleatória"
   ]
  },
  {
   "cell_type": "code",
   "execution_count": 10,
   "id": "707aeb71",
   "metadata": {},
   "outputs": [
    {
     "name": "stdout",
     "output_type": "stream",
     "text": [
      "Escore Variância Explicada:0.52\n",
      "MAE: 0.71\n",
      "R^2: 0.52\n",
      "EQM Conjunto Teste:  0.81\n"
     ]
    }
   ],
   "source": [
    "randomforest = RandomForestRegressor(random_state=0, n_jobs=-1)\n",
    "rand_for_prostate = randomforest.fit(features_prostate_train, target_prostate_train)\n",
    "\n",
    "pred_rand_for_prostate = rand_for_prostate.predict(features_prostate_test)\n",
    "\n",
    "explained_variance = explained_variance_score(target_prostate_test, pred_rand_for_prostate)\n",
    "print('Escore Variância Explicada:{0:0.2f}'.format(explained_variance))\n",
    "\n",
    "mae= mean_absolute_error(target_prostate_test, pred_rand_for_prostate)\n",
    "print('MAE: {0:0.2f}'.format(mae))\n",
    "\n",
    "r2score = r2_score(target_prostate_test,pred_rand_for_prostate)\n",
    "print('R^2: {0:0.2f}'.format(r2score))\n",
    "\n",
    "print(\"EQM Conjunto Teste: \",round(mean_squared_error(target_prostate_test, pred_rand_for_prostate),2))"
   ]
  },
  {
   "cell_type": "markdown",
   "id": "83ac317a",
   "metadata": {},
   "source": [
    "###### Ajuste SVM"
   ]
  },
  {
   "cell_type": "code",
   "execution_count": 11,
   "id": "a0714c09",
   "metadata": {},
   "outputs": [
    {
     "name": "stdout",
     "output_type": "stream",
     "text": [
      "Escore Variância Explicada:0.66\n",
      "MAE: 0.61\n",
      "R^2: 0.66\n",
      "EQM Conjunto Teste:  0.57\n"
     ]
    }
   ],
   "source": [
    "svm = SVR(kernel=\"linear\")\n",
    "svm_prostate = svm.fit(features_prostate_train, target_prostate_train)\n",
    "\n",
    "pred_svm_prostate = svm_prostate.predict(features_prostate_test)\n",
    "\n",
    "explained_variance = explained_variance_score(target_prostate_test, pred_svm_prostate)\n",
    "print('Escore Variância Explicada:{0:0.2f}'.format(explained_variance))\n",
    "\n",
    "mae= mean_absolute_error(target_prostate_test, pred_svm_prostate)\n",
    "print('MAE: {0:0.2f}'.format(mae))\n",
    "\n",
    "r2score = r2_score(target_prostate_test,pred_svm_prostate)\n",
    "print('R^2: {0:0.2f}'.format(r2score))\n",
    "\n",
    "print(\"EQM Conjunto Teste: \",round(mean_squared_error(target_prostate_test,pred_svm_prostate),2))"
   ]
  },
  {
   "cell_type": "markdown",
   "id": "a946021d",
   "metadata": {},
   "source": [
    "###### Ajuste RNA"
   ]
  },
  {
   "cell_type": "code",
   "execution_count": 12,
   "id": "84444fe8",
   "metadata": {},
   "outputs": [
    {
     "name": "stdout",
     "output_type": "stream",
     "text": [
      "Escore Variância Explicada:0.63\n",
      "MAE: 0.67\n",
      "R^2: 0.59\n",
      "EQM Conjunto Teste:  0.69\n"
     ]
    }
   ],
   "source": [
    "rna = MLPRegressor(random_state=13, learning_rate_init=0.05)\n",
    "rna_prostate = rna.fit(features_prostate_train, target_prostate_train)\n",
    "\n",
    "pred_rna_prostate = rna_prostate.predict(features_prostate_test)\n",
    "\n",
    "explained_variance = explained_variance_score(target_prostate_test, pred_rna_prostate)\n",
    "print('Escore Variância Explicada:{0:0.2f}'.format(explained_variance))\n",
    "\n",
    "mae= mean_absolute_error(target_prostate_test, pred_rna_prostate)\n",
    "print('MAE: {0:0.2f}'.format(mae))\n",
    "\n",
    "r2score = r2_score(target_prostate_test,pred_rna_prostate)\n",
    "print('R^2: {0:0.2f}'.format(r2score))\n",
    "\n",
    "print(\"EQM Conjunto Teste: \",round(mean_squared_error(target_prostate_test,pred_rna_prostate),2))"
   ]
  },
  {
   "cell_type": "markdown",
   "id": "a1698025",
   "metadata": {},
   "source": [
    "###### Comparação e Análise dos Resultados"
   ]
  },
  {
   "cell_type": "markdown",
   "id": "0be58b7f",
   "metadata": {},
   "source": [
    "Comparando os modelos ajustados, nota-se que a Regressão Linear e o SVM foram os que obtiveram melhor ajuste, com um valor de R2 em torno de 0.65. Os demais modelos (Regressão Lasso, Árvore de Decisão, Floresta Aleatória e RNA) não obtiveram resultados satisfatórios em relação aos citados anteriomente, por possuírem um valor de R2 abaixo, sendo o menor deles no modelo Lasso, e também um erro quadrático médio maior.\n",
    "\n",
    "Como dito anteriormente, os resultados obtidos pela Regressão Linear e pelo SVM foram muito próximos, no entanto, no segundo modelo o erro quadrático médio foi um pouco menor, o que faz dele um melhor modelo para predição da variável de interesse *lpsa*."
   ]
  },
  {
   "cell_type": "markdown",
   "id": "b53c59ae",
   "metadata": {},
   "source": [
    "### Problema 2"
   ]
  },
  {
   "cell_type": "code",
   "execution_count": 13,
   "id": "28b9f76e",
   "metadata": {},
   "outputs": [
    {
     "data": {
      "text/html": [
       "<div>\n",
       "<style scoped>\n",
       "    .dataframe tbody tr th:only-of-type {\n",
       "        vertical-align: middle;\n",
       "    }\n",
       "\n",
       "    .dataframe tbody tr th {\n",
       "        vertical-align: top;\n",
       "    }\n",
       "\n",
       "    .dataframe thead th {\n",
       "        text-align: right;\n",
       "    }\n",
       "</style>\n",
       "<table border=\"1\" class=\"dataframe\">\n",
       "  <thead>\n",
       "    <tr style=\"text-align: right;\">\n",
       "      <th></th>\n",
       "      <th>x1</th>\n",
       "      <th>x2</th>\n",
       "      <th>x3</th>\n",
       "      <th>x4</th>\n",
       "      <th>x5</th>\n",
       "      <th>x6</th>\n",
       "      <th>x7</th>\n",
       "      <th>x8</th>\n",
       "      <th>x9</th>\n",
       "      <th>x10</th>\n",
       "      <th>...</th>\n",
       "      <th>x43</th>\n",
       "      <th>x44</th>\n",
       "      <th>x45</th>\n",
       "      <th>x46</th>\n",
       "      <th>x47</th>\n",
       "      <th>x48</th>\n",
       "      <th>x49</th>\n",
       "      <th>x50</th>\n",
       "      <th>x51</th>\n",
       "      <th>y</th>\n",
       "    </tr>\n",
       "  </thead>\n",
       "  <tbody>\n",
       "    <tr>\n",
       "      <th>0</th>\n",
       "      <td>1</td>\n",
       "      <td>0</td>\n",
       "      <td>0</td>\n",
       "      <td>0.000000</td>\n",
       "      <td>1</td>\n",
       "      <td>0.178571</td>\n",
       "      <td>0</td>\n",
       "      <td>1</td>\n",
       "      <td>0</td>\n",
       "      <td>0</td>\n",
       "      <td>...</td>\n",
       "      <td>0</td>\n",
       "      <td>0.000000</td>\n",
       "      <td>0</td>\n",
       "      <td>1</td>\n",
       "      <td>0</td>\n",
       "      <td>0</td>\n",
       "      <td>0.000</td>\n",
       "      <td>0</td>\n",
       "      <td>0.000000</td>\n",
       "      <td>1</td>\n",
       "    </tr>\n",
       "    <tr>\n",
       "      <th>1</th>\n",
       "      <td>0</td>\n",
       "      <td>1</td>\n",
       "      <td>0</td>\n",
       "      <td>0.110226</td>\n",
       "      <td>0</td>\n",
       "      <td>0.178571</td>\n",
       "      <td>0</td>\n",
       "      <td>1</td>\n",
       "      <td>0</td>\n",
       "      <td>0</td>\n",
       "      <td>...</td>\n",
       "      <td>0</td>\n",
       "      <td>0.000000</td>\n",
       "      <td>0</td>\n",
       "      <td>1</td>\n",
       "      <td>0</td>\n",
       "      <td>0</td>\n",
       "      <td>0.000</td>\n",
       "      <td>0</td>\n",
       "      <td>0.000000</td>\n",
       "      <td>1</td>\n",
       "    </tr>\n",
       "    <tr>\n",
       "      <th>2</th>\n",
       "      <td>1</td>\n",
       "      <td>0</td>\n",
       "      <td>0</td>\n",
       "      <td>0.223008</td>\n",
       "      <td>0</td>\n",
       "      <td>0.129464</td>\n",
       "      <td>1</td>\n",
       "      <td>0</td>\n",
       "      <td>0</td>\n",
       "      <td>0</td>\n",
       "      <td>...</td>\n",
       "      <td>0</td>\n",
       "      <td>0.000000</td>\n",
       "      <td>1</td>\n",
       "      <td>1</td>\n",
       "      <td>0</td>\n",
       "      <td>0</td>\n",
       "      <td>0.050</td>\n",
       "      <td>0</td>\n",
       "      <td>0.000000</td>\n",
       "      <td>1</td>\n",
       "    </tr>\n",
       "    <tr>\n",
       "      <th>3</th>\n",
       "      <td>1</td>\n",
       "      <td>0</td>\n",
       "      <td>0</td>\n",
       "      <td>0.078947</td>\n",
       "      <td>0</td>\n",
       "      <td>0.062500</td>\n",
       "      <td>0</td>\n",
       "      <td>1</td>\n",
       "      <td>0</td>\n",
       "      <td>0</td>\n",
       "      <td>...</td>\n",
       "      <td>0</td>\n",
       "      <td>0.000000</td>\n",
       "      <td>1</td>\n",
       "      <td>1</td>\n",
       "      <td>0</td>\n",
       "      <td>0</td>\n",
       "      <td>0.056</td>\n",
       "      <td>0</td>\n",
       "      <td>0.169210</td>\n",
       "      <td>1</td>\n",
       "    </tr>\n",
       "    <tr>\n",
       "      <th>4</th>\n",
       "      <td>0</td>\n",
       "      <td>1</td>\n",
       "      <td>0</td>\n",
       "      <td>0.530075</td>\n",
       "      <td>0</td>\n",
       "      <td>0.053571</td>\n",
       "      <td>1</td>\n",
       "      <td>0</td>\n",
       "      <td>0</td>\n",
       "      <td>0</td>\n",
       "      <td>...</td>\n",
       "      <td>0</td>\n",
       "      <td>0.000000</td>\n",
       "      <td>1</td>\n",
       "      <td>1</td>\n",
       "      <td>0</td>\n",
       "      <td>0</td>\n",
       "      <td>0.050</td>\n",
       "      <td>0</td>\n",
       "      <td>0.289757</td>\n",
       "      <td>1</td>\n",
       "    </tr>\n",
       "    <tr>\n",
       "      <th>...</th>\n",
       "      <td>...</td>\n",
       "      <td>...</td>\n",
       "      <td>...</td>\n",
       "      <td>...</td>\n",
       "      <td>...</td>\n",
       "      <td>...</td>\n",
       "      <td>...</td>\n",
       "      <td>...</td>\n",
       "      <td>...</td>\n",
       "      <td>...</td>\n",
       "      <td>...</td>\n",
       "      <td>...</td>\n",
       "      <td>...</td>\n",
       "      <td>...</td>\n",
       "      <td>...</td>\n",
       "      <td>...</td>\n",
       "      <td>...</td>\n",
       "      <td>...</td>\n",
       "      <td>...</td>\n",
       "      <td>...</td>\n",
       "      <td>...</td>\n",
       "    </tr>\n",
       "    <tr>\n",
       "      <th>685</th>\n",
       "      <td>1</td>\n",
       "      <td>0</td>\n",
       "      <td>0</td>\n",
       "      <td>0.139098</td>\n",
       "      <td>0</td>\n",
       "      <td>0.026786</td>\n",
       "      <td>1</td>\n",
       "      <td>0</td>\n",
       "      <td>0</td>\n",
       "      <td>0</td>\n",
       "      <td>...</td>\n",
       "      <td>0</td>\n",
       "      <td>0.000000</td>\n",
       "      <td>1</td>\n",
       "      <td>0</td>\n",
       "      <td>0</td>\n",
       "      <td>1</td>\n",
       "      <td>0.160</td>\n",
       "      <td>0</td>\n",
       "      <td>0.000000</td>\n",
       "      <td>1</td>\n",
       "    </tr>\n",
       "    <tr>\n",
       "      <th>686</th>\n",
       "      <td>1</td>\n",
       "      <td>0</td>\n",
       "      <td>0</td>\n",
       "      <td>0.233083</td>\n",
       "      <td>0</td>\n",
       "      <td>0.528214</td>\n",
       "      <td>1</td>\n",
       "      <td>0</td>\n",
       "      <td>0</td>\n",
       "      <td>0</td>\n",
       "      <td>...</td>\n",
       "      <td>1</td>\n",
       "      <td>0.074627</td>\n",
       "      <td>1</td>\n",
       "      <td>1</td>\n",
       "      <td>0</td>\n",
       "      <td>0</td>\n",
       "      <td>0.084</td>\n",
       "      <td>0</td>\n",
       "      <td>0.000000</td>\n",
       "      <td>0</td>\n",
       "    </tr>\n",
       "    <tr>\n",
       "      <th>687</th>\n",
       "      <td>1</td>\n",
       "      <td>0</td>\n",
       "      <td>0</td>\n",
       "      <td>0.260602</td>\n",
       "      <td>0</td>\n",
       "      <td>0.053571</td>\n",
       "      <td>0</td>\n",
       "      <td>1</td>\n",
       "      <td>0</td>\n",
       "      <td>0</td>\n",
       "      <td>...</td>\n",
       "      <td>0</td>\n",
       "      <td>0.000000</td>\n",
       "      <td>0</td>\n",
       "      <td>0</td>\n",
       "      <td>0</td>\n",
       "      <td>1</td>\n",
       "      <td>0.080</td>\n",
       "      <td>0</td>\n",
       "      <td>0.000000</td>\n",
       "      <td>1</td>\n",
       "    </tr>\n",
       "    <tr>\n",
       "      <th>688</th>\n",
       "      <td>1</td>\n",
       "      <td>0</td>\n",
       "      <td>0</td>\n",
       "      <td>0.357143</td>\n",
       "      <td>0</td>\n",
       "      <td>0.029821</td>\n",
       "      <td>1</td>\n",
       "      <td>0</td>\n",
       "      <td>0</td>\n",
       "      <td>0</td>\n",
       "      <td>...</td>\n",
       "      <td>0</td>\n",
       "      <td>0.000000</td>\n",
       "      <td>0</td>\n",
       "      <td>1</td>\n",
       "      <td>0</td>\n",
       "      <td>0</td>\n",
       "      <td>0.060</td>\n",
       "      <td>0</td>\n",
       "      <td>0.155805</td>\n",
       "      <td>1</td>\n",
       "    </tr>\n",
       "    <tr>\n",
       "      <th>689</th>\n",
       "      <td>1</td>\n",
       "      <td>0</td>\n",
       "      <td>0</td>\n",
       "      <td>0.033835</td>\n",
       "      <td>0</td>\n",
       "      <td>0.111607</td>\n",
       "      <td>1</td>\n",
       "      <td>0</td>\n",
       "      <td>0</td>\n",
       "      <td>0</td>\n",
       "      <td>...</td>\n",
       "      <td>1</td>\n",
       "      <td>0.014925</td>\n",
       "      <td>0</td>\n",
       "      <td>1</td>\n",
       "      <td>0</td>\n",
       "      <td>0</td>\n",
       "      <td>0.000</td>\n",
       "      <td>0</td>\n",
       "      <td>0.169210</td>\n",
       "      <td>1</td>\n",
       "    </tr>\n",
       "  </tbody>\n",
       "</table>\n",
       "<p>690 rows × 52 columns</p>\n",
       "</div>"
      ],
      "text/plain": [
       "     x1  x2  x3        x4  x5        x6  x7  x8  x9  x10  ...  x43       x44  \\\n",
       "0     1   0   0  0.000000   1  0.178571   0   1   0    0  ...    0  0.000000   \n",
       "1     0   1   0  0.110226   0  0.178571   0   1   0    0  ...    0  0.000000   \n",
       "2     1   0   0  0.223008   0  0.129464   1   0   0    0  ...    0  0.000000   \n",
       "3     1   0   0  0.078947   0  0.062500   0   1   0    0  ...    0  0.000000   \n",
       "4     0   1   0  0.530075   0  0.053571   1   0   0    0  ...    0  0.000000   \n",
       "..   ..  ..  ..       ...  ..       ...  ..  ..  ..  ...  ...  ...       ...   \n",
       "685   1   0   0  0.139098   0  0.026786   1   0   0    0  ...    0  0.000000   \n",
       "686   1   0   0  0.233083   0  0.528214   1   0   0    0  ...    1  0.074627   \n",
       "687   1   0   0  0.260602   0  0.053571   0   1   0    0  ...    0  0.000000   \n",
       "688   1   0   0  0.357143   0  0.029821   1   0   0    0  ...    0  0.000000   \n",
       "689   1   0   0  0.033835   0  0.111607   1   0   0    0  ...    1  0.014925   \n",
       "\n",
       "     x45  x46  x47  x48    x49  x50       x51  y  \n",
       "0      0    1    0    0  0.000    0  0.000000  1  \n",
       "1      0    1    0    0  0.000    0  0.000000  1  \n",
       "2      1    1    0    0  0.050    0  0.000000  1  \n",
       "3      1    1    0    0  0.056    0  0.169210  1  \n",
       "4      1    1    0    0  0.050    0  0.289757  1  \n",
       "..   ...  ...  ...  ...    ...  ...       ... ..  \n",
       "685    1    0    0    1  0.160    0  0.000000  1  \n",
       "686    1    1    0    0  0.084    0  0.000000  0  \n",
       "687    0    0    0    1  0.080    0  0.000000  1  \n",
       "688    0    1    0    0  0.060    0  0.155805  1  \n",
       "689    0    1    0    0  0.000    0  0.169210  1  \n",
       "\n",
       "[690 rows x 52 columns]"
      ]
     },
     "execution_count": 13,
     "metadata": {},
     "output_type": "execute_result"
    }
   ],
   "source": [
    "card_data = pd.read_csv('data/card.csv', sep=\",\")\n",
    "card_data"
   ]
  },
  {
   "cell_type": "markdown",
   "id": "e4b2c6b1",
   "metadata": {},
   "source": [
    "###### Visualização da variável resposta"
   ]
  },
  {
   "cell_type": "code",
   "execution_count": 14,
   "id": "c6e09a1b",
   "metadata": {},
   "outputs": [
    {
     "data": {
      "text/plain": [
       "Text(0.5, 0.98, 'Distribuição dos dados da variável resposta (y)')"
      ]
     },
     "execution_count": 14,
     "metadata": {},
     "output_type": "execute_result"
    },
    {
     "data": {
      "image/png": "[encoded data removed]",
      "text/plain": [
       "<Figure size 360x432 with 1 Axes>"
      ]
     },
     "metadata": {
      "needs_background": "light"
     },
     "output_type": "display_data"
    }
   ],
   "source": [
    "%matplotlib inline\n",
    "\n",
    "\n",
    "unique, counts = np.unique(card_data[\"y\"], return_counts = True)\n",
    "unique = ''.join(str(e) for e in unique)\n",
    "plot_data = dict(zip(unique, counts))\n",
    "\n",
    "names = list(plot_data.keys())\n",
    "values = list(plot_data.values())\n",
    "\n",
    "fig, axs = plt.subplots(1, 1, figsize = (5, 6))\n",
    "axs.bar(names, values)\n",
    "fig.suptitle('Distribuição dos dados da variável resposta (y)')"
   ]
  },
  {
   "cell_type": "markdown",
   "id": "6396d2d0",
   "metadata": {},
   "source": [
    "Por meio do gráfico acima, é possível notar que a variável resposta, que é categórica, possui apenas 2 níveis, sendo eles 0 ou 1. Além disso, as duas categorias possuem frequências próximas, indicando que os dados estão, de certa forma, balanceados de acordo com a variável resposta. Nesse problema serão ajustados 3 modelos diferentes para avaliação das métricas, são eles: KNN (k=5), Naive Bayes e Regressão Logística."
   ]
  },
  {
   "cell_type": "markdown",
   "id": "f8f8a5e0",
   "metadata": {},
   "source": [
    "###### Separação entre *features* e *target*"
   ]
  },
  {
   "cell_type": "code",
   "execution_count": 15,
   "id": "47fc22de",
   "metadata": {},
   "outputs": [],
   "source": [
    "features_card = card_data.drop(columns = {\"y\"})\n",
    "target_card = card_data[\"y\"]"
   ]
  },
  {
   "cell_type": "markdown",
   "id": "faceafa0",
   "metadata": {},
   "source": [
    "###### Padronização das *features*"
   ]
  },
  {
   "cell_type": "code",
   "execution_count": 16,
   "id": "6fb65f44",
   "metadata": {},
   "outputs": [],
   "source": [
    "scaler = StandardScaler()\n",
    "features_card_scaled = scaler.fit_transform(features_card)"
   ]
  },
  {
   "cell_type": "markdown",
   "id": "3454f8a5",
   "metadata": {},
   "source": [
    "###### Definição dos métodos de avaliação dos modelos"
   ]
  },
  {
   "cell_type": "code",
   "execution_count": 17,
   "id": "83b8b4d2",
   "metadata": {},
   "outputs": [],
   "source": [
    "metodos_avaliacao = {\"accuracy\": \"Acurácia:\", \"recall\": \"Recall:\", \"precision\": \"Precison:\", \"f1\": \"f1:\"}"
   ]
  },
  {
   "cell_type": "markdown",
   "id": "82c4cba6",
   "metadata": {},
   "source": [
    "###### Aplicando o método 5-vizinhos mais próximos"
   ]
  },
  {
   "cell_type": "code",
   "execution_count": 18,
   "id": "a3c3b32e",
   "metadata": {},
   "outputs": [
    {
     "name": "stdout",
     "output_type": "stream",
     "text": [
      "Dados padronizados:\n",
      "Acurácia: [0.8  0.8  0.77 0.74 0.83 0.87 0.8  0.83 0.8  0.78] Média: 0.8\n",
      "Recall: [0.95 0.85 0.9  0.79 0.87 0.87 0.87 0.89 0.84 0.84] Média: 0.87\n",
      "Precison: [0.76 0.8  0.74 0.75 0.82 0.89 0.79 0.81 0.8  0.78] Média: 0.79\n",
      "f1: [0.84 0.82 0.81 0.77 0.85 0.88 0.82 0.85 0.82 0.81] Média: 0.83\n",
      "\n",
      "\n",
      "Dados originais:\n",
      "Acurácia: [0.77 0.83 0.81 0.83 0.93 0.91 0.86 0.86 0.78 0.86] Média: 0.84\n",
      "Recall: [0.85 0.85 0.85 0.84 0.92 0.87 0.92 0.95 0.79 0.89] Média: 0.87\n",
      "Precison: [0.77 0.85 0.82 0.84 0.95 0.97 0.83 0.82 0.81 0.85] Média: 0.85\n",
      "f1: [0.8  0.85 0.84 0.84 0.93 0.92 0.88 0.88 0.8  0.87] Média: 0.86\n"
     ]
    }
   ],
   "source": [
    "neigh_card = KNeighborsClassifier(n_neighbors=5)\n",
    "\n",
    "\n",
    "# Validação cruzada com método 10-fold\n",
    "print(\"Dados padronizados:\")\n",
    "avaliacao_classificador(neigh_card, metodos_avaliacao, features_card_scaled, target_card, cv=10)\n",
    "\n",
    "print(\"\\n\")\n",
    "print(\"Dados originais:\")\n",
    "avaliacao_classificador(neigh_card, metodos_avaliacao, features_card, target_card, cv=10)"
   ]
  },
  {
   "cell_type": "markdown",
   "id": "4d6a764c",
   "metadata": {},
   "source": [
    "Ao ajustar o modelo de 5 vizinhos mais próximos nos dados padronizados e nos dados originais, observou-se melhor resultado no modelo em que foi utilizado os dados originais."
   ]
  },
  {
   "cell_type": "markdown",
   "id": "b05bcf06",
   "metadata": {},
   "source": [
    "###### Aplicando o método Naive Bayes"
   ]
  },
  {
   "cell_type": "code",
   "execution_count": 19,
   "id": "3ae5aeb5",
   "metadata": {},
   "outputs": [
    {
     "name": "stdout",
     "output_type": "stream",
     "text": [
      "Acurácia: [0.67 0.74 0.7  0.67 0.65 0.7  0.74 0.68 0.68 0.65] Média: 0.69\n",
      "Recall: [0.97 1.   1.   0.87 0.97 0.95 1.   0.89 0.95 0.97] Média: 0.96\n",
      "Precison: [0.63 0.68 0.65 0.65 0.62 0.65 0.68 0.65 0.64 0.62] Média: 0.65\n",
      "f1: [0.77 0.81 0.79 0.74 0.76 0.77 0.81 0.76 0.77 0.76] Média: 0.77\n"
     ]
    }
   ],
   "source": [
    "gaussian_nb_card = GaussianNB()\n",
    "\n",
    "# Validação cruzada com método 10-fold\n",
    "avaliacao_classificador(gaussian_nb_card, metodos_avaliacao, features_card, target_card, cv=10)"
   ]
  },
  {
   "cell_type": "markdown",
   "id": "3b300d8f",
   "metadata": {},
   "source": [
    "Comparando os resultados do modelo KNN e Naive Bayes, observou-se que o primeiro possui métricas de avaliação melhores, por possuir valores maiores dessas medidas, exceto quando se trata da sensibilidade. Nesse caso, como o modelo Naive Bayes possui alta sensibilidade ele é bom para identificar instâncias positivas quanto a concessão do crédito quando ela é realmente positiva. No entanto, nesse caso a precisão do modelo não é tão boa, indicando que ao classificar uma instância como positiva existe uma proporção considerável delas que na realidade é negativa."
   ]
  },
  {
   "cell_type": "markdown",
   "id": "21a642c7",
   "metadata": {},
   "source": [
    "###### Aplicando o método de Regressão Logística"
   ]
  },
  {
   "cell_type": "code",
   "execution_count": 20,
   "id": "d2138758",
   "metadata": {},
   "outputs": [
    {
     "name": "stdout",
     "output_type": "stream",
     "text": [
      "Acurácia: [0.75 0.88 0.84 0.84 0.87 0.88 0.9  0.86 0.86 0.86] Média: 0.85\n",
      "Recall: [0.77 0.87 0.9  0.76 0.82 0.84 0.87 0.92 0.79 0.87] Média: 0.84\n",
      "Precison: [0.79 0.92 0.83 0.94 0.94 0.94 0.94 0.83 0.94 0.87] Média: 0.89\n",
      "f1: [0.78 0.89 0.86 0.84 0.87 0.89 0.9  0.88 0.86 0.87] Média: 0.86\n"
     ]
    }
   ],
   "source": [
    "logistic_regression_card = LogisticRegression()\n",
    "\n",
    "avaliacao_classificador(logistic_regression_card, metodos_avaliacao, features_card, target_card, cv=10)"
   ]
  },
  {
   "cell_type": "markdown",
   "id": "f1b3024a",
   "metadata": {},
   "source": [
    "Comparando o modelo logístico com os demais, ele possui sensibilidade inferior aos modelos KNN e Naive Bayes, no entanto, para as demais métricas, obteve medidas mais elevadas se comparadas com os demais modelos."
   ]
  },
  {
   "cell_type": "markdown",
   "id": "8480cdb6",
   "metadata": {},
   "source": [
    "###### Aplicando o método de Análise Discriminante"
   ]
  },
  {
   "cell_type": "code",
   "execution_count": 21,
   "id": "64df24d6",
   "metadata": {},
   "outputs": [
    {
     "name": "stdout",
     "output_type": "stream",
     "text": [
      "Acurácia: [0.78 0.9  0.9  0.81 0.84 0.91 0.88 0.88 0.87 0.9 ] Média: 0.87\n",
      "Recall: [0.74 0.82 0.87 0.71 0.76 0.84 0.84 0.92 0.76 0.87] Média: 0.81\n",
      "Precison: [0.85 1.   0.94 0.93 0.94 1.   0.94 0.88 1.   0.94] Média: 0.94\n",
      "f1: [0.79 0.9  0.91 0.81 0.84 0.91 0.89 0.9  0.87 0.9 ] Média: 0.87\n"
     ]
    }
   ],
   "source": [
    "discriminant_card = LinearDiscriminantAnalysis()\n",
    "\n",
    "avaliacao_classificador(discriminant_card, metodos_avaliacao, features_card, target_card, cv=10)"
   ]
  },
  {
   "cell_type": "markdown",
   "id": "5bb3ed22",
   "metadata": {},
   "source": [
    "###### Aplicando o método de Árvore de Decisão"
   ]
  },
  {
   "cell_type": "code",
   "execution_count": 22,
   "id": "b7a5a0cb",
   "metadata": {},
   "outputs": [
    {
     "name": "stdout",
     "output_type": "stream",
     "text": [
      "Acurácia: [0.74 0.72 0.78 0.81 0.81 0.94 0.81 0.86 0.86 0.8 ] Média: 0.81\n",
      "Recall: [0.79 0.77 0.79 0.74 0.87 0.92 0.87 0.92 0.89 0.82] Média: 0.84\n",
      "Precison: [0.76 0.75 0.82 0.9  0.8  0.97 0.8  0.83 0.85 0.82] Média: 0.83\n",
      "f1: [0.77 0.76 0.81 0.81 0.84 0.95 0.84 0.88 0.87 0.82] Média: 0.83\n"
     ]
    }
   ],
   "source": [
    "decisiontree_card = DecisionTreeClassifier(random_state=13)\n",
    "\n",
    "avaliacao_classificador(decisiontree_card, metodos_avaliacao, features_card, target_card, cv=10)"
   ]
  },
  {
   "cell_type": "markdown",
   "id": "0553399c",
   "metadata": {},
   "source": [
    "###### Aplicando o método de Florestas Aleatórias"
   ]
  },
  {
   "cell_type": "code",
   "execution_count": 23,
   "id": "eef41eb3",
   "metadata": {},
   "outputs": [
    {
     "name": "stdout",
     "output_type": "stream",
     "text": [
      "Acurácia: [0.78 0.87 0.86 0.84 0.91 0.93 0.91 0.88 0.86 0.88] Média: 0.87\n",
      "Recall: [0.82 0.87 0.95 0.79 0.89 0.89 0.97 0.95 0.82 0.95] Média: 0.89\n",
      "Precison: [0.8  0.89 0.82 0.91 0.94 0.97 0.88 0.86 0.91 0.86] Média: 0.88\n",
      "f1: [0.81 0.88 0.88 0.85 0.92 0.93 0.92 0.9  0.86 0.9 ] Média: 0.89\n"
     ]
    }
   ],
   "source": [
    "randomforest_card = RandomForestClassifier(random_state=13)\n",
    "\n",
    "avaliacao_classificador(randomforest_card, metodos_avaliacao, features_card, target_card, cv=10)"
   ]
  },
  {
   "cell_type": "markdown",
   "id": "f5432766",
   "metadata": {},
   "source": [
    "###### Aplicando o método SVM"
   ]
  },
  {
   "cell_type": "code",
   "execution_count": 24,
   "id": "d72b5f42",
   "metadata": {},
   "outputs": [
    {
     "name": "stdout",
     "output_type": "stream",
     "text": [
      "Acurácia: [0.75 0.88 0.88 0.84 0.84 0.88 0.9  0.88 0.86 0.88] Média: 0.86\n",
      "Recall: [0.74 0.85 0.9  0.76 0.76 0.82 0.87 0.89 0.76 0.87] Média: 0.82\n",
      "Precison: [0.81 0.94 0.9  0.94 0.94 0.97 0.94 0.89 0.97 0.92] Média: 0.92\n",
      "f1: [0.77 0.89 0.9  0.84 0.84 0.89 0.9  0.89 0.85 0.89] Média: 0.87\n"
     ]
    }
   ],
   "source": [
    "SVM_card = SVC(random_state=13)\n",
    "\n",
    "avaliacao_classificador(SVM_card, metodos_avaliacao, features_card, target_card, cv=10)"
   ]
  },
  {
   "cell_type": "markdown",
   "id": "0738ab04",
   "metadata": {},
   "source": [
    "###### Aplicando o método RNA"
   ]
  },
  {
   "cell_type": "code",
   "execution_count": 25,
   "id": "ba61feab",
   "metadata": {},
   "outputs": [
    {
     "name": "stdout",
     "output_type": "stream",
     "text": [
      "Acurácia: [0.8  0.84 0.81 0.8  0.9  0.87 0.93 0.86 0.88 0.9 ] Média: 0.86\n",
      "Recall: [0.82 0.85 0.87 0.76 0.89 0.82 0.97 0.97 0.82 0.89] Média: 0.87\n",
      "Precison: [0.82 0.87 0.81 0.85 0.92 0.94 0.9  0.8  0.97 0.92] Média: 0.88\n",
      "f1: [0.82 0.86 0.84 0.81 0.91 0.87 0.94 0.88 0.89 0.91] Média: 0.87\n"
     ]
    }
   ],
   "source": [
    "RNA_card = MLPClassifier(random_state=13, learning_rate_init=0.01)\n",
    "\n",
    "avaliacao_classificador(RNA_card, metodos_avaliacao, features_card, target_card, cv=10)"
   ]
  },
  {
   "cell_type": "markdown",
   "id": "2b5f295a",
   "metadata": {},
   "source": [
    "Podemos observar que cada modelo performou melhor a depender da métrica utilizada para a avaliação. Nesse caso, cabe ao banco avaliar qual métrica deve ser maximizada em um modelo para classificação da concessão de crédito. Uma alta sensibilidade indica que o modelo prevê bem instâncias como positivas quanto a concessão de crédito quando ela é realmente positiva. No entanto, também é interessante que a precisão do modelo seja alta, para assim evitar prejuízos ao aumentar a proporção de observações verdadeiramente positivas quando elas foram classificadas positivas. Nesse sentido temos que se o interesse é maximizar a sensibilidade o modelo Naive Bayes é o que se saiu melhor com 96%, já se o interesse for maximizar a precisão temos que o melhor modelo foi a Análise Discriminante com 94% de acerto nas classificações positivas. A métrica f1 representa uma medida de equilíbrio entre a sensibilidade e a precisão (média harmônica entre as duas medidas), para essa medida temos que o modelo de Floresta Aleatória performou melhor."
   ]
  },
  {
   "cell_type": "markdown",
   "id": "af3cc355",
   "metadata": {},
   "source": [
    "### Problema 3"
   ]
  },
  {
   "cell_type": "markdown",
   "id": "9da634b8",
   "metadata": {},
   "source": [
    "Importação e visualização do banco de dados"
   ]
  },
  {
   "cell_type": "code",
   "execution_count": 26,
   "id": "c0da1918",
   "metadata": {},
   "outputs": [
    {
     "data": {
      "text/html": [
       "<div>\n",
       "<style scoped>\n",
       "    .dataframe tbody tr th:only-of-type {\n",
       "        vertical-align: middle;\n",
       "    }\n",
       "\n",
       "    .dataframe tbody tr th {\n",
       "        vertical-align: top;\n",
       "    }\n",
       "\n",
       "    .dataframe thead th {\n",
       "        text-align: right;\n",
       "    }\n",
       "</style>\n",
       "<table border=\"1\" class=\"dataframe\">\n",
       "  <thead>\n",
       "    <tr style=\"text-align: right;\">\n",
       "      <th></th>\n",
       "      <th>Inst.Name</th>\n",
       "      <th>Private</th>\n",
       "      <th>Apps</th>\n",
       "      <th>Accept</th>\n",
       "      <th>Enroll</th>\n",
       "      <th>Top10perc</th>\n",
       "      <th>Top25perc</th>\n",
       "      <th>F.Undergrad</th>\n",
       "      <th>P.Undergrad</th>\n",
       "      <th>Outstate</th>\n",
       "      <th>Room.Board</th>\n",
       "      <th>Books</th>\n",
       "      <th>Personal</th>\n",
       "      <th>PhD</th>\n",
       "      <th>Terminal</th>\n",
       "      <th>S.F.Ratio</th>\n",
       "      <th>perc.alumni</th>\n",
       "      <th>Expend</th>\n",
       "      <th>Grad.Rate</th>\n",
       "    </tr>\n",
       "  </thead>\n",
       "  <tbody>\n",
       "    <tr>\n",
       "      <th>0</th>\n",
       "      <td>Abilene Christian University</td>\n",
       "      <td>Yes</td>\n",
       "      <td>1660</td>\n",
       "      <td>1232</td>\n",
       "      <td>721</td>\n",
       "      <td>23</td>\n",
       "      <td>52</td>\n",
       "      <td>2885</td>\n",
       "      <td>537</td>\n",
       "      <td>7440</td>\n",
       "      <td>3300</td>\n",
       "      <td>450</td>\n",
       "      <td>2200</td>\n",
       "      <td>70</td>\n",
       "      <td>78</td>\n",
       "      <td>18.1</td>\n",
       "      <td>12</td>\n",
       "      <td>7041</td>\n",
       "      <td>60</td>\n",
       "    </tr>\n",
       "    <tr>\n",
       "      <th>1</th>\n",
       "      <td>Adelphi University</td>\n",
       "      <td>Yes</td>\n",
       "      <td>2186</td>\n",
       "      <td>1924</td>\n",
       "      <td>512</td>\n",
       "      <td>16</td>\n",
       "      <td>29</td>\n",
       "      <td>2683</td>\n",
       "      <td>1227</td>\n",
       "      <td>12280</td>\n",
       "      <td>6450</td>\n",
       "      <td>750</td>\n",
       "      <td>1500</td>\n",
       "      <td>29</td>\n",
       "      <td>30</td>\n",
       "      <td>12.2</td>\n",
       "      <td>16</td>\n",
       "      <td>10527</td>\n",
       "      <td>56</td>\n",
       "    </tr>\n",
       "    <tr>\n",
       "      <th>2</th>\n",
       "      <td>Adrian College</td>\n",
       "      <td>Yes</td>\n",
       "      <td>1428</td>\n",
       "      <td>1097</td>\n",
       "      <td>336</td>\n",
       "      <td>22</td>\n",
       "      <td>50</td>\n",
       "      <td>1036</td>\n",
       "      <td>99</td>\n",
       "      <td>11250</td>\n",
       "      <td>3750</td>\n",
       "      <td>400</td>\n",
       "      <td>1165</td>\n",
       "      <td>53</td>\n",
       "      <td>66</td>\n",
       "      <td>12.9</td>\n",
       "      <td>30</td>\n",
       "      <td>8735</td>\n",
       "      <td>54</td>\n",
       "    </tr>\n",
       "    <tr>\n",
       "      <th>3</th>\n",
       "      <td>Agnes Scott College</td>\n",
       "      <td>Yes</td>\n",
       "      <td>417</td>\n",
       "      <td>349</td>\n",
       "      <td>137</td>\n",
       "      <td>60</td>\n",
       "      <td>89</td>\n",
       "      <td>510</td>\n",
       "      <td>63</td>\n",
       "      <td>12960</td>\n",
       "      <td>5450</td>\n",
       "      <td>450</td>\n",
       "      <td>875</td>\n",
       "      <td>92</td>\n",
       "      <td>97</td>\n",
       "      <td>7.7</td>\n",
       "      <td>37</td>\n",
       "      <td>19016</td>\n",
       "      <td>59</td>\n",
       "    </tr>\n",
       "    <tr>\n",
       "      <th>4</th>\n",
       "      <td>Alaska Pacific University</td>\n",
       "      <td>Yes</td>\n",
       "      <td>193</td>\n",
       "      <td>146</td>\n",
       "      <td>55</td>\n",
       "      <td>16</td>\n",
       "      <td>44</td>\n",
       "      <td>249</td>\n",
       "      <td>869</td>\n",
       "      <td>7560</td>\n",
       "      <td>4120</td>\n",
       "      <td>800</td>\n",
       "      <td>1500</td>\n",
       "      <td>76</td>\n",
       "      <td>72</td>\n",
       "      <td>11.9</td>\n",
       "      <td>2</td>\n",
       "      <td>10922</td>\n",
       "      <td>15</td>\n",
       "    </tr>\n",
       "    <tr>\n",
       "      <th>...</th>\n",
       "      <td>...</td>\n",
       "      <td>...</td>\n",
       "      <td>...</td>\n",
       "      <td>...</td>\n",
       "      <td>...</td>\n",
       "      <td>...</td>\n",
       "      <td>...</td>\n",
       "      <td>...</td>\n",
       "      <td>...</td>\n",
       "      <td>...</td>\n",
       "      <td>...</td>\n",
       "      <td>...</td>\n",
       "      <td>...</td>\n",
       "      <td>...</td>\n",
       "      <td>...</td>\n",
       "      <td>...</td>\n",
       "      <td>...</td>\n",
       "      <td>...</td>\n",
       "      <td>...</td>\n",
       "    </tr>\n",
       "    <tr>\n",
       "      <th>772</th>\n",
       "      <td>Worcester State College</td>\n",
       "      <td>No</td>\n",
       "      <td>2197</td>\n",
       "      <td>1515</td>\n",
       "      <td>543</td>\n",
       "      <td>4</td>\n",
       "      <td>26</td>\n",
       "      <td>3089</td>\n",
       "      <td>2029</td>\n",
       "      <td>6797</td>\n",
       "      <td>3900</td>\n",
       "      <td>500</td>\n",
       "      <td>1200</td>\n",
       "      <td>60</td>\n",
       "      <td>60</td>\n",
       "      <td>21.0</td>\n",
       "      <td>14</td>\n",
       "      <td>4469</td>\n",
       "      <td>40</td>\n",
       "    </tr>\n",
       "    <tr>\n",
       "      <th>773</th>\n",
       "      <td>Xavier University</td>\n",
       "      <td>Yes</td>\n",
       "      <td>1959</td>\n",
       "      <td>1805</td>\n",
       "      <td>695</td>\n",
       "      <td>24</td>\n",
       "      <td>47</td>\n",
       "      <td>2849</td>\n",
       "      <td>1107</td>\n",
       "      <td>11520</td>\n",
       "      <td>4960</td>\n",
       "      <td>600</td>\n",
       "      <td>1250</td>\n",
       "      <td>73</td>\n",
       "      <td>75</td>\n",
       "      <td>13.3</td>\n",
       "      <td>31</td>\n",
       "      <td>9189</td>\n",
       "      <td>83</td>\n",
       "    </tr>\n",
       "    <tr>\n",
       "      <th>774</th>\n",
       "      <td>Xavier University of Louisiana</td>\n",
       "      <td>Yes</td>\n",
       "      <td>2097</td>\n",
       "      <td>1915</td>\n",
       "      <td>695</td>\n",
       "      <td>34</td>\n",
       "      <td>61</td>\n",
       "      <td>2793</td>\n",
       "      <td>166</td>\n",
       "      <td>6900</td>\n",
       "      <td>4200</td>\n",
       "      <td>617</td>\n",
       "      <td>781</td>\n",
       "      <td>67</td>\n",
       "      <td>75</td>\n",
       "      <td>14.4</td>\n",
       "      <td>20</td>\n",
       "      <td>8323</td>\n",
       "      <td>49</td>\n",
       "    </tr>\n",
       "    <tr>\n",
       "      <th>775</th>\n",
       "      <td>Yale University</td>\n",
       "      <td>Yes</td>\n",
       "      <td>10705</td>\n",
       "      <td>2453</td>\n",
       "      <td>1317</td>\n",
       "      <td>95</td>\n",
       "      <td>99</td>\n",
       "      <td>5217</td>\n",
       "      <td>83</td>\n",
       "      <td>19840</td>\n",
       "      <td>6510</td>\n",
       "      <td>630</td>\n",
       "      <td>2115</td>\n",
       "      <td>96</td>\n",
       "      <td>96</td>\n",
       "      <td>5.8</td>\n",
       "      <td>49</td>\n",
       "      <td>40386</td>\n",
       "      <td>99</td>\n",
       "    </tr>\n",
       "    <tr>\n",
       "      <th>776</th>\n",
       "      <td>York College of Pennsylvania</td>\n",
       "      <td>Yes</td>\n",
       "      <td>2989</td>\n",
       "      <td>1855</td>\n",
       "      <td>691</td>\n",
       "      <td>28</td>\n",
       "      <td>63</td>\n",
       "      <td>2988</td>\n",
       "      <td>1726</td>\n",
       "      <td>4990</td>\n",
       "      <td>3560</td>\n",
       "      <td>500</td>\n",
       "      <td>1250</td>\n",
       "      <td>75</td>\n",
       "      <td>75</td>\n",
       "      <td>18.1</td>\n",
       "      <td>28</td>\n",
       "      <td>4509</td>\n",
       "      <td>99</td>\n",
       "    </tr>\n",
       "  </tbody>\n",
       "</table>\n",
       "<p>777 rows × 19 columns</p>\n",
       "</div>"
      ],
      "text/plain": [
       "                          Inst.Name Private   Apps  Accept  Enroll  Top10perc  \\\n",
       "0      Abilene Christian University     Yes   1660    1232     721         23   \n",
       "1                Adelphi University     Yes   2186    1924     512         16   \n",
       "2                    Adrian College     Yes   1428    1097     336         22   \n",
       "3               Agnes Scott College     Yes    417     349     137         60   \n",
       "4         Alaska Pacific University     Yes    193     146      55         16   \n",
       "..                              ...     ...    ...     ...     ...        ...   \n",
       "772         Worcester State College      No   2197    1515     543          4   \n",
       "773               Xavier University     Yes   1959    1805     695         24   \n",
       "774  Xavier University of Louisiana     Yes   2097    1915     695         34   \n",
       "775                 Yale University     Yes  10705    2453    1317         95   \n",
       "776    York College of Pennsylvania     Yes   2989    1855     691         28   \n",
       "\n",
       "     Top25perc  F.Undergrad  P.Undergrad  Outstate  Room.Board  Books  \\\n",
       "0           52         2885          537      7440        3300    450   \n",
       "1           29         2683         1227     12280        6450    750   \n",
       "2           50         1036           99     11250        3750    400   \n",
       "3           89          510           63     12960        5450    450   \n",
       "4           44          249          869      7560        4120    800   \n",
       "..         ...          ...          ...       ...         ...    ...   \n",
       "772         26         3089         2029      6797        3900    500   \n",
       "773         47         2849         1107     11520        4960    600   \n",
       "774         61         2793          166      6900        4200    617   \n",
       "775         99         5217           83     19840        6510    630   \n",
       "776         63         2988         1726      4990        3560    500   \n",
       "\n",
       "     Personal  PhD  Terminal  S.F.Ratio  perc.alumni  Expend  Grad.Rate  \n",
       "0        2200   70        78       18.1           12    7041         60  \n",
       "1        1500   29        30       12.2           16   10527         56  \n",
       "2        1165   53        66       12.9           30    8735         54  \n",
       "3         875   92        97        7.7           37   19016         59  \n",
       "4        1500   76        72       11.9            2   10922         15  \n",
       "..        ...  ...       ...        ...          ...     ...        ...  \n",
       "772      1200   60        60       21.0           14    4469         40  \n",
       "773      1250   73        75       13.3           31    9189         83  \n",
       "774       781   67        75       14.4           20    8323         49  \n",
       "775      2115   96        96        5.8           49   40386         99  \n",
       "776      1250   75        75       18.1           28    4509         99  \n",
       "\n",
       "[777 rows x 19 columns]"
      ]
     },
     "execution_count": 26,
     "metadata": {},
     "output_type": "execute_result"
    }
   ],
   "source": [
    "college_data = pd.read_csv(\"data/College.csv\")\n",
    "college_data"
   ]
  },
  {
   "cell_type": "markdown",
   "id": "71357b42",
   "metadata": {},
   "source": [
    "Foi feita a troca da variável *Top10perc* pela variável *Elite*, sendo esta uma variável que assume o valor 0 para valores da variável *Top10perc* no intervalo (-1, 50] e 1 para valores no intervalo (50, 101]."
   ]
  },
  {
   "cell_type": "code",
   "execution_count": 27,
   "id": "d0cba7c6",
   "metadata": {},
   "outputs": [],
   "source": [
    "college_data[\"Elite\"] = pd.cut(college_data[\"Top10perc\"], bins = (-1,50,101), labels = False)\n",
    "college_data = college_data.drop(columns = {\"Top10perc\"})"
   ]
  },
  {
   "cell_type": "markdown",
   "id": "fdd2de2b",
   "metadata": {},
   "source": [
    "Foi feita a troca da variável Private para valores inteiros (Yes = 1; No = 0)."
   ]
  },
  {
   "cell_type": "code",
   "execution_count": 28,
   "id": "66a3319c",
   "metadata": {},
   "outputs": [],
   "source": [
    "college_data[\"Private\"] = np.where(college_data[\"Private\"] == 'Yes', 1, 0)"
   ]
  },
  {
   "cell_type": "markdown",
   "id": "736a5b3b",
   "metadata": {},
   "source": [
    "Visualização da variável resposta"
   ]
  },
  {
   "cell_type": "code",
   "execution_count": 29,
   "id": "0e16911f",
   "metadata": {},
   "outputs": [
    {
     "data": {
      "text/plain": [
       "Text(0.5, 0.98, 'Distribuição dos dados da variável resposta (Elite)')"
      ]
     },
     "execution_count": 29,
     "metadata": {},
     "output_type": "execute_result"
    },
    {
     "data": {
      "image/png": "[encoded data removed]",
      "text/plain": [
       "<Figure size 360x432 with 1 Axes>"
      ]
     },
     "metadata": {
      "needs_background": "light"
     },
     "output_type": "display_data"
    }
   ],
   "source": [
    "%matplotlib inline\n",
    "\n",
    "\n",
    "unique, counts = np.unique(college_data[\"Elite\"], return_counts = True)\n",
    "unique = ''.join(str(e) for e in unique)\n",
    "plot_data = dict(zip(unique, counts))\n",
    "\n",
    "names = list(plot_data.keys())\n",
    "values = list(plot_data.values())\n",
    "\n",
    "fig, axs = plt.subplots(1, 1, figsize = (5, 6))\n",
    "axs.bar(names, values)\n",
    "fig.suptitle('Distribuição dos dados da variável resposta (Elite)')"
   ]
  },
  {
   "cell_type": "markdown",
   "id": "5f3419ea",
   "metadata": {},
   "source": [
    "Com o gráfico acima podemos perceber como a variável resposta apresenta classes (0, 1) com frequência nos dados desbalanceada. Isso deve ser observado nos modelos feitos a seguir."
   ]
  },
  {
   "cell_type": "markdown",
   "id": "ac9cfbd3",
   "metadata": {},
   "source": [
    "Separação entre *features* e *target*"
   ]
  },
  {
   "cell_type": "code",
   "execution_count": 30,
   "id": "4aa1e731",
   "metadata": {},
   "outputs": [],
   "source": [
    "features_college = college_data.drop(columns = {\"Inst.Name\", \"Elite\"})\n",
    "target_college = college_data[\"Elite\"]"
   ]
  },
  {
   "cell_type": "markdown",
   "id": "9a73ba0c",
   "metadata": {},
   "source": [
    "Foi feita a padronização das *features*"
   ]
  },
  {
   "cell_type": "code",
   "execution_count": 31,
   "id": "fee49c4f",
   "metadata": {},
   "outputs": [],
   "source": [
    "scaler = StandardScaler()\n",
    "features_college_scaled = scaler.fit_transform(features_college)"
   ]
  },
  {
   "cell_type": "markdown",
   "id": "426c2a82",
   "metadata": {},
   "source": [
    "###### Definição dos métodos de avaliação dos modelos"
   ]
  },
  {
   "cell_type": "code",
   "execution_count": 32,
   "id": "3b513931",
   "metadata": {},
   "outputs": [],
   "source": [
    "metodos_avaliacao = {\"accuracy\": \"Acurácia:\", \"recall\": \"Recall:\", \"precision\": \"Precison:\", \"f1\": \"f1:\"}"
   ]
  },
  {
   "cell_type": "markdown",
   "id": "c227e303",
   "metadata": {},
   "source": [
    "###### Aplicando o método de K-vizinhos"
   ]
  },
  {
   "cell_type": "code",
   "execution_count": 33,
   "id": "0f738c4d",
   "metadata": {},
   "outputs": [
    {
     "name": "stdout",
     "output_type": "stream",
     "text": [
      "Dados padronizados\n",
      "Acurácia: [0.94 0.96 0.97 0.95 0.95 0.94 0.91 0.9  0.97 0.94] Média: 0.94\n",
      "Recall: [0.75 0.62 0.75 0.5  0.5  0.5  0.12 0.14 0.71 0.62] Média: 0.52\n",
      "Precison: [0.67 1.   1.   1.   1.   0.8  1.   0.33 1.   0.71] Média: 0.85\n",
      "f1: [0.71 0.77 0.86 0.67 0.67 0.62 0.22 0.2  0.83 0.67] Média: 0.62\n",
      "\n",
      "\n",
      "Dados originais\n",
      "Acurácia: [0.91 0.94 0.96 0.94 0.95 0.92 0.9  0.91 0.92 0.95] Média: 0.93\n",
      "Recall: [0.5  0.38 0.62 0.5  0.5  0.38 0.12 0.14 0.57 0.62] Média: 0.43\n",
      "Precison: [0.57 1.   1.   0.8  1.   0.75 0.5  0.5  0.57 0.83] Média: 0.75\n",
      "f1: [0.53 0.55 0.77 0.62 0.67 0.5  0.2  0.22 0.57 0.71] Média: 0.53\n"
     ]
    }
   ],
   "source": [
    "neigh_college = KNeighborsClassifier(n_neighbors=5)\n",
    "\n",
    "# Validação cruzada com método 10-fold\n",
    "print(\"Dados padronizados\")\n",
    "avaliacao_classificador(neigh_college, metodos_avaliacao, features_college_scaled, target_college, cv=10)\n",
    "\n",
    "print(\"\\n\")\n",
    "print(\"Dados originais\")\n",
    "avaliacao_classificador(neigh_college, metodos_avaliacao, features_college, target_college, cv=10)"
   ]
  },
  {
   "cell_type": "markdown",
   "id": "fe7aa76d",
   "metadata": {},
   "source": [
    "Como podemos ver com os resultados acima conseguimos resultados melhores com a padronização das *features*. \n",
    "\n",
    "Podemos perceber também que a medida de acurácia pode ser enganosa já que, neste caso, temos classes bem desbalanceadas. Por isso as medidas *recall*, *precision* e *f1* são mais interessantes para a situação."
   ]
  },
  {
   "cell_type": "markdown",
   "id": "b3edfb84",
   "metadata": {},
   "source": [
    "###### Aplicando o método de Naive Bayes"
   ]
  },
  {
   "cell_type": "code",
   "execution_count": 34,
   "id": "266b7559",
   "metadata": {},
   "outputs": [
    {
     "name": "stdout",
     "output_type": "stream",
     "text": [
      "Acurácia: [0.92 0.97 0.95 0.91 0.97 0.95 0.94 0.88 0.95 0.91] Média: 0.94\n",
      "Recall: [0.88 1.   0.88 0.75 0.75 1.   0.62 0.43 0.86 1.  ] Média: 0.82\n",
      "Precison: [0.58 0.8  0.7  0.55 1.   0.67 0.71 0.38 0.67 0.53] Média: 0.66\n",
      "f1: [0.7  0.89 0.78 0.63 0.86 0.8  0.67 0.4  0.75 0.7 ] Média: 0.72\n"
     ]
    }
   ],
   "source": [
    "gaussian_nb_college = GaussianNB()\n",
    "\n",
    "# Validação cruzada com método 10-fold\n",
    "avaliacao_classificador(gaussian_nb_college, metodos_avaliacao, features_college, target_college, cv=10)"
   ]
  },
  {
   "cell_type": "markdown",
   "id": "bdb35594",
   "metadata": {},
   "source": [
    "Com o *Naive Bayes Gaussiano* não precisamos padronizar as *features*.\n",
    "\n",
    "Podemos perceber com as métricas apresentadas acima que os resultados obtidos com o método de *Naive Bayes* foram melhores pela métrica *recall*. Esta métrica representa a proporção de classificações 1 corretamente identificadas pelo modelo dentre todas as verdadeiras classificações 1 nos dados, essa medida, em geral é muito importante e um incremento nela é algo significativo. Já na métrica *precision* tivemos uma piora em relação ao modelo k-vizinhos. Esta métrica representa a proporção de classificações 1 feitas pelo modelo que realmente são classificações 1 nos dados."
   ]
  },
  {
   "cell_type": "markdown",
   "id": "612b2acd",
   "metadata": {},
   "source": [
    "###### Aplicando o método de Análise Discriminante"
   ]
  },
  {
   "cell_type": "code",
   "execution_count": 35,
   "id": "5fefddef",
   "metadata": {},
   "outputs": [
    {
     "name": "stdout",
     "output_type": "stream",
     "text": [
      "Acurácia: [0.96 0.94 0.96 0.95 0.95 0.92 0.92 0.91 0.97 0.97] Média: 0.95\n",
      "Recall: [0.75 0.5  0.62 0.62 0.5  0.38 0.38 0.43 0.86 0.75] Média: 0.58\n",
      "Precison: [0.86 0.8  1.   0.83 1.   0.75 0.75 0.5  0.86 1.  ] Média: 0.83\n",
      "f1: [0.8  0.62 0.77 0.71 0.67 0.5  0.5  0.46 0.86 0.86] Média: 0.67\n"
     ]
    }
   ],
   "source": [
    "discriminant_college = LinearDiscriminantAnalysis()\n",
    "\n",
    "avaliacao_classificador(discriminant_college, metodos_avaliacao, features_college_scaled, target_college, cv=10)"
   ]
  },
  {
   "cell_type": "markdown",
   "id": "9841729d",
   "metadata": {},
   "source": [
    "###### Aplicando o método de Árvore de Decisão"
   ]
  },
  {
   "cell_type": "code",
   "execution_count": 36,
   "id": "8089891e",
   "metadata": {},
   "outputs": [
    {
     "name": "stdout",
     "output_type": "stream",
     "text": [
      "Acurácia: [0.94 0.97 0.99 1.   0.97 0.95 0.95 0.95 0.95 0.95] Média: 0.96\n",
      "Recall: [0.75 0.88 0.88 1.   0.75 0.75 0.62 0.57 0.71 0.88] Média: 0.78\n",
      "Precison: [0.67 0.88 1.   1.   1.   0.75 0.83 0.8  0.71 0.7 ] Média: 0.83\n",
      "f1: [0.71 0.88 0.93 1.   0.86 0.75 0.71 0.67 0.71 0.78] Média: 0.8\n"
     ]
    }
   ],
   "source": [
    "decisiontree_college = DecisionTreeClassifier(random_state=13)\n",
    "\n",
    "avaliacao_classificador(decisiontree_college, metodos_avaliacao, features_college_scaled, target_college, cv=10)"
   ]
  },
  {
   "cell_type": "markdown",
   "id": "17f248aa",
   "metadata": {},
   "source": [
    "###### Aplicando o método de Florestas Aleatórias"
   ]
  },
  {
   "cell_type": "code",
   "execution_count": 37,
   "id": "43f72019",
   "metadata": {},
   "outputs": [
    {
     "name": "stdout",
     "output_type": "stream",
     "text": [
      "Acurácia: [0.96 0.96 0.96 0.96 0.96 0.91 0.94 0.92 0.95 0.95] Média: 0.95\n",
      "Recall: [0.88 0.75 0.62 0.88 0.62 0.5  0.38 0.57 0.71 0.75] Média: 0.67\n",
      "Precison: [0.78 0.86 1.   0.78 1.   0.57 1.   0.57 0.71 0.75] Média: 0.8\n",
      "f1: [0.82 0.8  0.77 0.82 0.77 0.53 0.55 0.57 0.71 0.75] Média: 0.71\n"
     ]
    }
   ],
   "source": [
    "randomforest_college = RandomForestClassifier(random_state=13)\n",
    "\n",
    "avaliacao_classificador(randomforest_college, metodos_avaliacao, features_college_scaled, target_college, cv=10)"
   ]
  },
  {
   "cell_type": "markdown",
   "id": "79002748",
   "metadata": {},
   "source": [
    "###### Aplicando o método SVM"
   ]
  },
  {
   "cell_type": "code",
   "execution_count": 38,
   "id": "ecf2eb86",
   "metadata": {},
   "outputs": [
    {
     "name": "stdout",
     "output_type": "stream",
     "text": [
      "Acurácia: [0.96 0.95 0.96 0.94 0.94 0.91 0.91 0.92 0.97 0.97] Média: 0.94\n",
      "Recall: [0.75 0.62 0.62 0.62 0.38 0.25 0.12 0.43 0.86 0.75] Média: 0.54\n",
      "Precison: [0.86 0.83 1.   0.71 1.   0.67 1.   0.6  0.86 1.  ] Média: 0.85\n",
      "f1: [0.8  0.71 0.77 0.67 0.55 0.36 0.22 0.5  0.86 0.86] Média: 0.63\n"
     ]
    }
   ],
   "source": [
    "SVM_college = SVC(random_state=13)\n",
    "\n",
    "avaliacao_classificador(SVM_college, metodos_avaliacao, features_college_scaled, target_college, cv=10)"
   ]
  },
  {
   "cell_type": "markdown",
   "id": "34e8de03",
   "metadata": {},
   "source": [
    "###### Aplicando o método RNA"
   ]
  },
  {
   "cell_type": "code",
   "execution_count": 39,
   "id": "d7cf031e",
   "metadata": {},
   "outputs": [
    {
     "name": "stdout",
     "output_type": "stream",
     "text": [
      "Acurácia: [0.96 0.96 0.96 0.97 0.95 0.94 0.97 0.92 0.96 0.91] Média: 0.95\n",
      "Recall: [0.75 0.75 0.75 0.75 0.62 0.62 1.   0.43 1.   0.88] Média: 0.76\n",
      "Precison: [0.86 0.86 0.86 1.   0.83 0.71 0.8  0.6  0.7  0.54] Média: 0.78\n",
      "f1: [0.8  0.8  0.8  0.86 0.71 0.67 0.89 0.5  0.82 0.67] Média: 0.75\n"
     ]
    }
   ],
   "source": [
    "RNA_college = MLPClassifier(random_state=13, learning_rate_init=0.1)\n",
    "\n",
    "avaliacao_classificador(RNA_college, metodos_avaliacao, features_college_scaled, target_college, cv=10)"
   ]
  },
  {
   "cell_type": "markdown",
   "id": "8bb4b90b",
   "metadata": {},
   "source": [
    "Podemos observar pelas métricas apresentadas para cada modelo acima que o modelo ideal é diferente para cada situação. Se o interesse é maximizar a probabilidade de acerto quando o modelo faz uma classificação positiva a métrica *precision* é a mais indicada, neste caso o melhor modelo é o SVM com 85% de acerto nessa situação. Já se a intenção for ter um modelo sensível, ou seja, um modelo que maximize a probabilidade de identificar uma classificação positiva temos que o modelo ideal é o Naive Bayes uma vez que a métrica *recall* desse modelo foi a maior atingindo 82%. Para um equilíbrio entre as medidas temos a medida *f1* que representa uma média harmônica entre as medidas *precision* e *recall*, nesta métrica o melhor modelo é o de Árvore de Decisão."
   ]
  },
  {
   "cell_type": "markdown",
   "id": "80f6a5bb",
   "metadata": {},
   "source": [
    "### Problema 4"
   ]
  },
  {
   "cell_type": "code",
   "execution_count": 40,
   "id": "532e902b",
   "metadata": {},
   "outputs": [
    {
     "data": {
      "text/html": [
       "<div>\n",
       "<style scoped>\n",
       "    .dataframe tbody tr th:only-of-type {\n",
       "        vertical-align: middle;\n",
       "    }\n",
       "\n",
       "    .dataframe tbody tr th {\n",
       "        vertical-align: top;\n",
       "    }\n",
       "\n",
       "    .dataframe thead th {\n",
       "        text-align: right;\n",
       "    }\n",
       "</style>\n",
       "<table border=\"1\" class=\"dataframe\">\n",
       "  <thead>\n",
       "    <tr style=\"text-align: right;\">\n",
       "      <th></th>\n",
       "      <th>crim</th>\n",
       "      <th>zn</th>\n",
       "      <th>indus</th>\n",
       "      <th>chas</th>\n",
       "      <th>nox</th>\n",
       "      <th>rm</th>\n",
       "      <th>age</th>\n",
       "      <th>dis</th>\n",
       "      <th>rad</th>\n",
       "      <th>tax</th>\n",
       "      <th>ptratio</th>\n",
       "      <th>black</th>\n",
       "      <th>lstat</th>\n",
       "      <th>medv</th>\n",
       "    </tr>\n",
       "  </thead>\n",
       "  <tbody>\n",
       "    <tr>\n",
       "      <th>0</th>\n",
       "      <td>0.00632</td>\n",
       "      <td>18.0</td>\n",
       "      <td>2.31</td>\n",
       "      <td>0</td>\n",
       "      <td>0.538</td>\n",
       "      <td>6.575</td>\n",
       "      <td>65.2</td>\n",
       "      <td>4.0900</td>\n",
       "      <td>1</td>\n",
       "      <td>296</td>\n",
       "      <td>15.3</td>\n",
       "      <td>396.90</td>\n",
       "      <td>4.98</td>\n",
       "      <td>24.0</td>\n",
       "    </tr>\n",
       "    <tr>\n",
       "      <th>1</th>\n",
       "      <td>0.02731</td>\n",
       "      <td>0.0</td>\n",
       "      <td>7.07</td>\n",
       "      <td>0</td>\n",
       "      <td>0.469</td>\n",
       "      <td>6.421</td>\n",
       "      <td>78.9</td>\n",
       "      <td>4.9671</td>\n",
       "      <td>2</td>\n",
       "      <td>242</td>\n",
       "      <td>17.8</td>\n",
       "      <td>396.90</td>\n",
       "      <td>9.14</td>\n",
       "      <td>21.6</td>\n",
       "    </tr>\n",
       "    <tr>\n",
       "      <th>2</th>\n",
       "      <td>0.02729</td>\n",
       "      <td>0.0</td>\n",
       "      <td>7.07</td>\n",
       "      <td>0</td>\n",
       "      <td>0.469</td>\n",
       "      <td>7.185</td>\n",
       "      <td>61.1</td>\n",
       "      <td>4.9671</td>\n",
       "      <td>2</td>\n",
       "      <td>242</td>\n",
       "      <td>17.8</td>\n",
       "      <td>392.83</td>\n",
       "      <td>4.03</td>\n",
       "      <td>34.7</td>\n",
       "    </tr>\n",
       "    <tr>\n",
       "      <th>3</th>\n",
       "      <td>0.03237</td>\n",
       "      <td>0.0</td>\n",
       "      <td>2.18</td>\n",
       "      <td>0</td>\n",
       "      <td>0.458</td>\n",
       "      <td>6.998</td>\n",
       "      <td>45.8</td>\n",
       "      <td>6.0622</td>\n",
       "      <td>3</td>\n",
       "      <td>222</td>\n",
       "      <td>18.7</td>\n",
       "      <td>394.63</td>\n",
       "      <td>2.94</td>\n",
       "      <td>33.4</td>\n",
       "    </tr>\n",
       "    <tr>\n",
       "      <th>4</th>\n",
       "      <td>0.06905</td>\n",
       "      <td>0.0</td>\n",
       "      <td>2.18</td>\n",
       "      <td>0</td>\n",
       "      <td>0.458</td>\n",
       "      <td>7.147</td>\n",
       "      <td>54.2</td>\n",
       "      <td>6.0622</td>\n",
       "      <td>3</td>\n",
       "      <td>222</td>\n",
       "      <td>18.7</td>\n",
       "      <td>396.90</td>\n",
       "      <td>5.33</td>\n",
       "      <td>36.2</td>\n",
       "    </tr>\n",
       "  </tbody>\n",
       "</table>\n",
       "</div>"
      ],
      "text/plain": [
       "      crim    zn  indus  chas    nox     rm   age     dis  rad  tax  ptratio  \\\n",
       "0  0.00632  18.0   2.31     0  0.538  6.575  65.2  4.0900    1  296     15.3   \n",
       "1  0.02731   0.0   7.07     0  0.469  6.421  78.9  4.9671    2  242     17.8   \n",
       "2  0.02729   0.0   7.07     0  0.469  7.185  61.1  4.9671    2  242     17.8   \n",
       "3  0.03237   0.0   2.18     0  0.458  6.998  45.8  6.0622    3  222     18.7   \n",
       "4  0.06905   0.0   2.18     0  0.458  7.147  54.2  6.0622    3  222     18.7   \n",
       "\n",
       "    black  lstat  medv  \n",
       "0  396.90   4.98  24.0  \n",
       "1  396.90   9.14  21.6  \n",
       "2  392.83   4.03  34.7  \n",
       "3  394.63   2.94  33.4  \n",
       "4  396.90   5.33  36.2  "
      ]
     },
     "execution_count": 40,
     "metadata": {},
     "output_type": "execute_result"
    }
   ],
   "source": [
    "boston_data = pd.read_csv(\"data/Boston.csv\", sep = \";\", decimal = \",\")\n",
    "boston_data.head(5)"
   ]
  },
  {
   "cell_type": "markdown",
   "id": "f0f5e214",
   "metadata": {},
   "source": [
    "###### Visualização da variável resposta"
   ]
  },
  {
   "cell_type": "code",
   "execution_count": 41,
   "id": "7ab23ef4",
   "metadata": {},
   "outputs": [
    {
     "data": {
      "text/plain": [
       "(array([ 21.,  55.,  82., 154.,  84.,  41.,  30.,   8.,  10.,  21.]),\n",
       " array([ 5. ,  9.5, 14. , 18.5, 23. , 27.5, 32. , 36.5, 41. , 45.5, 50. ]),\n",
       " <BarContainer object of 10 artists>)"
      ]
     },
     "execution_count": 41,
     "metadata": {},
     "output_type": "execute_result"
    },
    {
     "data": {
      "image/png": "[encoded data removed]",
      "text/plain": [
       "<Figure size 432x288 with 1 Axes>"
      ]
     },
     "metadata": {
      "needs_background": "light"
     },
     "output_type": "display_data"
    }
   ],
   "source": [
    "%matplotlib inline\n",
    "\n",
    "plt.hist(boston_data[\"medv\"])"
   ]
  },
  {
   "cell_type": "markdown",
   "id": "02e0664d",
   "metadata": {},
   "source": [
    "A partir do histograma da variável resposta *medv*, observa-se que sua distribuição assemelha-se com uma normal, com valores mais frequentes no intervalo central e frequência reduzida nas caudas. "
   ]
  },
  {
   "cell_type": "markdown",
   "id": "fc1c7808",
   "metadata": {},
   "source": [
    "###### Separação entre features e target e Padronização das features"
   ]
  },
  {
   "cell_type": "code",
   "execution_count": 42,
   "id": "1832b2d6",
   "metadata": {},
   "outputs": [],
   "source": [
    "# Separação do Banco\n",
    "features_boston = boston_data.drop(columns = {\"medv\"})\n",
    "target_boston = boston_data[\"medv\"]\n",
    "# Padronização das Features\n",
    "scaler = StandardScaler()\n",
    "features_boston_scaled = scaler.fit_transform(features_boston)"
   ]
  },
  {
   "cell_type": "markdown",
   "id": "eb797b7c",
   "metadata": {},
   "source": [
    "###### Separação do conjunto de treinamento (80%) e do conjunto de teste (20%)"
   ]
  },
  {
   "cell_type": "code",
   "execution_count": 43,
   "id": "9e4dc8d2",
   "metadata": {},
   "outputs": [],
   "source": [
    "features_boston_train, features_boston_test, target_boston_train, target_boston_test = \\\n",
    "    train_test_split(features_boston_scaled, target_boston, test_size = 0.2, random_state = 42)"
   ]
  },
  {
   "cell_type": "markdown",
   "id": "96875ad5",
   "metadata": {},
   "source": [
    "###### Ajuste e Resultado do Primeiro Trabalho"
   ]
  },
  {
   "cell_type": "code",
   "execution_count": 44,
   "id": "6b3fe7d3",
   "metadata": {},
   "outputs": [
    {
     "name": "stdout",
     "output_type": "stream",
     "text": [
      "R^2:  0.6687594935356322\n",
      "\n",
      "\n",
      "Intercepto 22.485268239316902\n",
      "crim -0.9714942298153109\n",
      "zn 0.7015556186825168\n",
      "indus 0.27675211756097745\n",
      "chas 0.7065315219738251\n",
      "nox -1.9914304346295502\n",
      "rm 3.115718363958981\n",
      "age -0.17706020680903325\n",
      "dis -3.045770645410489\n",
      "rad 2.282784712788725\n",
      "tax -1.792604675752152\n",
      "ptratio -1.9799535094590697\n",
      "black 1.126498635557213\n",
      "lstat -3.628149374371363\n",
      "\n",
      "\n",
      "EQM Conjunto Teste:  24.29\n"
     ]
    }
   ],
   "source": [
    "lr_boston = LinearRegression()\n",
    "modelo_lr_boston =lr_boston.fit(features_boston_train, target_boston_train);\n",
    "\n",
    "# Validação\n",
    "print(\"R^2: \", modelo_lr_boston.score(features_boston_test, target_boston_test))\n",
    "\n",
    "print(\"\\n\")\n",
    "\n",
    "print(\"Intercepto\", modelo_lr_boston.intercept_)\n",
    "for i in range(len(modelo_lr_boston.coef_)):\n",
    "    print(boston_data.columns[i], modelo_lr_boston.coef_[i])\n",
    "\n",
    "print(\"\\n\")\n",
    "    \n",
    "target_predicted = modelo_lr_boston.predict(features_boston_test)\n",
    "print(\"EQM Conjunto Teste: \",round(mean_squared_error(target_boston_test, target_predicted),2))"
   ]
  },
  {
   "cell_type": "markdown",
   "id": "1f3d9cac",
   "metadata": {},
   "source": [
    "###### Ajuste Árvore de Decisão"
   ]
  },
  {
   "cell_type": "code",
   "execution_count": 45,
   "id": "f932b8c3",
   "metadata": {},
   "outputs": [
    {
     "name": "stdout",
     "output_type": "stream",
     "text": [
      "Escore Variância Explicada:0.86\n",
      "MAE: 2.36\n",
      "R^2: 0.86\n",
      "EQM Conjunto Teste:  10.09\n"
     ]
    }
   ],
   "source": [
    "decisiontree = DecisionTreeRegressor(random_state=0)\n",
    "arv_dec_boston = decisiontree.fit(features_boston_train, target_boston_train)\n",
    "\n",
    "pred_arv_dec_boston = arv_dec_boston.predict(features_boston_test)\n",
    "\n",
    "explained_variance = explained_variance_score(target_boston_test, pred_arv_dec_boston)\n",
    "print('Escore Variância Explicada:{0:0.2f}'.format(explained_variance))\n",
    "\n",
    "mae= mean_absolute_error(target_boston_test, pred_arv_dec_boston)\n",
    "print('MAE: {0:0.2f}'.format(mae))\n",
    "\n",
    "r2score = r2_score(target_boston_test, pred_arv_dec_boston)\n",
    "print('R^2: {0:0.2f}'.format(r2score))\n",
    "\n",
    "print(\"EQM Conjunto Teste: \",round(mean_squared_error(target_boston_test, pred_arv_dec_boston),2))"
   ]
  },
  {
   "cell_type": "markdown",
   "id": "5493bae5",
   "metadata": {},
   "source": [
    "###### Ajuste Floresta Aleatória"
   ]
  },
  {
   "cell_type": "code",
   "execution_count": 46,
   "id": "b574a294",
   "metadata": {},
   "outputs": [
    {
     "name": "stdout",
     "output_type": "stream",
     "text": [
      "Escore Variância Explicada: 0.87\n",
      "MAE: 2.13\n",
      "R^2: 0.87\n",
      "EQM Conjunto Teste: 9.27\n"
     ]
    }
   ],
   "source": [
    "randomforest = RandomForestRegressor(random_state=0, n_jobs=-1)\n",
    "rand_for_boston = randomforest.fit(features_boston_train, target_boston_train)\n",
    "\n",
    "pred_rand_for_boston = rand_for_boston.predict(features_boston_test)\n",
    "\n",
    "explained_variance = explained_variance_score(target_boston_test, pred_rand_for_boston)\n",
    "print('Escore Variância Explicada: {0:0.2f}'.format(explained_variance))\n",
    "\n",
    "mae = mean_absolute_error(target_boston_test, pred_rand_for_boston)\n",
    "print('MAE: {0:0.2f}'.format(mae))\n",
    "\n",
    "r2score = r2_score(target_boston_test,pred_rand_for_boston)\n",
    "print('R^2: {0:0.2f}'.format(r2score))\n",
    "\n",
    "print(\"EQM Conjunto Teste:\",round(mean_squared_error(target_boston_test, pred_rand_for_boston),2))"
   ]
  },
  {
   "cell_type": "markdown",
   "id": "a6ff583a",
   "metadata": {},
   "source": [
    "###### Ajuste SVM"
   ]
  },
  {
   "cell_type": "code",
   "execution_count": 47,
   "id": "6b791aa2",
   "metadata": {},
   "outputs": [
    {
     "name": "stdout",
     "output_type": "stream",
     "text": [
      "Escore Variância Explicada:0.63\n",
      "MAE: 3.10\n",
      "R^2: 0.61\n",
      "EQM Conjunto Teste:  28.9\n"
     ]
    }
   ],
   "source": [
    "svm = SVR(kernel=\"linear\")\n",
    "svm_boston = svm.fit(features_boston_train, target_boston_train)\n",
    "\n",
    "pred_svm_boston = svm_boston.predict(features_boston_test)\n",
    "\n",
    "explained_variance = explained_variance_score(target_boston_test, pred_svm_boston)\n",
    "print('Escore Variância Explicada:{0:0.2f}'.format(explained_variance))\n",
    "\n",
    "mae= mean_absolute_error(target_boston_test, pred_svm_boston)\n",
    "print('MAE: {0:0.2f}'.format(mae))\n",
    "\n",
    "r2score = r2_score(target_boston_test,pred_svm_boston)\n",
    "print('R^2: {0:0.2f}'.format(r2score))\n",
    "\n",
    "print(\"EQM Conjunto Teste: \",round(mean_squared_error(target_boston_test,pred_svm_boston),2))"
   ]
  },
  {
   "cell_type": "markdown",
   "id": "26b32f78",
   "metadata": {},
   "source": [
    "###### Comparação e Análise dos Resultados"
   ]
  },
  {
   "cell_type": "markdown",
   "id": "fe139165",
   "metadata": {},
   "source": [
    "Nota-se que, os modelos ajustados via árvore de decisão e floresta aleatória obtiveram melhor valores do R2 se comparados com os valores obtidos na regressão linear feita anteriormente e no SVM para regressão aplicado agora. Comparando as métricas calculadas para os dois melhores modelos (árvore de decisão e a floresta aleatória), é possível observar que eles possuem valores muito próximos, porém, além da árvore possuir um R2 mais alto e um erro quadrático médio menor, ela possui como vantagem a sua interpretabilidade, portanto vai ser usada como referência de melhor modelo.\n",
    "\n",
    "Abaixo, tem-se o gráfico com a importância de cada uma das covariáveis para a contrução desse modelo. A variável com maior importância é *rm*, que destaca-se muito em relação as demais, seguidas das covariáveis *lstat* e *dis*."
   ]
  },
  {
   "cell_type": "code",
   "execution_count": 48,
   "id": "b669bf4b",
   "metadata": {},
   "outputs": [
    {
     "data": {
      "image/png": "[encoded data removed]",
      "text/plain": [
       "<Figure size 432x288 with 1 Axes>"
      ]
     },
     "metadata": {
      "needs_background": "light"
     },
     "output_type": "display_data"
    }
   ],
   "source": [
    "importances = arv_dec_boston.feature_importances_\n",
    "indices = np.argsort(importances)[::-1]\n",
    "names = [boston_data.columns.tolist()[i] for i in indices]\n",
    "plt.figure()\n",
    "plt.title(\"Importância das Variáveis\")\n",
    "plt.bar(range(features_boston_train.shape[1]),\n",
    "importances[indices])\n",
    "plt.xticks(range(features_boston_train.shape[1]), names,rotation=90)\n",
    "plt.show()"
   ]
  },
  {
   "cell_type": "markdown",
   "id": "25f8501c",
   "metadata": {},
   "source": [
    "### Problema 5"
   ]
  },
  {
   "cell_type": "code",
   "execution_count": 49,
   "id": "95aa249e",
   "metadata": {},
   "outputs": [
    {
     "data": {
      "text/html": [
       "<div>\n",
       "<style scoped>\n",
       "    .dataframe tbody tr th:only-of-type {\n",
       "        vertical-align: middle;\n",
       "    }\n",
       "\n",
       "    .dataframe tbody tr th {\n",
       "        vertical-align: top;\n",
       "    }\n",
       "\n",
       "    .dataframe thead th {\n",
       "        text-align: right;\n",
       "    }\n",
       "</style>\n",
       "<table border=\"1\" class=\"dataframe\">\n",
       "  <thead>\n",
       "    <tr style=\"text-align: right;\">\n",
       "      <th></th>\n",
       "      <th>IDADE</th>\n",
       "      <th>TP_SEXO</th>\n",
       "      <th>ST_CONCLUSAO</th>\n",
       "      <th>IN_TP_ENSINO</th>\n",
       "      <th>IN_CERTIFICADO</th>\n",
       "      <th>TP_ESTADO_CIVIL</th>\n",
       "      <th>TP_LINGUA</th>\n",
       "      <th>Q01</th>\n",
       "      <th>Q02</th>\n",
       "      <th>Q03</th>\n",
       "      <th>...</th>\n",
       "      <th>Q25</th>\n",
       "      <th>Q26</th>\n",
       "      <th>Q27</th>\n",
       "      <th>Q28</th>\n",
       "      <th>Q29</th>\n",
       "      <th>Q30</th>\n",
       "      <th>Q31</th>\n",
       "      <th>Q32</th>\n",
       "      <th>Q33</th>\n",
       "      <th>NU_NT_CN</th>\n",
       "    </tr>\n",
       "  </thead>\n",
       "  <tbody>\n",
       "    <tr>\n",
       "      <th>0</th>\n",
       "      <td>20</td>\n",
       "      <td>M</td>\n",
       "      <td>3</td>\n",
       "      <td></td>\n",
       "      <td>1</td>\n",
       "      <td>0</td>\n",
       "      <td>1</td>\n",
       "      <td>A</td>\n",
       "      <td>C</td>\n",
       "      <td>B</td>\n",
       "      <td>...</td>\n",
       "      <td>4</td>\n",
       "      <td>5</td>\n",
       "      <td>4</td>\n",
       "      <td>E</td>\n",
       "      <td>A</td>\n",
       "      <td>A</td>\n",
       "      <td>F</td>\n",
       "      <td>B</td>\n",
       "      <td>A</td>\n",
       "      <td></td>\n",
       "    </tr>\n",
       "    <tr>\n",
       "      <th>1</th>\n",
       "      <td>31</td>\n",
       "      <td>F</td>\n",
       "      <td>1</td>\n",
       "      <td>1</td>\n",
       "      <td>0</td>\n",
       "      <td>1</td>\n",
       "      <td>0</td>\n",
       "      <td>A</td>\n",
       "      <td>A</td>\n",
       "      <td>A</td>\n",
       "      <td>...</td>\n",
       "      <td>5</td>\n",
       "      <td>5</td>\n",
       "      <td>5</td>\n",
       "      <td>D</td>\n",
       "      <td>A</td>\n",
       "      <td>A</td>\n",
       "      <td>B</td>\n",
       "      <td>B</td>\n",
       "      <td>A</td>\n",
       "      <td></td>\n",
       "    </tr>\n",
       "    <tr>\n",
       "      <th>2</th>\n",
       "      <td>27</td>\n",
       "      <td>F</td>\n",
       "      <td>1</td>\n",
       "      <td>1</td>\n",
       "      <td>0</td>\n",
       "      <td>1</td>\n",
       "      <td>0</td>\n",
       "      <td>A</td>\n",
       "      <td>C</td>\n",
       "      <td>C</td>\n",
       "      <td>...</td>\n",
       "      <td>5</td>\n",
       "      <td>0</td>\n",
       "      <td>5</td>\n",
       "      <td>A</td>\n",
       "      <td>A</td>\n",
       "      <td>A</td>\n",
       "      <td>B</td>\n",
       "      <td>A</td>\n",
       "      <td>A</td>\n",
       "      <td></td>\n",
       "    </tr>\n",
       "    <tr>\n",
       "      <th>3</th>\n",
       "      <td>19</td>\n",
       "      <td>F</td>\n",
       "      <td>1</td>\n",
       "      <td>1</td>\n",
       "      <td>0</td>\n",
       "      <td>0</td>\n",
       "      <td>1</td>\n",
       "      <td>B</td>\n",
       "      <td>A</td>\n",
       "      <td>I</td>\n",
       "      <td>...</td>\n",
       "      <td>5</td>\n",
       "      <td>4</td>\n",
       "      <td>4</td>\n",
       "      <td>B</td>\n",
       "      <td>A</td>\n",
       "      <td>A</td>\n",
       "      <td>B</td>\n",
       "      <td>A</td>\n",
       "      <td>A</td>\n",
       "      <td>342.3</td>\n",
       "    </tr>\n",
       "    <tr>\n",
       "      <th>4</th>\n",
       "      <td>26</td>\n",
       "      <td>F</td>\n",
       "      <td>1</td>\n",
       "      <td>1</td>\n",
       "      <td>0</td>\n",
       "      <td>0</td>\n",
       "      <td>1</td>\n",
       "      <td>A</td>\n",
       "      <td>I</td>\n",
       "      <td>B</td>\n",
       "      <td>...</td>\n",
       "      <td>5</td>\n",
       "      <td>0</td>\n",
       "      <td>5</td>\n",
       "      <td>C</td>\n",
       "      <td>A</td>\n",
       "      <td>A</td>\n",
       "      <td>D</td>\n",
       "      <td>B</td>\n",
       "      <td>A</td>\n",
       "      <td>411.6</td>\n",
       "    </tr>\n",
       "  </tbody>\n",
       "</table>\n",
       "<p>5 rows × 26 columns</p>\n",
       "</div>"
      ],
      "text/plain": [
       "   IDADE TP_SEXO  ST_CONCLUSAO IN_TP_ENSINO IN_CERTIFICADO  TP_ESTADO_CIVIL  \\\n",
       "0     20       M             3                           1                0   \n",
       "1     31       F             1            1              0                1   \n",
       "2     27       F             1            1              0                1   \n",
       "3     19       F             1            1              0                0   \n",
       "4     26       F             1            1              0                0   \n",
       "\n",
       "   TP_LINGUA Q01 Q02 Q03  ... Q25 Q26 Q27 Q28 Q29  Q30  Q31  Q32  Q33 NU_NT_CN  \n",
       "0          1   A   C   B  ...   4   5   4   E   A    A    F    B    A           \n",
       "1          0   A   A   A  ...   5   5   5   D   A    A    B    B    A           \n",
       "2          0   A   C   C  ...   5   0   5   A   A    A    B    A    A           \n",
       "3          1   B   A   I  ...   5   4   4   B   A    A    B    A    A    342.3  \n",
       "4          1   A   I   B  ...   5   0   5   C   A    A    D    B    A    411.6  \n",
       "\n",
       "[5 rows x 26 columns]"
      ]
     },
     "execution_count": 49,
     "metadata": {},
     "output_type": "execute_result"
    }
   ],
   "source": [
    "enem_data_na = pd.read_csv(\"data/DadosEnemCandidatosMG.csv\", sep = \";\", decimal = \",\")\n",
    "enem_data_na.head(5)"
   ]
  },
  {
   "cell_type": "code",
   "execution_count": 50,
   "id": "ed4d0bcd",
   "metadata": {},
   "outputs": [
    {
     "data": {
      "text/plain": [
       "(382179, 26)"
      ]
     },
     "execution_count": 50,
     "metadata": {},
     "output_type": "execute_result"
    }
   ],
   "source": [
    "enem_data_na.shape"
   ]
  },
  {
   "cell_type": "markdown",
   "id": "bc90a1e5",
   "metadata": {},
   "source": [
    "A partir da visualização dos dados inicial é possível notar que esse banco de dados possui NAs, tanto em algumas covariáveis quanto na variável resposta. Como o objetivo principal do trabalho é avaliar diferentes modelos para prever a nota final dos candidatos e o banco de dados possui informações de muitos candidatos, optou-se por descartar as linhas com valores faltantes."
   ]
  },
  {
   "cell_type": "code",
   "execution_count": 51,
   "id": "218c96ba",
   "metadata": {},
   "outputs": [
    {
     "data": {
      "text/html": [
       "<div>\n",
       "<style scoped>\n",
       "    .dataframe tbody tr th:only-of-type {\n",
       "        vertical-align: middle;\n",
       "    }\n",
       "\n",
       "    .dataframe tbody tr th {\n",
       "        vertical-align: top;\n",
       "    }\n",
       "\n",
       "    .dataframe thead th {\n",
       "        text-align: right;\n",
       "    }\n",
       "</style>\n",
       "<table border=\"1\" class=\"dataframe\">\n",
       "  <thead>\n",
       "    <tr style=\"text-align: right;\">\n",
       "      <th></th>\n",
       "      <th>IDADE</th>\n",
       "      <th>TP_SEXO</th>\n",
       "      <th>ST_CONCLUSAO</th>\n",
       "      <th>IN_TP_ENSINO</th>\n",
       "      <th>IN_CERTIFICADO</th>\n",
       "      <th>TP_ESTADO_CIVIL</th>\n",
       "      <th>TP_LINGUA</th>\n",
       "      <th>Q01</th>\n",
       "      <th>Q02</th>\n",
       "      <th>Q03</th>\n",
       "      <th>...</th>\n",
       "      <th>Q25</th>\n",
       "      <th>Q26</th>\n",
       "      <th>Q27</th>\n",
       "      <th>Q28</th>\n",
       "      <th>Q29</th>\n",
       "      <th>Q30</th>\n",
       "      <th>Q31</th>\n",
       "      <th>Q32</th>\n",
       "      <th>Q33</th>\n",
       "      <th>NU_NT_CN</th>\n",
       "    </tr>\n",
       "  </thead>\n",
       "  <tbody>\n",
       "    <tr>\n",
       "      <th>3</th>\n",
       "      <td>19</td>\n",
       "      <td>F</td>\n",
       "      <td>1</td>\n",
       "      <td>1</td>\n",
       "      <td>0</td>\n",
       "      <td>0</td>\n",
       "      <td>1</td>\n",
       "      <td>B</td>\n",
       "      <td>A</td>\n",
       "      <td>I</td>\n",
       "      <td>...</td>\n",
       "      <td>5</td>\n",
       "      <td>4</td>\n",
       "      <td>4</td>\n",
       "      <td>B</td>\n",
       "      <td>A</td>\n",
       "      <td>A</td>\n",
       "      <td>B</td>\n",
       "      <td>A</td>\n",
       "      <td>A</td>\n",
       "      <td>342.3</td>\n",
       "    </tr>\n",
       "    <tr>\n",
       "      <th>4</th>\n",
       "      <td>26</td>\n",
       "      <td>F</td>\n",
       "      <td>1</td>\n",
       "      <td>1</td>\n",
       "      <td>0</td>\n",
       "      <td>0</td>\n",
       "      <td>1</td>\n",
       "      <td>A</td>\n",
       "      <td>I</td>\n",
       "      <td>B</td>\n",
       "      <td>...</td>\n",
       "      <td>5</td>\n",
       "      <td>0</td>\n",
       "      <td>5</td>\n",
       "      <td>C</td>\n",
       "      <td>A</td>\n",
       "      <td>A</td>\n",
       "      <td>D</td>\n",
       "      <td>B</td>\n",
       "      <td>A</td>\n",
       "      <td>411.6</td>\n",
       "    </tr>\n",
       "    <tr>\n",
       "      <th>6</th>\n",
       "      <td>24</td>\n",
       "      <td>F</td>\n",
       "      <td>1</td>\n",
       "      <td>1</td>\n",
       "      <td>0</td>\n",
       "      <td>0</td>\n",
       "      <td>0</td>\n",
       "      <td>B</td>\n",
       "      <td>A</td>\n",
       "      <td>A</td>\n",
       "      <td>...</td>\n",
       "      <td>5</td>\n",
       "      <td>2</td>\n",
       "      <td>5</td>\n",
       "      <td>A</td>\n",
       "      <td>A</td>\n",
       "      <td>A</td>\n",
       "      <td>B</td>\n",
       "      <td>A</td>\n",
       "      <td>A</td>\n",
       "      <td>397.8</td>\n",
       "    </tr>\n",
       "    <tr>\n",
       "      <th>7</th>\n",
       "      <td>30</td>\n",
       "      <td>F</td>\n",
       "      <td>1</td>\n",
       "      <td>1</td>\n",
       "      <td>0</td>\n",
       "      <td>1</td>\n",
       "      <td>1</td>\n",
       "      <td>A</td>\n",
       "      <td>A</td>\n",
       "      <td>A</td>\n",
       "      <td>...</td>\n",
       "      <td>5</td>\n",
       "      <td>0</td>\n",
       "      <td>5</td>\n",
       "      <td>C</td>\n",
       "      <td>A</td>\n",
       "      <td>A</td>\n",
       "      <td>A</td>\n",
       "      <td>A</td>\n",
       "      <td>A</td>\n",
       "      <td>461.8</td>\n",
       "    </tr>\n",
       "    <tr>\n",
       "      <th>8</th>\n",
       "      <td>29</td>\n",
       "      <td>M</td>\n",
       "      <td>1</td>\n",
       "      <td>1</td>\n",
       "      <td>0</td>\n",
       "      <td>1</td>\n",
       "      <td>1</td>\n",
       "      <td>B</td>\n",
       "      <td>B</td>\n",
       "      <td>A</td>\n",
       "      <td>...</td>\n",
       "      <td>5</td>\n",
       "      <td>5</td>\n",
       "      <td>5</td>\n",
       "      <td>F</td>\n",
       "      <td>A</td>\n",
       "      <td>A</td>\n",
       "      <td>B</td>\n",
       "      <td>A</td>\n",
       "      <td>A</td>\n",
       "      <td>566.8</td>\n",
       "    </tr>\n",
       "  </tbody>\n",
       "</table>\n",
       "<p>5 rows × 26 columns</p>\n",
       "</div>"
      ],
      "text/plain": [
       "   IDADE TP_SEXO  ST_CONCLUSAO IN_TP_ENSINO IN_CERTIFICADO  TP_ESTADO_CIVIL  \\\n",
       "3     19       F             1            1              0                0   \n",
       "4     26       F             1            1              0                0   \n",
       "6     24       F             1            1              0                0   \n",
       "7     30       F             1            1              0                1   \n",
       "8     29       M             1            1              0                1   \n",
       "\n",
       "   TP_LINGUA Q01 Q02 Q03  ... Q25 Q26 Q27 Q28 Q29  Q30  Q31  Q32  Q33 NU_NT_CN  \n",
       "3          1   B   A   I  ...   5   4   4   B   A    A    B    A    A    342.3  \n",
       "4          1   A   I   B  ...   5   0   5   C   A    A    D    B    A    411.6  \n",
       "6          0   B   A   A  ...   5   2   5   A   A    A    B    A    A    397.8  \n",
       "7          1   A   A   A  ...   5   0   5   C   A    A    A    A    A    461.8  \n",
       "8          1   B   B   A  ...   5   5   5   F   A    A    B    A    A    566.8  \n",
       "\n",
       "[5 rows x 26 columns]"
      ]
     },
     "execution_count": 51,
     "metadata": {},
     "output_type": "execute_result"
    }
   ],
   "source": [
    "enem_data_na.replace(\" \", pd.NaT, inplace=True)\n",
    "enem_data = enem_data_na.dropna()\n",
    "enem_data.head(5)"
   ]
  },
  {
   "cell_type": "code",
   "execution_count": 52,
   "id": "857d2757",
   "metadata": {},
   "outputs": [
    {
     "data": {
      "text/plain": [
       "(180638, 26)"
      ]
     },
     "execution_count": 52,
     "metadata": {},
     "output_type": "execute_result"
    }
   ],
   "source": [
    "enem_data.shape"
   ]
  },
  {
   "cell_type": "markdown",
   "id": "afd1001e",
   "metadata": {},
   "source": [
    "Após a remoção de linhas que continham NAs, o tamanho do banco passou de 382179 observações para 180638. O banco continua sendo grande para o ajuste de um modelo para predição da resposta, dessa forma iremos prosseguir o estudo."
   ]
  },
  {
   "cell_type": "markdown",
   "id": "224c6bb5",
   "metadata": {},
   "source": [
    "Outro detalhe importante para realizar o ajuste dos modelos é verificar como as variáveis estão sendo interpretadas, isto é, seus tipos. A seguir foram feitas uma série de transformações a fim de que o melhor ajuste possível fosse realizado.\n",
    "\n",
    "* Alteração na codificação de algumas variáveis para aproveitar a sua característica ordinal;\n",
    "* Alteração do tipo de algumas covariáveis para melhor ajuste;\n",
    "* Criação de Variáveis Dummies para representar covariáveis categóricas."
   ]
  },
  {
   "cell_type": "code",
   "execution_count": 53,
   "id": "a64c90e6",
   "metadata": {},
   "outputs": [],
   "source": [
    "enem_data = enem_data.replace({\"Q01\": {'A': 1, 'B': 2, 'C': 3, 'D': 4, 'E': 0},\n",
    "                               \"Q04\": {'A': 1, 'B': 2, 'C': 3, 'D': 4, 'E': 5, 'F': 6, 'G': 7, 'H': 0},\n",
    "                               \"Q05\": {'A': 1, 'B': 2, 'C': 3, 'D': 4, 'E': 5, 'F': 6, 'G': 7, 'H': 0},\n",
    "                               \"Q28\": {'A': 0, 'B': 1, 'C': 2, 'D': 3, 'E': 4, 'F': 5, 'G': 6},\n",
    "                               \"Q29\": {'A': 0, 'B': 1, 'C': 2, 'D': 3, 'E': 4},\n",
    "                               \"Q31\": {'A': 0, 'B': 1, 'C': 2, 'D': 3, 'E': 4, 'F': 5},\n",
    "                               \"Q32\": {'A': 0, 'B': 1, 'C': 2, 'D': 3, 'E': 4}})"
   ]
  },
  {
   "cell_type": "code",
   "execution_count": 54,
   "id": "d01d90d5",
   "metadata": {},
   "outputs": [
    {
     "data": {
      "text/plain": [
       "IDADE               int64\n",
       "TP_SEXO            object\n",
       "ST_CONCLUSAO        int64\n",
       "IN_TP_ENSINO       object\n",
       "IN_CERTIFICADO     object\n",
       "TP_ESTADO_CIVIL     int64\n",
       "TP_LINGUA           int64\n",
       "Q01                 int64\n",
       "Q02                object\n",
       "Q03                object\n",
       "Q04                 int64\n",
       "Q05                 int64\n",
       "Q06                object\n",
       "Q07                object\n",
       "Q08                object\n",
       "Q24                 int64\n",
       "Q25                 int64\n",
       "Q26                 int64\n",
       "Q27                 int64\n",
       "Q28                 int64\n",
       "Q29                 int64\n",
       "Q30                object\n",
       "Q31                 int64\n",
       "Q32                 int64\n",
       "Q33                object\n",
       "NU_NT_CN           object\n",
       "dtype: object"
      ]
     },
     "execution_count": 54,
     "metadata": {},
     "output_type": "execute_result"
    }
   ],
   "source": [
    "enem_data.dtypes"
   ]
  },
  {
   "cell_type": "code",
   "execution_count": 55,
   "id": "91104766",
   "metadata": {},
   "outputs": [],
   "source": [
    "variavel_tipo = {'TP_SEXO': 'category',\n",
    "                 'IN_TP_ENSINO': 'category',\n",
    "                 'IN_CERTIFICADO': 'category',\n",
    "                 'TP_ESTADO_CIVIL': 'category',\n",
    "                 'TP_LINGUA': 'category',\n",
    "                 'Q02': 'category',\n",
    "                 'Q03': 'category',\n",
    "                 'Q06': 'category',\n",
    "                 'Q07': 'category',\n",
    "                 'Q08': 'category',\n",
    "                 'Q30': 'category',\n",
    "                 'Q33': 'category',\n",
    "                 'NU_NT_CN': 'float'}\n",
    "\n",
    "enem_data = enem_data.astype(variavel_tipo)\n",
    "\n",
    "colunas_categoricas = ['TP_SEXO','IN_TP_ENSINO','IN_CERTIFICADO','TP_ESTADO_CIVIL','TP_LINGUA','Q02','Q03',\n",
    "                       'Q06','Q07','Q08','Q30','Q33']\n",
    "\n",
    "enem_data = pd.get_dummies(enem_data, prefix = colunas_categoricas,\n",
    "                           columns = colunas_categoricas)"
   ]
  },
  {
   "cell_type": "code",
   "execution_count": 56,
   "id": "9a76a82d",
   "metadata": {},
   "outputs": [
    {
     "data": {
      "text/html": [
       "<div>\n",
       "<style scoped>\n",
       "    .dataframe tbody tr th:only-of-type {\n",
       "        vertical-align: middle;\n",
       "    }\n",
       "\n",
       "    .dataframe tbody tr th {\n",
       "        vertical-align: top;\n",
       "    }\n",
       "\n",
       "    .dataframe thead th {\n",
       "        text-align: right;\n",
       "    }\n",
       "</style>\n",
       "<table border=\"1\" class=\"dataframe\">\n",
       "  <thead>\n",
       "    <tr style=\"text-align: right;\">\n",
       "      <th></th>\n",
       "      <th>IDADE</th>\n",
       "      <th>ST_CONCLUSAO</th>\n",
       "      <th>Q01</th>\n",
       "      <th>Q04</th>\n",
       "      <th>Q05</th>\n",
       "      <th>Q24</th>\n",
       "      <th>Q25</th>\n",
       "      <th>Q26</th>\n",
       "      <th>Q27</th>\n",
       "      <th>Q28</th>\n",
       "      <th>...</th>\n",
       "      <th>Q30_E</th>\n",
       "      <th>Q30_F</th>\n",
       "      <th>Q30_G</th>\n",
       "      <th>Q30_H</th>\n",
       "      <th>Q33_A</th>\n",
       "      <th>Q33_B</th>\n",
       "      <th>Q33_E</th>\n",
       "      <th>Q33_F</th>\n",
       "      <th>Q33_G</th>\n",
       "      <th>Q33_H</th>\n",
       "    </tr>\n",
       "  </thead>\n",
       "  <tbody>\n",
       "    <tr>\n",
       "      <th>3</th>\n",
       "      <td>19</td>\n",
       "      <td>1</td>\n",
       "      <td>2</td>\n",
       "      <td>1</td>\n",
       "      <td>0</td>\n",
       "      <td>4</td>\n",
       "      <td>5</td>\n",
       "      <td>4</td>\n",
       "      <td>4</td>\n",
       "      <td>1</td>\n",
       "      <td>...</td>\n",
       "      <td>0</td>\n",
       "      <td>0</td>\n",
       "      <td>0</td>\n",
       "      <td>0</td>\n",
       "      <td>1</td>\n",
       "      <td>0</td>\n",
       "      <td>0</td>\n",
       "      <td>0</td>\n",
       "      <td>0</td>\n",
       "      <td>0</td>\n",
       "    </tr>\n",
       "    <tr>\n",
       "      <th>4</th>\n",
       "      <td>26</td>\n",
       "      <td>1</td>\n",
       "      <td>1</td>\n",
       "      <td>1</td>\n",
       "      <td>1</td>\n",
       "      <td>5</td>\n",
       "      <td>5</td>\n",
       "      <td>0</td>\n",
       "      <td>5</td>\n",
       "      <td>2</td>\n",
       "      <td>...</td>\n",
       "      <td>0</td>\n",
       "      <td>0</td>\n",
       "      <td>0</td>\n",
       "      <td>0</td>\n",
       "      <td>1</td>\n",
       "      <td>0</td>\n",
       "      <td>0</td>\n",
       "      <td>0</td>\n",
       "      <td>0</td>\n",
       "      <td>0</td>\n",
       "    </tr>\n",
       "    <tr>\n",
       "      <th>6</th>\n",
       "      <td>24</td>\n",
       "      <td>1</td>\n",
       "      <td>2</td>\n",
       "      <td>1</td>\n",
       "      <td>2</td>\n",
       "      <td>4</td>\n",
       "      <td>5</td>\n",
       "      <td>2</td>\n",
       "      <td>5</td>\n",
       "      <td>0</td>\n",
       "      <td>...</td>\n",
       "      <td>0</td>\n",
       "      <td>0</td>\n",
       "      <td>0</td>\n",
       "      <td>0</td>\n",
       "      <td>1</td>\n",
       "      <td>0</td>\n",
       "      <td>0</td>\n",
       "      <td>0</td>\n",
       "      <td>0</td>\n",
       "      <td>0</td>\n",
       "    </tr>\n",
       "    <tr>\n",
       "      <th>7</th>\n",
       "      <td>30</td>\n",
       "      <td>1</td>\n",
       "      <td>1</td>\n",
       "      <td>1</td>\n",
       "      <td>0</td>\n",
       "      <td>3</td>\n",
       "      <td>5</td>\n",
       "      <td>0</td>\n",
       "      <td>5</td>\n",
       "      <td>2</td>\n",
       "      <td>...</td>\n",
       "      <td>0</td>\n",
       "      <td>0</td>\n",
       "      <td>0</td>\n",
       "      <td>0</td>\n",
       "      <td>1</td>\n",
       "      <td>0</td>\n",
       "      <td>0</td>\n",
       "      <td>0</td>\n",
       "      <td>0</td>\n",
       "      <td>0</td>\n",
       "    </tr>\n",
       "    <tr>\n",
       "      <th>8</th>\n",
       "      <td>29</td>\n",
       "      <td>1</td>\n",
       "      <td>2</td>\n",
       "      <td>1</td>\n",
       "      <td>1</td>\n",
       "      <td>5</td>\n",
       "      <td>5</td>\n",
       "      <td>5</td>\n",
       "      <td>5</td>\n",
       "      <td>5</td>\n",
       "      <td>...</td>\n",
       "      <td>0</td>\n",
       "      <td>0</td>\n",
       "      <td>0</td>\n",
       "      <td>0</td>\n",
       "      <td>1</td>\n",
       "      <td>0</td>\n",
       "      <td>0</td>\n",
       "      <td>0</td>\n",
       "      <td>0</td>\n",
       "      <td>0</td>\n",
       "    </tr>\n",
       "  </tbody>\n",
       "</table>\n",
       "<p>5 rows × 69 columns</p>\n",
       "</div>"
      ],
      "text/plain": [
       "   IDADE  ST_CONCLUSAO  Q01  Q04  Q05  Q24  Q25  Q26  Q27  Q28  ...  Q30_E  \\\n",
       "3     19             1    2    1    0    4    5    4    4    1  ...      0   \n",
       "4     26             1    1    1    1    5    5    0    5    2  ...      0   \n",
       "6     24             1    2    1    2    4    5    2    5    0  ...      0   \n",
       "7     30             1    1    1    0    3    5    0    5    2  ...      0   \n",
       "8     29             1    2    1    1    5    5    5    5    5  ...      0   \n",
       "\n",
       "   Q30_F  Q30_G  Q30_H  Q33_A  Q33_B  Q33_E  Q33_F  Q33_G  Q33_H  \n",
       "3      0      0      0      1      0      0      0      0      0  \n",
       "4      0      0      0      1      0      0      0      0      0  \n",
       "6      0      0      0      1      0      0      0      0      0  \n",
       "7      0      0      0      1      0      0      0      0      0  \n",
       "8      0      0      0      1      0      0      0      0      0  \n",
       "\n",
       "[5 rows x 69 columns]"
      ]
     },
     "execution_count": 56,
     "metadata": {},
     "output_type": "execute_result"
    }
   ],
   "source": [
    "enem_data.head(5)"
   ]
  },
  {
   "cell_type": "markdown",
   "id": "1d53b98e",
   "metadata": {},
   "source": [
    "###### Visualização da Variável Resposta"
   ]
  },
  {
   "cell_type": "code",
   "execution_count": 57,
   "id": "4bca84af",
   "metadata": {},
   "outputs": [
    {
     "data": {
      "text/plain": [
       "(array([4.4790e+03, 8.9510e+03, 8.9230e+03, 1.0652e+04, 1.2250e+04,\n",
       "        1.2980e+04, 1.3031e+04, 1.2842e+04, 1.2870e+04, 1.3270e+04,\n",
       "        1.4051e+04, 1.3661e+04, 1.2284e+04, 1.0188e+04, 7.2310e+03,\n",
       "        4.7320e+03, 3.0550e+03, 1.9410e+03, 1.2870e+03, 7.9800e+02,\n",
       "        4.9700e+02, 2.7600e+02, 1.7800e+02, 1.0300e+02, 6.0000e+01,\n",
       "        2.7000e+01, 1.4000e+01, 3.0000e+00, 2.0000e+00, 2.0000e+00]),\n",
       " array([313.4 , 335.26, 357.12, 378.98, 400.84, 422.7 , 444.56, 466.42,\n",
       "        488.28, 510.14, 532.  , 553.86, 575.72, 597.58, 619.44, 641.3 ,\n",
       "        663.16, 685.02, 706.88, 728.74, 750.6 , 772.46, 794.32, 816.18,\n",
       "        838.04, 859.9 , 881.76, 903.62, 925.48, 947.34, 969.2 ]),\n",
       " <BarContainer object of 30 artists>)"
      ]
     },
     "execution_count": 57,
     "metadata": {},
     "output_type": "execute_result"
    },
    {
     "data": {
      "image/png": "[encoded data removed]",
      "text/plain": [
       "<Figure size 432x288 with 1 Axes>"
      ]
     },
     "metadata": {
      "needs_background": "light"
     },
     "output_type": "display_data"
    }
   ],
   "source": [
    "%matplotlib inline\n",
    "\n",
    "plt.hist(enem_data[\"NU_NT_CN\"], bins = 30)"
   ]
  },
  {
   "cell_type": "markdown",
   "id": "61fff870",
   "metadata": {},
   "source": [
    "A partir do histograma das notas dos candidatos, nota-se que notas maiores que 700 possuem frequência muito baixa, enquanto que o intervalo entre 400 e 600 possui uma alta frequência de ocorrência. É válido ressaltar também que a fequência na cauda da esquerda, notas entre 300 e 400, é maior quando comparada com a cauda da direita a partir do valor de 700"
   ]
  },
  {
   "cell_type": "markdown",
   "id": "21e55c63",
   "metadata": {},
   "source": [
    "###### Separação entre *features* e *target*"
   ]
  },
  {
   "cell_type": "code",
   "execution_count": 58,
   "id": "757750d1",
   "metadata": {},
   "outputs": [],
   "source": [
    "features_enem_completo = enem_data.drop(columns = {\"NU_NT_CN\"})\n",
    "target_enem = enem_data[\"NU_NT_CN\"]"
   ]
  },
  {
   "cell_type": "markdown",
   "id": "eb3d9e1d",
   "metadata": {},
   "source": [
    "###### Redução de dimensionalidade com PCA"
   ]
  },
  {
   "cell_type": "code",
   "execution_count": 59,
   "id": "d979d87e",
   "metadata": {},
   "outputs": [
    {
     "name": "stdout",
     "output_type": "stream",
     "text": [
      "[0.74145071 0.07213386 0.03215247 0.02726498 0.0180025  0.01335513\n",
      " 0.01026888]\n"
     ]
    }
   ],
   "source": [
    "pca_enem = PCA(n_components=7)\n",
    "features_enem = pd.DataFrame(pca_enem.fit_transform(features_enem_completo))\n",
    "print(pca_enem.explained_variance_ratio_)"
   ]
  },
  {
   "cell_type": "markdown",
   "id": "16d01a59",
   "metadata": {},
   "source": [
    "Foram acrescentadas todas as componentes com proporção de variância total explicada superior a 1%."
   ]
  },
  {
   "cell_type": "code",
   "execution_count": 60,
   "id": "08fa640b",
   "metadata": {},
   "outputs": [
    {
     "data": {
      "text/html": [
       "<div>\n",
       "<style scoped>\n",
       "    .dataframe tbody tr th:only-of-type {\n",
       "        vertical-align: middle;\n",
       "    }\n",
       "\n",
       "    .dataframe tbody tr th {\n",
       "        vertical-align: top;\n",
       "    }\n",
       "\n",
       "    .dataframe thead th {\n",
       "        text-align: right;\n",
       "    }\n",
       "</style>\n",
       "<table border=\"1\" class=\"dataframe\">\n",
       "  <thead>\n",
       "    <tr style=\"text-align: right;\">\n",
       "      <th></th>\n",
       "      <th>0</th>\n",
       "      <th>1</th>\n",
       "      <th>2</th>\n",
       "      <th>3</th>\n",
       "      <th>4</th>\n",
       "      <th>5</th>\n",
       "      <th>6</th>\n",
       "    </tr>\n",
       "  </thead>\n",
       "  <tbody>\n",
       "    <tr>\n",
       "      <th>0</th>\n",
       "      <td>-5.096825</td>\n",
       "      <td>1.881294</td>\n",
       "      <td>-0.049194</td>\n",
       "      <td>-1.269914</td>\n",
       "      <td>0.177578</td>\n",
       "      <td>0.460158</td>\n",
       "      <td>-1.319778</td>\n",
       "    </tr>\n",
       "    <tr>\n",
       "      <th>1</th>\n",
       "      <td>1.996968</td>\n",
       "      <td>-0.896362</td>\n",
       "      <td>-0.575564</td>\n",
       "      <td>2.446554</td>\n",
       "      <td>-0.066023</td>\n",
       "      <td>-0.025862</td>\n",
       "      <td>0.126951</td>\n",
       "    </tr>\n",
       "    <tr>\n",
       "      <th>2</th>\n",
       "      <td>-0.036270</td>\n",
       "      <td>0.006633</td>\n",
       "      <td>-0.750471</td>\n",
       "      <td>-0.918975</td>\n",
       "      <td>-0.954988</td>\n",
       "      <td>-0.232788</td>\n",
       "      <td>0.434058</td>\n",
       "    </tr>\n",
       "    <tr>\n",
       "      <th>3</th>\n",
       "      <td>6.021481</td>\n",
       "      <td>-2.183145</td>\n",
       "      <td>-0.509436</td>\n",
       "      <td>-0.781482</td>\n",
       "      <td>0.923778</td>\n",
       "      <td>-0.368388</td>\n",
       "      <td>-1.060296</td>\n",
       "    </tr>\n",
       "    <tr>\n",
       "      <th>4</th>\n",
       "      <td>5.067037</td>\n",
       "      <td>3.413432</td>\n",
       "      <td>-0.497058</td>\n",
       "      <td>-0.270488</td>\n",
       "      <td>3.321638</td>\n",
       "      <td>-0.192536</td>\n",
       "      <td>0.368460</td>\n",
       "    </tr>\n",
       "    <tr>\n",
       "      <th>...</th>\n",
       "      <td>...</td>\n",
       "      <td>...</td>\n",
       "      <td>...</td>\n",
       "      <td>...</td>\n",
       "      <td>...</td>\n",
       "      <td>...</td>\n",
       "      <td>...</td>\n",
       "    </tr>\n",
       "    <tr>\n",
       "      <th>180633</th>\n",
       "      <td>-5.614946</td>\n",
       "      <td>4.690949</td>\n",
       "      <td>2.062309</td>\n",
       "      <td>3.631568</td>\n",
       "      <td>3.637695</td>\n",
       "      <td>-0.060433</td>\n",
       "      <td>-0.536131</td>\n",
       "    </tr>\n",
       "    <tr>\n",
       "      <th>180634</th>\n",
       "      <td>-2.630241</td>\n",
       "      <td>-2.397690</td>\n",
       "      <td>4.605878</td>\n",
       "      <td>0.453406</td>\n",
       "      <td>0.546670</td>\n",
       "      <td>1.491202</td>\n",
       "      <td>-0.012190</td>\n",
       "    </tr>\n",
       "    <tr>\n",
       "      <th>180635</th>\n",
       "      <td>20.396355</td>\n",
       "      <td>4.885389</td>\n",
       "      <td>1.878123</td>\n",
       "      <td>3.856276</td>\n",
       "      <td>2.197889</td>\n",
       "      <td>-0.326590</td>\n",
       "      <td>1.003266</td>\n",
       "    </tr>\n",
       "    <tr>\n",
       "      <th>180636</th>\n",
       "      <td>7.260069</td>\n",
       "      <td>3.218886</td>\n",
       "      <td>2.128818</td>\n",
       "      <td>2.945593</td>\n",
       "      <td>2.206044</td>\n",
       "      <td>-0.456245</td>\n",
       "      <td>-0.350832</td>\n",
       "    </tr>\n",
       "    <tr>\n",
       "      <th>180637</th>\n",
       "      <td>12.310159</td>\n",
       "      <td>4.824425</td>\n",
       "      <td>1.739812</td>\n",
       "      <td>3.387744</td>\n",
       "      <td>-0.214315</td>\n",
       "      <td>-0.030319</td>\n",
       "      <td>-0.514706</td>\n",
       "    </tr>\n",
       "  </tbody>\n",
       "</table>\n",
       "<p>180638 rows × 7 columns</p>\n",
       "</div>"
      ],
      "text/plain": [
       "                0         1         2         3         4         5         6\n",
       "0       -5.096825  1.881294 -0.049194 -1.269914  0.177578  0.460158 -1.319778\n",
       "1        1.996968 -0.896362 -0.575564  2.446554 -0.066023 -0.025862  0.126951\n",
       "2       -0.036270  0.006633 -0.750471 -0.918975 -0.954988 -0.232788  0.434058\n",
       "3        6.021481 -2.183145 -0.509436 -0.781482  0.923778 -0.368388 -1.060296\n",
       "4        5.067037  3.413432 -0.497058 -0.270488  3.321638 -0.192536  0.368460\n",
       "...           ...       ...       ...       ...       ...       ...       ...\n",
       "180633  -5.614946  4.690949  2.062309  3.631568  3.637695 -0.060433 -0.536131\n",
       "180634  -2.630241 -2.397690  4.605878  0.453406  0.546670  1.491202 -0.012190\n",
       "180635  20.396355  4.885389  1.878123  3.856276  2.197889 -0.326590  1.003266\n",
       "180636   7.260069  3.218886  2.128818  2.945593  2.206044 -0.456245 -0.350832\n",
       "180637  12.310159  4.824425  1.739812  3.387744 -0.214315 -0.030319 -0.514706\n",
       "\n",
       "[180638 rows x 7 columns]"
      ]
     },
     "execution_count": 60,
     "metadata": {},
     "output_type": "execute_result"
    }
   ],
   "source": [
    "features_enem"
   ]
  },
  {
   "cell_type": "markdown",
   "id": "cd5e57df",
   "metadata": {},
   "source": [
    "###### Visualização da relação entre a *Nota CN* e a primeira *feature* reduzida"
   ]
  },
  {
   "cell_type": "code",
   "execution_count": 61,
   "id": "512317cf",
   "metadata": {},
   "outputs": [
    {
     "data": {
      "image/png": "[encoded data removed]",
      "text/plain": [
       "<Figure size 432x288 with 1 Axes>"
      ]
     },
     "metadata": {
      "needs_background": "light"
     },
     "output_type": "display_data"
    }
   ],
   "source": [
    "plt.plot(features_enem[0], target_enem, 'ro')\n",
    "plt.show()"
   ]
  },
  {
   "cell_type": "markdown",
   "id": "b6177b83",
   "metadata": {},
   "source": [
    "Pelo gráfico acima não percebemos nenhum tipo de relação clara entre as variáveis"
   ]
  },
  {
   "cell_type": "markdown",
   "id": "fd3b9361",
   "metadata": {},
   "source": [
    "###### Correlação entre as componentes principais selecionadas (7) e a *Nota CN*"
   ]
  },
  {
   "cell_type": "code",
   "execution_count": 62,
   "id": "d95b8324",
   "metadata": {},
   "outputs": [
    {
     "data": {
      "image/png": "[encoded data removed]",
      "text/plain": [
       "<Figure size 288x288 with 2 Axes>"
      ]
     },
     "metadata": {
      "needs_background": "light"
     },
     "output_type": "display_data"
    }
   ],
   "source": [
    "plt.matshow(pd.concat([features_enem, target_enem], axis=1).corr())\n",
    "cb = plt.colorbar()\n",
    "plt.show()"
   ]
  },
  {
   "cell_type": "markdown",
   "id": "62b0e22d",
   "metadata": {},
   "source": [
    "A correlação é muito próxima de 0 para todas as covariáveis e o *target*."
   ]
  },
  {
   "cell_type": "markdown",
   "id": "8c319a26",
   "metadata": {},
   "source": [
    "###### Correlação entre as covariáveis originais e o *target*"
   ]
  },
  {
   "cell_type": "code",
   "execution_count": 63,
   "id": "1e528ddd",
   "metadata": {},
   "outputs": [
    {
     "data": {
      "image/png": "[encoded data removed]",
      "text/plain": [
       "<Figure size 288x288 with 2 Axes>"
      ]
     },
     "metadata": {
      "needs_background": "light"
     },
     "output_type": "display_data"
    }
   ],
   "source": [
    "plt.matshow(enem_data.corr())\n",
    "cb = plt.colorbar()\n",
    "plt.show()"
   ]
  },
  {
   "cell_type": "markdown",
   "id": "4f3a0a49",
   "metadata": {},
   "source": [
    "###### Ajuste Árvore de Decisão"
   ]
  },
  {
   "cell_type": "code",
   "execution_count": 64,
   "id": "40c79313",
   "metadata": {},
   "outputs": [
    {
     "name": "stdout",
     "output_type": "stream",
     "text": [
      "Variancia Explicada:  [-0.72 -0.86 -0.5  -0.63 -0.65 -0.61 -0.67 -0.7  -0.71 -0.64] Média: -0.67\n",
      "Mean Squared Error:  [-15305.14 -14733.56 -15163.65 -15790.58 -15719.45 -15631.52 -15249.34\n",
      " -15502.34 -15228.45 -15819.52] Média: -15414.36\n",
      "R^2: [-0.72 -0.9  -0.5  -0.65 -0.66 -0.61 -0.67 -0.71 -0.72 -0.64] Média: -0.68\n"
     ]
    }
   ],
   "source": [
    "decisiontree_enem = DecisionTreeRegressor(random_state=13)\n",
    "\n",
    "var_exp = cross_val_score(decisiontree_enem, features_enem, target_enem, cv=10, scoring = \"explained_variance\")\n",
    "mse = cross_val_score(decisiontree_enem, features_enem, target_enem, cv=10, scoring = \"neg_mean_squared_error\")\n",
    "r2score = cross_val_score(decisiontree_enem, features_enem, target_enem, cv=10, scoring = \"r2\")\n",
    "\n",
    "print('Variancia Explicada: ', np.round(var_exp,2) , \"Média:\", np.round(np.mean(var_exp),2))\n",
    "print('Mean Squared Error: ', np.round(mse,2) ,\"Média:\", np.round(np.mean(mse),2))\n",
    "print('R^2:', np.round(r2score,2), \"Média:\", np.round(np.mean(r2score),2))"
   ]
  },
  {
   "cell_type": "markdown",
   "id": "3ba86f68",
   "metadata": {},
   "source": [
    "###### Ajuste Floresta Aleatória"
   ]
  },
  {
   "cell_type": "code",
   "execution_count": 65,
   "id": "bace0895",
   "metadata": {},
   "outputs": [
    {
     "name": "stdout",
     "output_type": "stream",
     "text": [
      "Variancia Explicada:  [0.04 0.04 0.09 0.04 0.04 0.06 0.06 0.06 0.06 0.07] Média: 0.06\n",
      "Mean Squared Error:  [-8655.43 -8523.48 -9259.48 -9702.41 -9371.59 -9311.14 -8596.22 -8542.43\n",
      " -8356.48 -8933.86] Média: -8925.25\n",
      "R^2: [ 0.03 -0.1   0.09 -0.01  0.01  0.04  0.06  0.06  0.06  0.07] Média: 0.03\n"
     ]
    }
   ],
   "source": [
    "randomforest_enem = RandomForestRegressor(random_state=13, n_jobs=-1, max_depth=2)\n",
    "\n",
    "var_exp = cross_val_score(randomforest_enem, features_enem, target_enem,cv=10, scoring = \"explained_variance\")\n",
    "mse = cross_val_score(randomforest_enem, features_enem, target_enem,cv=10, scoring = \"neg_mean_squared_error\")\n",
    "r2score = cross_val_score(randomforest_enem, features_enem, target_enem,cv=10, scoring = \"r2\")\n",
    "\n",
    "print('Variancia Explicada: ', np.round(var_exp,2), \"Média:\", np.round(np.mean(var_exp),2))\n",
    "print('Mean Squared Error: ', np.round(mse,2), \"Média:\", np.round(np.mean(mse),2))\n",
    "print('R^2:', np.round(r2score,2), \"Média:\", np.round(np.mean(r2score),2))"
   ]
  },
  {
   "cell_type": "markdown",
   "id": "3328fa99",
   "metadata": {},
   "source": [
    "###### Ajuste Regressão com Regularização"
   ]
  },
  {
   "cell_type": "markdown",
   "id": "1c25cc5a",
   "metadata": {},
   "source": [
    "Para a aplicação de um Modelo de Regressão Lasso é necessário, anteriormente, padronizar as covariáveis."
   ]
  },
  {
   "cell_type": "code",
   "execution_count": 66,
   "id": "2d6a7a06",
   "metadata": {},
   "outputs": [],
   "source": [
    "scaler = StandardScaler()\n",
    "features_enem_standardized = scaler.fit_transform(features_enem)"
   ]
  },
  {
   "cell_type": "code",
   "execution_count": 67,
   "id": "f6dbc964",
   "metadata": {},
   "outputs": [
    {
     "name": "stdout",
     "output_type": "stream",
     "text": [
      "Variancia Explicada:  [0.09 0.07 0.12 0.08 0.08 0.09 0.09 0.08 0.08 0.1 ] Média: 0.09\n",
      "Mean Squared Error:  [-8208.08 -8063.41 -8875.57 -9241.   -8992.66 -8971.11 -8331.34 -8363.51\n",
      " -8203.32 -8730.75] Média: -8598.08\n",
      "R^2: [ 0.08 -0.04  0.12  0.04  0.05  0.08  0.09  0.08  0.08  0.1 ] Média: 0.07\n"
     ]
    }
   ],
   "source": [
    "lasso_enem = Lasso(alpha=0.5)\n",
    "\n",
    "var_exp = cross_val_score(lasso_enem, features_enem, target_enem, cv=10, scoring = \"explained_variance\")\n",
    "mse = cross_val_score(lasso_enem, features_enem, target_enem, cv=10, scoring = \"neg_mean_squared_error\")\n",
    "r2score = cross_val_score(lasso_enem, features_enem, target_enem, cv=10, scoring = \"r2\")\n",
    "\n",
    "print('Variancia Explicada: ', np.round(var_exp,2), \"Média:\", np.round(np.mean(var_exp),2))\n",
    "print('Mean Squared Error: ', np.round(mse,2), \"Média:\", np.round(np.mean(mse),2))\n",
    "print('R^2:', np.round(r2score,2), \"Média:\", np.round(np.mean(r2score),2))"
   ]
  },
  {
   "cell_type": "markdown",
   "id": "8a6cb196",
   "metadata": {},
   "source": [
    "###### Análise dos Resultados"
   ]
  },
  {
   "cell_type": "markdown",
   "id": "23ada733",
   "metadata": {},
   "source": [
    "Não foi encontrado no banco de dados nenhuma variável que tenha alguma relação útil para predição da nota dos estudantes em Ciências da Natureza. Foram aplicadas as transformações nas covariáveis (redução de dimensionalidade com PCA) e ainda assim as componentes não apresentaram relação com o *target*. Diante disso os modelos foram ajustados, mas conforme foi apresentado acima os seus resultados foram ruins para predição da variável de interesse."
   ]
  }
 ],
 "metadata": {
  "kernelspec": {
   "display_name": "Python 3",
   "language": "python",
   "name": "python3"
  },
  "language_info": {
   "codemirror_mode": {
    "name": "ipython",
    "version": 3
   },
   "file_extension": ".py",
   "mimetype": "text/x-python",
   "name": "python",
   "nbconvert_exporter": "python",
   "pygments_lexer": "ipython3",
   "version": "3.8.8"
  }
 },
 "nbformat": 4,
 "nbformat_minor": 5
}
