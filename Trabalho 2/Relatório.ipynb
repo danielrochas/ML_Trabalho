{
 "cells": [
  {
   "cell_type": "markdown",
   "metadata": {},
   "source": [
    "# Análise de Dados com Métodos de Aprendizado de Máquina"
   ]
  },
  {
   "cell_type": "markdown",
   "metadata": {},
   "source": [
    "## Introdução ao Aprendizado de Máquina"
   ]
  },
  {
   "cell_type": "markdown",
   "metadata": {},
   "source": [
    "### Daniel Rocha da Silva, Laura Kubitschek Fiorindo"
   ]
  },
  {
   "cell_type": "markdown",
   "metadata": {},
   "source": [
    "Link para repositório no GitHub: [Repositório no GitHub](https://github.com/danielrochas/ML_Trabalho/tree/main/Trabalho%202)\n",
    "\n",
    "Descrição do trabalho: [Descrição.pdf](https://github.com/danielrochas/ML_Trabalho/blob/main/Trabalho%202/Descrição.pdf)"
   ]
  },
  {
   "cell_type": "markdown",
   "metadata": {},
   "source": [
    "### Importação de bibliotecas"
   ]
  },
  {
   "cell_type": "code",
   "execution_count": 3,
   "metadata": {},
   "outputs": [
    {
     "name": "stderr",
     "output_type": "stream",
     "text": [
      "C:\\Users\\Laura\\Anaconda3\\lib\\site-packages\\sklearn\\linear_model\\least_angle.py:35: DeprecationWarning: `np.float` is a deprecated alias for the builtin `float`. To silence this warning, use `float` by itself. Doing this will not modify any behavior and is safe. If you specifically wanted the numpy scalar type, use `np.float64` here.\n",
      "Deprecated in NumPy 1.20; for more details and guidance: https://numpy.org/devdocs/release/1.20.0-notes.html#deprecations\n",
      "  eps=np.finfo(np.float).eps,\n",
      "C:\\Users\\Laura\\Anaconda3\\lib\\site-packages\\sklearn\\linear_model\\least_angle.py:597: DeprecationWarning: `np.float` is a deprecated alias for the builtin `float`. To silence this warning, use `float` by itself. Doing this will not modify any behavior and is safe. If you specifically wanted the numpy scalar type, use `np.float64` here.\n",
      "Deprecated in NumPy 1.20; for more details and guidance: https://numpy.org/devdocs/release/1.20.0-notes.html#deprecations\n",
      "  eps=np.finfo(np.float).eps, copy_X=True, fit_path=True,\n",
      "C:\\Users\\Laura\\Anaconda3\\lib\\site-packages\\sklearn\\linear_model\\least_angle.py:836: DeprecationWarning: `np.float` is a deprecated alias for the builtin `float`. To silence this warning, use `float` by itself. Doing this will not modify any behavior and is safe. If you specifically wanted the numpy scalar type, use `np.float64` here.\n",
      "Deprecated in NumPy 1.20; for more details and guidance: https://numpy.org/devdocs/release/1.20.0-notes.html#deprecations\n",
      "  eps=np.finfo(np.float).eps, copy_X=True, fit_path=True,\n",
      "C:\\Users\\Laura\\Anaconda3\\lib\\site-packages\\sklearn\\linear_model\\least_angle.py:862: DeprecationWarning: `np.float` is a deprecated alias for the builtin `float`. To silence this warning, use `float` by itself. Doing this will not modify any behavior and is safe. If you specifically wanted the numpy scalar type, use `np.float64` here.\n",
      "Deprecated in NumPy 1.20; for more details and guidance: https://numpy.org/devdocs/release/1.20.0-notes.html#deprecations\n",
      "  eps=np.finfo(np.float).eps, positive=False):\n",
      "C:\\Users\\Laura\\Anaconda3\\lib\\site-packages\\sklearn\\linear_model\\least_angle.py:1074: DeprecationWarning: `np.float` is a deprecated alias for the builtin `float`. To silence this warning, use `float` by itself. Doing this will not modify any behavior and is safe. If you specifically wanted the numpy scalar type, use `np.float64` here.\n",
      "Deprecated in NumPy 1.20; for more details and guidance: https://numpy.org/devdocs/release/1.20.0-notes.html#deprecations\n",
      "  max_n_alphas=1000, n_jobs=1, eps=np.finfo(np.float).eps,\n",
      "C:\\Users\\Laura\\Anaconda3\\lib\\site-packages\\sklearn\\linear_model\\least_angle.py:1306: DeprecationWarning: `np.float` is a deprecated alias for the builtin `float`. To silence this warning, use `float` by itself. Doing this will not modify any behavior and is safe. If you specifically wanted the numpy scalar type, use `np.float64` here.\n",
      "Deprecated in NumPy 1.20; for more details and guidance: https://numpy.org/devdocs/release/1.20.0-notes.html#deprecations\n",
      "  max_n_alphas=1000, n_jobs=1, eps=np.finfo(np.float).eps,\n",
      "C:\\Users\\Laura\\Anaconda3\\lib\\site-packages\\sklearn\\linear_model\\least_angle.py:1442: DeprecationWarning: `np.float` is a deprecated alias for the builtin `float`. To silence this warning, use `float` by itself. Doing this will not modify any behavior and is safe. If you specifically wanted the numpy scalar type, use `np.float64` here.\n",
      "Deprecated in NumPy 1.20; for more details and guidance: https://numpy.org/devdocs/release/1.20.0-notes.html#deprecations\n",
      "  eps=np.finfo(np.float).eps, copy_X=True, positive=False):\n",
      "C:\\Users\\Laura\\Anaconda3\\lib\\site-packages\\sklearn\\linear_model\\randomized_l1.py:152: DeprecationWarning: `np.float` is a deprecated alias for the builtin `float`. To silence this warning, use `float` by itself. Doing this will not modify any behavior and is safe. If you specifically wanted the numpy scalar type, use `np.float64` here.\n",
      "Deprecated in NumPy 1.20; for more details and guidance: https://numpy.org/devdocs/release/1.20.0-notes.html#deprecations\n",
      "  precompute=False, eps=np.finfo(np.float).eps,\n",
      "C:\\Users\\Laura\\Anaconda3\\lib\\site-packages\\sklearn\\linear_model\\randomized_l1.py:318: DeprecationWarning: `np.float` is a deprecated alias for the builtin `float`. To silence this warning, use `float` by itself. Doing this will not modify any behavior and is safe. If you specifically wanted the numpy scalar type, use `np.float64` here.\n",
      "Deprecated in NumPy 1.20; for more details and guidance: https://numpy.org/devdocs/release/1.20.0-notes.html#deprecations\n",
      "  eps=np.finfo(np.float).eps, random_state=None,\n",
      "C:\\Users\\Laura\\Anaconda3\\lib\\site-packages\\sklearn\\linear_model\\randomized_l1.py:575: DeprecationWarning: `np.float` is a deprecated alias for the builtin `float`. To silence this warning, use `float` by itself. Doing this will not modify any behavior and is safe. If you specifically wanted the numpy scalar type, use `np.float64` here.\n",
      "Deprecated in NumPy 1.20; for more details and guidance: https://numpy.org/devdocs/release/1.20.0-notes.html#deprecations\n",
      "  eps=4 * np.finfo(np.float).eps, n_jobs=1,\n",
      "C:\\Users\\Laura\\Anaconda3\\lib\\site-packages\\sklearn\\ensemble\\weight_boosting.py:29: DeprecationWarning: numpy.core.umath_tests is an internal NumPy module and should not be imported. It will be removed in a future NumPy release.\n",
      "  from numpy.core.umath_tests import inner1d\n",
      "C:\\Users\\Laura\\Anaconda3\\lib\\site-packages\\sklearn\\ensemble\\gradient_boosting.py:34: DeprecationWarning: `np.bool` is a deprecated alias for the builtin `bool`. To silence this warning, use `bool` by itself. Doing this will not modify any behavior and is safe. If you specifically wanted the numpy scalar type, use `np.bool_` here.\n",
      "Deprecated in NumPy 1.20; for more details and guidance: https://numpy.org/devdocs/release/1.20.0-notes.html#deprecations\n",
      "  from ._gradient_boosting import predict_stages\n",
      "C:\\Users\\Laura\\Anaconda3\\lib\\site-packages\\sklearn\\ensemble\\gradient_boosting.py:34: DeprecationWarning: `np.bool` is a deprecated alias for the builtin `bool`. To silence this warning, use `bool` by itself. Doing this will not modify any behavior and is safe. If you specifically wanted the numpy scalar type, use `np.bool_` here.\n",
      "Deprecated in NumPy 1.20; for more details and guidance: https://numpy.org/devdocs/release/1.20.0-notes.html#deprecations\n",
      "  from ._gradient_boosting import predict_stages\n"
     ]
    }
   ],
   "source": [
    "import pandas as pd\n",
    "import numpy as np\n",
    "\n",
    "import matplotlib.pyplot as plt\n",
    "from sklearn.model_selection import train_test_split\n",
    "from sklearn.preprocessing import StandardScaler\n",
    "from sklearn.linear_model import LinearRegression\n",
    "from sklearn.tree import DecisionTreeRegressor\n",
    "from sklearn.ensemble import RandomForestRegressor\n",
    "from sklearn.metrics import explained_variance_score,mean_absolute_error,r2_score,mean_squared_error\n",
    "from sklearn.svm import SVR"
   ]
  },
  {
   "cell_type": "markdown",
   "metadata": {},
   "source": [
    "### Problema 1"
   ]
  },
  {
   "cell_type": "markdown",
   "metadata": {},
   "source": [
    "Importação e visualização do banco de dados"
   ]
  },
  {
   "cell_type": "code",
   "execution_count": 2,
   "metadata": {},
   "outputs": [
    {
     "data": {
      "text/html": [
       "<div>\n",
       "<style scoped>\n",
       "    .dataframe tbody tr th:only-of-type {\n",
       "        vertical-align: middle;\n",
       "    }\n",
       "\n",
       "    .dataframe tbody tr th {\n",
       "        vertical-align: top;\n",
       "    }\n",
       "\n",
       "    .dataframe thead th {\n",
       "        text-align: right;\n",
       "    }\n",
       "</style>\n",
       "<table border=\"1\" class=\"dataframe\">\n",
       "  <thead>\n",
       "    <tr style=\"text-align: right;\">\n",
       "      <th></th>\n",
       "      <th>%</th>\n",
       "      <th>lcavol</th>\n",
       "      <th>lweigh</th>\n",
       "      <th>age</th>\n",
       "      <th>lbph</th>\n",
       "      <th>svi</th>\n",
       "      <th>lcp</th>\n",
       "      <th>gleason</th>\n",
       "      <th>pgg45</th>\n",
       "      <th>lpsa</th>\n",
       "    </tr>\n",
       "  </thead>\n",
       "  <tbody>\n",
       "    <tr>\n",
       "      <th>0</th>\n",
       "      <td>1</td>\n",
       "      <td>-0.579818</td>\n",
       "      <td>2.769459</td>\n",
       "      <td>50</td>\n",
       "      <td>-1.386294</td>\n",
       "      <td>0</td>\n",
       "      <td>-1.386294</td>\n",
       "      <td>6</td>\n",
       "      <td>0</td>\n",
       "      <td>-0.430783</td>\n",
       "    </tr>\n",
       "    <tr>\n",
       "      <th>1</th>\n",
       "      <td>2</td>\n",
       "      <td>-0.994252</td>\n",
       "      <td>3.319626</td>\n",
       "      <td>58</td>\n",
       "      <td>-1.386294</td>\n",
       "      <td>0</td>\n",
       "      <td>-1.386294</td>\n",
       "      <td>6</td>\n",
       "      <td>0</td>\n",
       "      <td>-0.162519</td>\n",
       "    </tr>\n",
       "    <tr>\n",
       "      <th>2</th>\n",
       "      <td>3</td>\n",
       "      <td>-0.510826</td>\n",
       "      <td>2.691243</td>\n",
       "      <td>74</td>\n",
       "      <td>-1.386294</td>\n",
       "      <td>0</td>\n",
       "      <td>-1.386294</td>\n",
       "      <td>7</td>\n",
       "      <td>20</td>\n",
       "      <td>-0.162519</td>\n",
       "    </tr>\n",
       "    <tr>\n",
       "      <th>3</th>\n",
       "      <td>4</td>\n",
       "      <td>-1.203973</td>\n",
       "      <td>3.282789</td>\n",
       "      <td>58</td>\n",
       "      <td>-1.386294</td>\n",
       "      <td>0</td>\n",
       "      <td>-1.386294</td>\n",
       "      <td>6</td>\n",
       "      <td>0</td>\n",
       "      <td>-0.162519</td>\n",
       "    </tr>\n",
       "    <tr>\n",
       "      <th>4</th>\n",
       "      <td>5</td>\n",
       "      <td>0.751416</td>\n",
       "      <td>3.432373</td>\n",
       "      <td>62</td>\n",
       "      <td>-1.386294</td>\n",
       "      <td>0</td>\n",
       "      <td>-1.386294</td>\n",
       "      <td>6</td>\n",
       "      <td>0</td>\n",
       "      <td>0.371564</td>\n",
       "    </tr>\n",
       "    <tr>\n",
       "      <th>...</th>\n",
       "      <td>...</td>\n",
       "      <td>...</td>\n",
       "      <td>...</td>\n",
       "      <td>...</td>\n",
       "      <td>...</td>\n",
       "      <td>...</td>\n",
       "      <td>...</td>\n",
       "      <td>...</td>\n",
       "      <td>...</td>\n",
       "      <td>...</td>\n",
       "    </tr>\n",
       "    <tr>\n",
       "      <th>92</th>\n",
       "      <td>93</td>\n",
       "      <td>2.830268</td>\n",
       "      <td>3.876396</td>\n",
       "      <td>68</td>\n",
       "      <td>-1.386294</td>\n",
       "      <td>1</td>\n",
       "      <td>1.321756</td>\n",
       "      <td>7</td>\n",
       "      <td>60</td>\n",
       "      <td>4.385147</td>\n",
       "    </tr>\n",
       "    <tr>\n",
       "      <th>93</th>\n",
       "      <td>94</td>\n",
       "      <td>3.821004</td>\n",
       "      <td>3.896909</td>\n",
       "      <td>44</td>\n",
       "      <td>-1.386294</td>\n",
       "      <td>1</td>\n",
       "      <td>2.169054</td>\n",
       "      <td>7</td>\n",
       "      <td>40</td>\n",
       "      <td>4.684443</td>\n",
       "    </tr>\n",
       "    <tr>\n",
       "      <th>94</th>\n",
       "      <td>95</td>\n",
       "      <td>2.907447</td>\n",
       "      <td>3.396185</td>\n",
       "      <td>52</td>\n",
       "      <td>-1.386294</td>\n",
       "      <td>1</td>\n",
       "      <td>2.463853</td>\n",
       "      <td>7</td>\n",
       "      <td>10</td>\n",
       "      <td>5.143124</td>\n",
       "    </tr>\n",
       "    <tr>\n",
       "      <th>95</th>\n",
       "      <td>96</td>\n",
       "      <td>2.882564</td>\n",
       "      <td>3.773910</td>\n",
       "      <td>68</td>\n",
       "      <td>1.558145</td>\n",
       "      <td>1</td>\n",
       "      <td>1.558145</td>\n",
       "      <td>7</td>\n",
       "      <td>80</td>\n",
       "      <td>5.477509</td>\n",
       "    </tr>\n",
       "    <tr>\n",
       "      <th>96</th>\n",
       "      <td>97</td>\n",
       "      <td>3.471966</td>\n",
       "      <td>3.974998</td>\n",
       "      <td>68</td>\n",
       "      <td>0.438255</td>\n",
       "      <td>1</td>\n",
       "      <td>2.904165</td>\n",
       "      <td>7</td>\n",
       "      <td>20</td>\n",
       "      <td>5.582932</td>\n",
       "    </tr>\n",
       "  </tbody>\n",
       "</table>\n",
       "<p>97 rows × 10 columns</p>\n",
       "</div>"
      ],
      "text/plain": [
       "     %    lcavol    lweigh  age      lbph  svi       lcp  gleason  pgg45  \\\n",
       "0    1 -0.579818  2.769459   50 -1.386294    0 -1.386294        6      0   \n",
       "1    2 -0.994252  3.319626   58 -1.386294    0 -1.386294        6      0   \n",
       "2    3 -0.510826  2.691243   74 -1.386294    0 -1.386294        7     20   \n",
       "3    4 -1.203973  3.282789   58 -1.386294    0 -1.386294        6      0   \n",
       "4    5  0.751416  3.432373   62 -1.386294    0 -1.386294        6      0   \n",
       "..  ..       ...       ...  ...       ...  ...       ...      ...    ...   \n",
       "92  93  2.830268  3.876396   68 -1.386294    1  1.321756        7     60   \n",
       "93  94  3.821004  3.896909   44 -1.386294    1  2.169054        7     40   \n",
       "94  95  2.907447  3.396185   52 -1.386294    1  2.463853        7     10   \n",
       "95  96  2.882564  3.773910   68  1.558145    1  1.558145        7     80   \n",
       "96  97  3.471966  3.974998   68  0.438255    1  2.904165        7     20   \n",
       "\n",
       "        lpsa  \n",
       "0  -0.430783  \n",
       "1  -0.162519  \n",
       "2  -0.162519  \n",
       "3  -0.162519  \n",
       "4   0.371564  \n",
       "..       ...  \n",
       "92  4.385147  \n",
       "93  4.684443  \n",
       "94  5.143124  \n",
       "95  5.477509  \n",
       "96  5.582932  \n",
       "\n",
       "[97 rows x 10 columns]"
      ]
     },
     "execution_count": 2,
     "metadata": {},
     "output_type": "execute_result"
    }
   ],
   "source": [
    "prostate_data = pd.read_csv('data/prostate.data', sep=\"\\t\")\n",
    "prostate_data"
   ]
  },
  {
   "cell_type": "markdown",
   "metadata": {},
   "source": [
    "Visualização da variável resposta"
   ]
  },
  {
   "cell_type": "code",
   "execution_count": 3,
   "metadata": {},
   "outputs": [
    {
     "data": {
      "text/plain": [
       "(array([ 4.,  3.,  7., 17., 17., 26., 14.,  4.,  2.,  3.]),\n",
       " array([-0.4307829 ,  0.17058861,  0.77196012,  1.37333163,  1.97470314,\n",
       "         2.57607465,  3.17744616,  3.77881767,  4.38018918,  4.98156069,\n",
       "         5.5829322 ]),\n",
       " <BarContainer object of 10 artists>)"
      ]
     },
     "execution_count": 3,
     "metadata": {},
     "output_type": "execute_result"
    },
    {
     "data": {
      "image/png": "[encoded data removed]",
      "text/plain": [
       "<Figure size 432x288 with 1 Axes>"
      ]
     },
     "metadata": {
      "needs_background": "light"
     },
     "output_type": "display_data"
    }
   ],
   "source": [
    "%matplotlib inline\n",
    "\n",
    "plt.hist(prostate_data[\"lpsa\"])"
   ]
  },
  {
   "cell_type": "markdown",
   "metadata": {},
   "source": [
    "A partir do histrograma da variável resposta *lpsa* é possível perceber que ela possui distribuição semelhante à Normal, uma vez que possui maior frequência nos valores centrais e menor frequência nas caudas a esquerda e a direita."
   ]
  },
  {
   "cell_type": "markdown",
   "metadata": {},
   "source": [
    "Separação entre *features* e *target*"
   ]
  },
  {
   "cell_type": "code",
   "execution_count": 4,
   "metadata": {},
   "outputs": [],
   "source": [
    "features_prostate = prostate_data.drop(columns = {\"%\", \"lpsa\"})\n",
    "target_prostate = prostate_data[\"lpsa\"]"
   ]
  },
  {
   "cell_type": "markdown",
   "metadata": {},
   "source": [
    "Padronização das *features*"
   ]
  },
  {
   "cell_type": "code",
   "execution_count": 5,
   "metadata": {},
   "outputs": [],
   "source": [
    "scaler = StandardScaler()\n",
    "features_prostate_scaled = scaler.fit_transform(features_prostate)"
   ]
  },
  {
   "cell_type": "markdown",
   "metadata": {},
   "source": [
    "Separação do conjunto de treinamento (80%) e do conjunto de teste (20%)"
   ]
  },
  {
   "cell_type": "code",
   "execution_count": 6,
   "metadata": {},
   "outputs": [],
   "source": [
    "features_prostate_train, features_prostate_test, target_prostate_train, target_prostate_test = \\\n",
    "    train_test_split(features_prostate_scaled, target_prostate, test_size = 0.2, random_state = 13)"
   ]
  },
  {
   "cell_type": "markdown",
   "metadata": {},
   "source": [
    "Ajuste da Regressão Linear e cálculo de medidas de validação para o conjunto teste"
   ]
  },
  {
   "cell_type": "code",
   "execution_count": 7,
   "metadata": {},
   "outputs": [
    {
     "name": "stdout",
     "output_type": "stream",
     "text": [
      "R^2 Conjunto Teste:  0.64\n",
      "EQM Conjunto Teste:  0.6\n",
      "\n",
      "\n",
      "Intercepto 2.47\n",
      "lcavol : 0.63\n",
      "lweigh : 0.27\n",
      "age : -0.12\n",
      "lbph : 0.05\n",
      "svi : 0.31\n",
      "lcp : -0.14\n",
      "gleason : 0.07\n",
      "pgg45 : 0.08\n"
     ]
    }
   ],
   "source": [
    "lr_prostate = LinearRegression()\n",
    "lr_prostate.fit(features_prostate_train, target_prostate_train);\n",
    "\n",
    "# Validação Conjunto Teste\n",
    "print(\"R^2 Conjunto Teste: \", round(lr_prostate.score(features_prostate_test, target_prostate_test),2))\n",
    "target_predicted = lr_prostate.predict(features_prostate_test)\n",
    "print(\"EQM Conjunto Teste: \",round(mean_squared_error(target_prostate_test, target_predicted),2))\n",
    "\n",
    "print(\"\\n\")\n",
    "\n",
    "print(\"Intercepto\", round(lr_prostate.intercept_,2))\n",
    "for i in range(len(lr_prostate.coef_)):\n",
    "    print(prostate_data.columns[i+1],\":\", round(lr_prostate.coef_[i],2))"
   ]
  },
  {
   "cell_type": "markdown",
   "metadata": {},
   "source": [
    "A partir dos valores apresentados acima, nota-se que as *features lcavol, lweigh, lbph, svi, gleason* e *pgg45*, por possuírem valores positivos dos coeficientes, contribuem de maneira positiva para o valor da variável resposta *lpsa*. Ou seja, o aumento do valor dessas variáveis provoca também um aumento no valor da resposta. Vale ressaltar que esse aumento provocado pelas variáveis *lbph, gleason* e *pgg45* é pequeno devido ao pequeno valor do coeficiente, em contrapartida, as variáveis *lcavol, lweigh* e*svi* possuem maior contribuição, por conta do maior valor de seus coeficientes."
   ]
  },
  {
   "cell_type": "markdown",
   "metadata": {},
   "source": [
    "Por sua vez, as variáveis *age* e *lcp* possuem contribuição negativa sobre a variável resposta *lpsa*, pois, por terem o valor do coeficiente associado a elas negativo, um aumento no valores dessas covariáveis provoca uma redução no valor da resposta."
   ]
  },
  {
   "cell_type": "markdown",
   "metadata": {},
   "source": [
    "O modelo de regressão linear ajustado obteve o valor R-quadrado de 0.64, indicando que 64% da variabilidade da variável resposta está sendo explicada pelo modelo linear ajustado. Já o valor do erro quadrático médio, que deve sempre ser minimizado, para o modelo construído, foi obtido o valor de 0.6."
   ]
  },
  {
   "cell_type": "markdown",
   "metadata": {},
   "source": [
    "### Problema 2"
   ]
  },
  {
   "cell_type": "code",
   "execution_count": 8,
   "metadata": {},
   "outputs": [
    {
     "data": {
      "text/html": [
       "<div>\n",
       "<style scoped>\n",
       "    .dataframe tbody tr th:only-of-type {\n",
       "        vertical-align: middle;\n",
       "    }\n",
       "\n",
       "    .dataframe tbody tr th {\n",
       "        vertical-align: top;\n",
       "    }\n",
       "\n",
       "    .dataframe thead th {\n",
       "        text-align: right;\n",
       "    }\n",
       "</style>\n",
       "<table border=\"1\" class=\"dataframe\">\n",
       "  <thead>\n",
       "    <tr style=\"text-align: right;\">\n",
       "      <th></th>\n",
       "      <th>x1</th>\n",
       "      <th>x2</th>\n",
       "      <th>x3</th>\n",
       "      <th>x4</th>\n",
       "      <th>x5</th>\n",
       "      <th>x6</th>\n",
       "      <th>x7</th>\n",
       "      <th>x8</th>\n",
       "      <th>x9</th>\n",
       "      <th>x10</th>\n",
       "      <th>...</th>\n",
       "      <th>x43</th>\n",
       "      <th>x44</th>\n",
       "      <th>x45</th>\n",
       "      <th>x46</th>\n",
       "      <th>x47</th>\n",
       "      <th>x48</th>\n",
       "      <th>x49</th>\n",
       "      <th>x50</th>\n",
       "      <th>x51</th>\n",
       "      <th>y</th>\n",
       "    </tr>\n",
       "  </thead>\n",
       "  <tbody>\n",
       "    <tr>\n",
       "      <th>0</th>\n",
       "      <td>1</td>\n",
       "      <td>0</td>\n",
       "      <td>0</td>\n",
       "      <td>0.000000</td>\n",
       "      <td>1</td>\n",
       "      <td>0.178571</td>\n",
       "      <td>0</td>\n",
       "      <td>1</td>\n",
       "      <td>0</td>\n",
       "      <td>0</td>\n",
       "      <td>...</td>\n",
       "      <td>0</td>\n",
       "      <td>0.000000</td>\n",
       "      <td>0</td>\n",
       "      <td>1</td>\n",
       "      <td>0</td>\n",
       "      <td>0</td>\n",
       "      <td>0.000</td>\n",
       "      <td>0</td>\n",
       "      <td>0.000000</td>\n",
       "      <td>1</td>\n",
       "    </tr>\n",
       "    <tr>\n",
       "      <th>1</th>\n",
       "      <td>0</td>\n",
       "      <td>1</td>\n",
       "      <td>0</td>\n",
       "      <td>0.110226</td>\n",
       "      <td>0</td>\n",
       "      <td>0.178571</td>\n",
       "      <td>0</td>\n",
       "      <td>1</td>\n",
       "      <td>0</td>\n",
       "      <td>0</td>\n",
       "      <td>...</td>\n",
       "      <td>0</td>\n",
       "      <td>0.000000</td>\n",
       "      <td>0</td>\n",
       "      <td>1</td>\n",
       "      <td>0</td>\n",
       "      <td>0</td>\n",
       "      <td>0.000</td>\n",
       "      <td>0</td>\n",
       "      <td>0.000000</td>\n",
       "      <td>1</td>\n",
       "    </tr>\n",
       "    <tr>\n",
       "      <th>2</th>\n",
       "      <td>1</td>\n",
       "      <td>0</td>\n",
       "      <td>0</td>\n",
       "      <td>0.223008</td>\n",
       "      <td>0</td>\n",
       "      <td>0.129464</td>\n",
       "      <td>1</td>\n",
       "      <td>0</td>\n",
       "      <td>0</td>\n",
       "      <td>0</td>\n",
       "      <td>...</td>\n",
       "      <td>0</td>\n",
       "      <td>0.000000</td>\n",
       "      <td>1</td>\n",
       "      <td>1</td>\n",
       "      <td>0</td>\n",
       "      <td>0</td>\n",
       "      <td>0.050</td>\n",
       "      <td>0</td>\n",
       "      <td>0.000000</td>\n",
       "      <td>1</td>\n",
       "    </tr>\n",
       "    <tr>\n",
       "      <th>3</th>\n",
       "      <td>1</td>\n",
       "      <td>0</td>\n",
       "      <td>0</td>\n",
       "      <td>0.078947</td>\n",
       "      <td>0</td>\n",
       "      <td>0.062500</td>\n",
       "      <td>0</td>\n",
       "      <td>1</td>\n",
       "      <td>0</td>\n",
       "      <td>0</td>\n",
       "      <td>...</td>\n",
       "      <td>0</td>\n",
       "      <td>0.000000</td>\n",
       "      <td>1</td>\n",
       "      <td>1</td>\n",
       "      <td>0</td>\n",
       "      <td>0</td>\n",
       "      <td>0.056</td>\n",
       "      <td>0</td>\n",
       "      <td>0.169210</td>\n",
       "      <td>1</td>\n",
       "    </tr>\n",
       "    <tr>\n",
       "      <th>4</th>\n",
       "      <td>0</td>\n",
       "      <td>1</td>\n",
       "      <td>0</td>\n",
       "      <td>0.530075</td>\n",
       "      <td>0</td>\n",
       "      <td>0.053571</td>\n",
       "      <td>1</td>\n",
       "      <td>0</td>\n",
       "      <td>0</td>\n",
       "      <td>0</td>\n",
       "      <td>...</td>\n",
       "      <td>0</td>\n",
       "      <td>0.000000</td>\n",
       "      <td>1</td>\n",
       "      <td>1</td>\n",
       "      <td>0</td>\n",
       "      <td>0</td>\n",
       "      <td>0.050</td>\n",
       "      <td>0</td>\n",
       "      <td>0.289757</td>\n",
       "      <td>1</td>\n",
       "    </tr>\n",
       "    <tr>\n",
       "      <th>...</th>\n",
       "      <td>...</td>\n",
       "      <td>...</td>\n",
       "      <td>...</td>\n",
       "      <td>...</td>\n",
       "      <td>...</td>\n",
       "      <td>...</td>\n",
       "      <td>...</td>\n",
       "      <td>...</td>\n",
       "      <td>...</td>\n",
       "      <td>...</td>\n",
       "      <td>...</td>\n",
       "      <td>...</td>\n",
       "      <td>...</td>\n",
       "      <td>...</td>\n",
       "      <td>...</td>\n",
       "      <td>...</td>\n",
       "      <td>...</td>\n",
       "      <td>...</td>\n",
       "      <td>...</td>\n",
       "      <td>...</td>\n",
       "      <td>...</td>\n",
       "    </tr>\n",
       "    <tr>\n",
       "      <th>685</th>\n",
       "      <td>1</td>\n",
       "      <td>0</td>\n",
       "      <td>0</td>\n",
       "      <td>0.139098</td>\n",
       "      <td>0</td>\n",
       "      <td>0.026786</td>\n",
       "      <td>1</td>\n",
       "      <td>0</td>\n",
       "      <td>0</td>\n",
       "      <td>0</td>\n",
       "      <td>...</td>\n",
       "      <td>0</td>\n",
       "      <td>0.000000</td>\n",
       "      <td>1</td>\n",
       "      <td>0</td>\n",
       "      <td>0</td>\n",
       "      <td>1</td>\n",
       "      <td>0.160</td>\n",
       "      <td>0</td>\n",
       "      <td>0.000000</td>\n",
       "      <td>1</td>\n",
       "    </tr>\n",
       "    <tr>\n",
       "      <th>686</th>\n",
       "      <td>1</td>\n",
       "      <td>0</td>\n",
       "      <td>0</td>\n",
       "      <td>0.233083</td>\n",
       "      <td>0</td>\n",
       "      <td>0.528214</td>\n",
       "      <td>1</td>\n",
       "      <td>0</td>\n",
       "      <td>0</td>\n",
       "      <td>0</td>\n",
       "      <td>...</td>\n",
       "      <td>1</td>\n",
       "      <td>0.074627</td>\n",
       "      <td>1</td>\n",
       "      <td>1</td>\n",
       "      <td>0</td>\n",
       "      <td>0</td>\n",
       "      <td>0.084</td>\n",
       "      <td>0</td>\n",
       "      <td>0.000000</td>\n",
       "      <td>0</td>\n",
       "    </tr>\n",
       "    <tr>\n",
       "      <th>687</th>\n",
       "      <td>1</td>\n",
       "      <td>0</td>\n",
       "      <td>0</td>\n",
       "      <td>0.260602</td>\n",
       "      <td>0</td>\n",
       "      <td>0.053571</td>\n",
       "      <td>0</td>\n",
       "      <td>1</td>\n",
       "      <td>0</td>\n",
       "      <td>0</td>\n",
       "      <td>...</td>\n",
       "      <td>0</td>\n",
       "      <td>0.000000</td>\n",
       "      <td>0</td>\n",
       "      <td>0</td>\n",
       "      <td>0</td>\n",
       "      <td>1</td>\n",
       "      <td>0.080</td>\n",
       "      <td>0</td>\n",
       "      <td>0.000000</td>\n",
       "      <td>1</td>\n",
       "    </tr>\n",
       "    <tr>\n",
       "      <th>688</th>\n",
       "      <td>1</td>\n",
       "      <td>0</td>\n",
       "      <td>0</td>\n",
       "      <td>0.357143</td>\n",
       "      <td>0</td>\n",
       "      <td>0.029821</td>\n",
       "      <td>1</td>\n",
       "      <td>0</td>\n",
       "      <td>0</td>\n",
       "      <td>0</td>\n",
       "      <td>...</td>\n",
       "      <td>0</td>\n",
       "      <td>0.000000</td>\n",
       "      <td>0</td>\n",
       "      <td>1</td>\n",
       "      <td>0</td>\n",
       "      <td>0</td>\n",
       "      <td>0.060</td>\n",
       "      <td>0</td>\n",
       "      <td>0.155805</td>\n",
       "      <td>1</td>\n",
       "    </tr>\n",
       "    <tr>\n",
       "      <th>689</th>\n",
       "      <td>1</td>\n",
       "      <td>0</td>\n",
       "      <td>0</td>\n",
       "      <td>0.033835</td>\n",
       "      <td>0</td>\n",
       "      <td>0.111607</td>\n",
       "      <td>1</td>\n",
       "      <td>0</td>\n",
       "      <td>0</td>\n",
       "      <td>0</td>\n",
       "      <td>...</td>\n",
       "      <td>1</td>\n",
       "      <td>0.014925</td>\n",
       "      <td>0</td>\n",
       "      <td>1</td>\n",
       "      <td>0</td>\n",
       "      <td>0</td>\n",
       "      <td>0.000</td>\n",
       "      <td>0</td>\n",
       "      <td>0.169210</td>\n",
       "      <td>1</td>\n",
       "    </tr>\n",
       "  </tbody>\n",
       "</table>\n",
       "<p>690 rows × 52 columns</p>\n",
       "</div>"
      ],
      "text/plain": [
       "     x1  x2  x3        x4  x5        x6  x7  x8  x9  x10  ...  x43       x44  \\\n",
       "0     1   0   0  0.000000   1  0.178571   0   1   0    0  ...    0  0.000000   \n",
       "1     0   1   0  0.110226   0  0.178571   0   1   0    0  ...    0  0.000000   \n",
       "2     1   0   0  0.223008   0  0.129464   1   0   0    0  ...    0  0.000000   \n",
       "3     1   0   0  0.078947   0  0.062500   0   1   0    0  ...    0  0.000000   \n",
       "4     0   1   0  0.530075   0  0.053571   1   0   0    0  ...    0  0.000000   \n",
       "..   ..  ..  ..       ...  ..       ...  ..  ..  ..  ...  ...  ...       ...   \n",
       "685   1   0   0  0.139098   0  0.026786   1   0   0    0  ...    0  0.000000   \n",
       "686   1   0   0  0.233083   0  0.528214   1   0   0    0  ...    1  0.074627   \n",
       "687   1   0   0  0.260602   0  0.053571   0   1   0    0  ...    0  0.000000   \n",
       "688   1   0   0  0.357143   0  0.029821   1   0   0    0  ...    0  0.000000   \n",
       "689   1   0   0  0.033835   0  0.111607   1   0   0    0  ...    1  0.014925   \n",
       "\n",
       "     x45  x46  x47  x48    x49  x50       x51  y  \n",
       "0      0    1    0    0  0.000    0  0.000000  1  \n",
       "1      0    1    0    0  0.000    0  0.000000  1  \n",
       "2      1    1    0    0  0.050    0  0.000000  1  \n",
       "3      1    1    0    0  0.056    0  0.169210  1  \n",
       "4      1    1    0    0  0.050    0  0.289757  1  \n",
       "..   ...  ...  ...  ...    ...  ...       ... ..  \n",
       "685    1    0    0    1  0.160    0  0.000000  1  \n",
       "686    1    1    0    0  0.084    0  0.000000  0  \n",
       "687    0    0    0    1  0.080    0  0.000000  1  \n",
       "688    0    1    0    0  0.060    0  0.155805  1  \n",
       "689    0    1    0    0  0.000    0  0.169210  1  \n",
       "\n",
       "[690 rows x 52 columns]"
      ]
     },
     "execution_count": 8,
     "metadata": {},
     "output_type": "execute_result"
    }
   ],
   "source": [
    "card_data = pd.read_csv('data/card.csv', sep=\",\")\n",
    "card_data"
   ]
  },
  {
   "cell_type": "markdown",
   "metadata": {},
   "source": [
    "Visualização da variável resposta"
   ]
  },
  {
   "cell_type": "code",
   "execution_count": 9,
   "metadata": {},
   "outputs": [
    {
     "data": {
      "text/plain": [
       "Text(0.5, 0.98, 'Distribuição dos dados da variável resposta (y)')"
      ]
     },
     "execution_count": 9,
     "metadata": {},
     "output_type": "execute_result"
    },
    {
     "data": {
      "image/png": "[encoded data removed]",
      "text/plain": [
       "<Figure size 360x432 with 1 Axes>"
      ]
     },
     "metadata": {
      "needs_background": "light"
     },
     "output_type": "display_data"
    }
   ],
   "source": [
    "%matplotlib inline\n",
    "\n",
    "\n",
    "unique, counts = np.unique(card_data[\"y\"], return_counts = True)\n",
    "unique = ''.join(str(e) for e in unique)\n",
    "plot_data = dict(zip(unique, counts))\n",
    "\n",
    "names = list(plot_data.keys())\n",
    "values = list(plot_data.values())\n",
    "\n",
    "fig, axs = plt.subplots(1, 1, figsize = (5, 6))\n",
    "axs.bar(names, values)\n",
    "fig.suptitle('Distribuição dos dados da variável resposta (y)')"
   ]
  },
  {
   "cell_type": "markdown",
   "metadata": {},
   "source": [
    "Por meio do gráfico acima, é possível notar que a variável resposta, que é categórica, possui apenas 2 níveis, sendo eles 0 ou 1. Além disso, as duas categorias possuem frequências próximas, indicando que os dados estão, de certa forma, balanceados de acordo com a variável resposta. Nesse problema serão ajustados 3 modelos diferentes para avaliação das métricas, são eles: KNN (k=5), Naive Bayes e Regressão Logística."
   ]
  },
  {
   "cell_type": "markdown",
   "metadata": {},
   "source": [
    "Separação entre *features* e *target*"
   ]
  },
  {
   "cell_type": "code",
   "execution_count": 10,
   "metadata": {},
   "outputs": [],
   "source": [
    "features_card = card_data.drop(columns = {\"y\"})\n",
    "target_card = card_data[\"y\"]"
   ]
  },
  {
   "cell_type": "markdown",
   "metadata": {},
   "source": [
    "Padronização das *features*"
   ]
  },
  {
   "cell_type": "code",
   "execution_count": 11,
   "metadata": {},
   "outputs": [],
   "source": [
    "scaler = StandardScaler()\n",
    "features_card_scaled = scaler.fit_transform(features_card)"
   ]
  },
  {
   "cell_type": "markdown",
   "metadata": {},
   "source": [
    "Aplicando o método 5-vizinhos mais próximos"
   ]
  },
  {
   "cell_type": "code",
   "execution_count": 12,
   "metadata": {},
   "outputs": [
    {
     "name": "stdout",
     "output_type": "stream",
     "text": [
      "Dados normalizados:\n",
      "\n",
      "\n",
      "Acurácia:  [0.79710145 0.79710145 0.76811594 0.73913043 0.82608696 0.86956522\n",
      " 0.79710145 0.82608696 0.79710145 0.7826087 ] Média:  0.8\n",
      "\n",
      "\n",
      "Recall:  [0.94871795 0.84615385 0.8974359  0.78947368 0.86842105 0.86842105\n",
      " 0.86842105 0.89473684 0.84210526 0.84210526] Média:  0.8665991902834008\n",
      "\n",
      "\n",
      "Precison:  [0.75510204 0.80487805 0.74468085 0.75       0.825      0.89189189\n",
      " 0.78571429 0.80952381 0.8        0.7804878 ] Média:  0.794727873266868\n",
      "\n",
      "\n",
      "f1:  [0.84090909 0.825      0.81395349 0.76923077 0.84615385 0.88\n",
      " 0.825      0.85       0.82051282 0.81012658] Média:  0.8280886597457101\n",
      "\n",
      "\n",
      "Dados originais:\n",
      "\n",
      "\n",
      "Acurácia:  [0.76811594 0.82608696 0.8115942  0.82608696 0.92753623 0.91304348\n",
      " 0.85507246 0.85507246 0.7826087  0.85507246] Média:  0.8420289855072463\n",
      "\n",
      "\n",
      "Recall:  [0.84615385 0.84615385 0.84615385 0.84210526 0.92105263 0.86842105\n",
      " 0.92105263 0.94736842 0.78947368 0.89473684] Média:  0.8722672064777328\n",
      "\n",
      "\n",
      "Precison:  [0.76744186 0.84615385 0.825      0.84210526 0.94594595 0.97058824\n",
      " 0.83333333 0.81818182 0.81081081 0.85      ] Média:  0.8509561113342883\n",
      "\n",
      "\n",
      "f1:  [0.80487805 0.84615385 0.83544304 0.84210526 0.93333333 0.91666667\n",
      " 0.875      0.87804878 0.8        0.87179487] Média:  0.860342384834959\n"
     ]
    }
   ],
   "source": [
    "neigh_card = KNeighborsClassifier(n_neighbors=5)\n",
    "neigh_card.fit(features_card_scaled, target_card);\n",
    "\n",
    "# Validação cruzada com método 10-fold\n",
    "print(\"Dados normalizados:\")\n",
    "score = cross_val_score(neigh_card, features_card_scaled, target_card, cv = 10, scoring = \"accuracy\")\n",
    "print(\"\\n\")\n",
    "print(\"Acurácia: \", score, \"Média: \", np.mean(score))\n",
    "score = cross_val_score(neigh_card, features_card_scaled, target_card, cv = 10, scoring = \"recall\")\n",
    "print(\"\\n\")\n",
    "print(\"Recall: \", score, \"Média: \", np.mean(score))\n",
    "score = cross_val_score(neigh_card, features_card_scaled, target_card, cv = 10, scoring = \"precision\")\n",
    "print(\"\\n\")\n",
    "print(\"Precison: \", score, \"Média: \", np.mean(score))\n",
    "score = cross_val_score(neigh_card, features_card_scaled, target_card, cv = 10, scoring = \"f1\")\n",
    "print(\"\\n\")\n",
    "print(\"f1: \", score, \"Média: \", np.mean(score))\n",
    "\n",
    "print(\"\\n\")\n",
    "print(\"Dados originais:\")\n",
    "score = cross_val_score(neigh_card, features_card, target_card, cv = 10, scoring = \"accuracy\")\n",
    "print(\"\\n\")\n",
    "print(\"Acurácia: \", score, \"Média: \", np.mean(score))\n",
    "score = cross_val_score(neigh_card, features_card, target_card, cv = 10, scoring = \"recall\")\n",
    "print(\"\\n\")\n",
    "print(\"Recall: \", score, \"Média: \", np.mean(score))\n",
    "score = cross_val_score(neigh_card, features_card, target_card, cv = 10, scoring = \"precision\")\n",
    "print(\"\\n\")\n",
    "print(\"Precison: \", score, \"Média: \", np.mean(score))\n",
    "score = cross_val_score(neigh_card, features_card, target_card, cv = 10, scoring = \"f1\")\n",
    "print(\"\\n\")\n",
    "print(\"f1: \", score, \"Média: \", np.mean(score))"
   ]
  },
  {
   "cell_type": "markdown",
   "metadata": {},
   "source": [
    "Ao ajustar o modelo de 5 vizinhos mais próximos nos dados padronizados e nos dados originais, observou-se melhor resultado no modelo em que foi utilizado os dados originais. Considerando o modelo com os dados originais, foram obtidas as seguintes métricas de avaliação do modelo:\n",
    "\n",
    "* acurácia média de 0.84;\n",
    "* sensibilidade média de 0.87\n",
    "* precisão média de 0.85\n",
    "* f1 médio de 0.86"
   ]
  },
  {
   "cell_type": "markdown",
   "metadata": {},
   "source": [
    "Aplicando o método Naive Bayes"
   ]
  },
  {
   "cell_type": "code",
   "execution_count": 13,
   "metadata": {},
   "outputs": [
    {
     "name": "stdout",
     "output_type": "stream",
     "text": [
      "Acurácia:  [0.66666667 0.73913043 0.69565217 0.66666667 0.65217391 0.69565217\n",
      " 0.73913043 0.68115942 0.68115942 0.65217391] Média:  0.6869565217391305\n",
      "Recall:  [0.97435897 1.         1.         0.86842105 0.97368421 0.94736842\n",
      " 1.         0.89473684 0.94736842 0.97368421] Média:  0.9579622132253711\n",
      "Precison:  [0.63333333 0.68421053 0.65       0.64705882 0.61666667 0.65454545\n",
      " 0.67857143 0.65384615 0.64285714 0.61666667] Média:  0.6477756196332048\n",
      "f1:  [0.76767677 0.8125     0.78787879 0.74157303 0.75510204 0.77419355\n",
      " 0.80851064 0.75555556 0.76595745 0.75510204] Média:  0.7724049859945109\n"
     ]
    }
   ],
   "source": [
    "gaussian_nb_card = GaussianNB()\n",
    "gaussian_nb_card.fit(features_card, target_card);\n",
    "\n",
    "# Validação cruzada com método 10-fold\n",
    "score = cross_val_score(gaussian_nb_card, features_card, target_card, cv = 10, scoring = \"accuracy\")\n",
    "print(\"Acurácia: \", score, \"Média: \", np.mean(score))\n",
    "score = cross_val_score(gaussian_nb_card, features_card, target_card, cv = 10, scoring = \"recall\")\n",
    "print(\"Recall: \", score, \"Média: \", np.mean(score))\n",
    "score = cross_val_score(gaussian_nb_card, features_card, target_card, cv = 10, scoring = \"precision\")\n",
    "print(\"Precison: \", score, \"Média: \", np.mean(score))\n",
    "score = cross_val_score(gaussian_nb_card, features_card, target_card, cv = 10, scoring = \"f1\")\n",
    "print(\"f1: \", score, \"Média: \", np.mean(score))"
   ]
  },
  {
   "cell_type": "markdown",
   "metadata": {},
   "source": [
    "Ao ajustar o modelo naive bayes nos dados originais, foram obtidas as seguintes métricas de avaliação do modelo:\n",
    "\n",
    "* acurácia média de 0.69;\n",
    "* sensibilidade média de 0.96\n",
    "* precisão média de 0.64 \n",
    "* f1 médio de 0.77"
   ]
  },
  {
   "cell_type": "markdown",
   "metadata": {},
   "source": [
    "Comparando os resultados do modelo KNN e Naive Bayes, observou-se que o primeiro possui métricas de avaliação melhores, por possuir valores maiores dessas medidas, exceto quando se trata da sensibilidade. Nesse caso, como o modelo naive bayes possui alta sensibilidade ele é bom para identificar instâncias positiva quanto a concessão quando ela é realmente positiva. No entanto, nesse caso a precisão do modelo não é tão boa, indicando que ao classificar uma instância como positiva existe uma proporção considerável delas que na realidade é negativa."
   ]
  },
  {
   "cell_type": "markdown",
   "metadata": {},
   "source": [
    "Aplicando o método de Regressão Logística"
   ]
  },
  {
   "cell_type": "code",
   "execution_count": 14,
   "metadata": {},
   "outputs": [
    {
     "name": "stdout",
     "output_type": "stream",
     "text": [
      "Acurácia:  [0.76811594 0.86956522 0.85507246 0.79710145 0.86956522 0.91304348\n",
      " 0.88405797 0.86956522 0.85507246 0.88405797] Média:  0.8565217391304347\n",
      "Recall:  [0.79487179 0.87179487 0.8974359  0.73684211 0.81578947 0.86842105\n",
      " 0.86842105 0.92105263 0.78947368 0.89473684] Média:  0.8458839406207828\n",
      "Precison:  [0.79487179 0.89473684 0.85365854 0.875      0.93939394 0.97058824\n",
      " 0.91666667 0.85365854 0.9375     0.89473684] Média:  0.8930811393607778\n",
      "f1:  [0.79487179 0.88311688 0.875      0.8        0.87323944 0.91666667\n",
      " 0.89189189 0.88607595 0.85714286 0.89473684] Média:  0.8672742321782165\n"
     ]
    }
   ],
   "source": [
    "logistic_regression_card = LogisticRegression()\n",
    "logistic_regression_card.fit(features_card_scaled,target_card)\n",
    "\n",
    "score = cross_val_score(logistic_regression_card, features_card_scaled, target_card, cv = 10, scoring = \"accuracy\")\n",
    "print(\"Acurácia: \", score, \"Média: \", np.mean(score))\n",
    "score = cross_val_score(logistic_regression_card, features_card_scaled, target_card, cv = 10, scoring = \"recall\")\n",
    "print(\"Recall: \", score, \"Média: \", np.mean(score))\n",
    "score = cross_val_score(logistic_regression_card, features_card_scaled, target_card, cv = 10, scoring = \"precision\")\n",
    "print(\"Precison: \", score, \"Média: \", np.mean(score))\n",
    "score = cross_val_score(logistic_regression_card, features_card_scaled, target_card, cv = 10, scoring = \"f1\")\n",
    "print(\"f1: \", score, \"Média: \", np.mean(score))"
   ]
  },
  {
   "cell_type": "markdown",
   "metadata": {},
   "source": [
    "Ao ajustar o modelo de regressão logística nos dados originais, foram obtidas seguintes métricas de avaliação do modelo:\n",
    "\n",
    "* acurácia média de 0.86;\n",
    "* sensibilidade média de 0.85\n",
    "* precisão média de 0.90\n",
    "* f1 médio de 0.87"
   ]
  },
  {
   "cell_type": "markdown",
   "metadata": {},
   "source": [
    "Comparando o modelo logístico com os demais, ele possui sensibilidade inferior aos modelos KNN e Naive Bayes, no entanto, para as demais métricas, obteve medidas mais elevadas se comparadas com os demais modelos. Nesse caso, cabe ao banco avaliar qual métrica deve ser maximizada em um modelo para classificação da concessão de crédito. Uma alta sensibilidade indica que o modelo prevê bem instâncias como positiva quanto a concessão quando ela é realmente positiva. No entanto, também é interessante que a precisão do modelo seja alta, para assim evitar prejuízos ao aumentar a proporção de observações verdadeiramente positivas quando elas foram classificadas positivas. Nesse sentido, o modelo de regressão logística parece ser ideal, tendo valores altos para todas métricas de avaliação."
   ]
  },
  {
   "cell_type": "markdown",
   "metadata": {},
   "source": [
    "### Problema 3"
   ]
  },
  {
   "cell_type": "markdown",
   "metadata": {},
   "source": [
    "Importação e visualização do banco de dados"
   ]
  },
  {
   "cell_type": "code",
   "execution_count": 15,
   "metadata": {},
   "outputs": [
    {
     "data": {
      "text/html": [
       "<div>\n",
       "<style scoped>\n",
       "    .dataframe tbody tr th:only-of-type {\n",
       "        vertical-align: middle;\n",
       "    }\n",
       "\n",
       "    .dataframe tbody tr th {\n",
       "        vertical-align: top;\n",
       "    }\n",
       "\n",
       "    .dataframe thead th {\n",
       "        text-align: right;\n",
       "    }\n",
       "</style>\n",
       "<table border=\"1\" class=\"dataframe\">\n",
       "  <thead>\n",
       "    <tr style=\"text-align: right;\">\n",
       "      <th></th>\n",
       "      <th>Inst.Name</th>\n",
       "      <th>Private</th>\n",
       "      <th>Apps</th>\n",
       "      <th>Accept</th>\n",
       "      <th>Enroll</th>\n",
       "      <th>Top10perc</th>\n",
       "      <th>Top25perc</th>\n",
       "      <th>F.Undergrad</th>\n",
       "      <th>P.Undergrad</th>\n",
       "      <th>Outstate</th>\n",
       "      <th>Room.Board</th>\n",
       "      <th>Books</th>\n",
       "      <th>Personal</th>\n",
       "      <th>PhD</th>\n",
       "      <th>Terminal</th>\n",
       "      <th>S.F.Ratio</th>\n",
       "      <th>perc.alumni</th>\n",
       "      <th>Expend</th>\n",
       "      <th>Grad.Rate</th>\n",
       "    </tr>\n",
       "  </thead>\n",
       "  <tbody>\n",
       "    <tr>\n",
       "      <th>0</th>\n",
       "      <td>Abilene Christian University</td>\n",
       "      <td>Yes</td>\n",
       "      <td>1660</td>\n",
       "      <td>1232</td>\n",
       "      <td>721</td>\n",
       "      <td>23</td>\n",
       "      <td>52</td>\n",
       "      <td>2885</td>\n",
       "      <td>537</td>\n",
       "      <td>7440</td>\n",
       "      <td>3300</td>\n",
       "      <td>450</td>\n",
       "      <td>2200</td>\n",
       "      <td>70</td>\n",
       "      <td>78</td>\n",
       "      <td>18.1</td>\n",
       "      <td>12</td>\n",
       "      <td>7041</td>\n",
       "      <td>60</td>\n",
       "    </tr>\n",
       "    <tr>\n",
       "      <th>1</th>\n",
       "      <td>Adelphi University</td>\n",
       "      <td>Yes</td>\n",
       "      <td>2186</td>\n",
       "      <td>1924</td>\n",
       "      <td>512</td>\n",
       "      <td>16</td>\n",
       "      <td>29</td>\n",
       "      <td>2683</td>\n",
       "      <td>1227</td>\n",
       "      <td>12280</td>\n",
       "      <td>6450</td>\n",
       "      <td>750</td>\n",
       "      <td>1500</td>\n",
       "      <td>29</td>\n",
       "      <td>30</td>\n",
       "      <td>12.2</td>\n",
       "      <td>16</td>\n",
       "      <td>10527</td>\n",
       "      <td>56</td>\n",
       "    </tr>\n",
       "    <tr>\n",
       "      <th>2</th>\n",
       "      <td>Adrian College</td>\n",
       "      <td>Yes</td>\n",
       "      <td>1428</td>\n",
       "      <td>1097</td>\n",
       "      <td>336</td>\n",
       "      <td>22</td>\n",
       "      <td>50</td>\n",
       "      <td>1036</td>\n",
       "      <td>99</td>\n",
       "      <td>11250</td>\n",
       "      <td>3750</td>\n",
       "      <td>400</td>\n",
       "      <td>1165</td>\n",
       "      <td>53</td>\n",
       "      <td>66</td>\n",
       "      <td>12.9</td>\n",
       "      <td>30</td>\n",
       "      <td>8735</td>\n",
       "      <td>54</td>\n",
       "    </tr>\n",
       "    <tr>\n",
       "      <th>3</th>\n",
       "      <td>Agnes Scott College</td>\n",
       "      <td>Yes</td>\n",
       "      <td>417</td>\n",
       "      <td>349</td>\n",
       "      <td>137</td>\n",
       "      <td>60</td>\n",
       "      <td>89</td>\n",
       "      <td>510</td>\n",
       "      <td>63</td>\n",
       "      <td>12960</td>\n",
       "      <td>5450</td>\n",
       "      <td>450</td>\n",
       "      <td>875</td>\n",
       "      <td>92</td>\n",
       "      <td>97</td>\n",
       "      <td>7.7</td>\n",
       "      <td>37</td>\n",
       "      <td>19016</td>\n",
       "      <td>59</td>\n",
       "    </tr>\n",
       "    <tr>\n",
       "      <th>4</th>\n",
       "      <td>Alaska Pacific University</td>\n",
       "      <td>Yes</td>\n",
       "      <td>193</td>\n",
       "      <td>146</td>\n",
       "      <td>55</td>\n",
       "      <td>16</td>\n",
       "      <td>44</td>\n",
       "      <td>249</td>\n",
       "      <td>869</td>\n",
       "      <td>7560</td>\n",
       "      <td>4120</td>\n",
       "      <td>800</td>\n",
       "      <td>1500</td>\n",
       "      <td>76</td>\n",
       "      <td>72</td>\n",
       "      <td>11.9</td>\n",
       "      <td>2</td>\n",
       "      <td>10922</td>\n",
       "      <td>15</td>\n",
       "    </tr>\n",
       "    <tr>\n",
       "      <th>...</th>\n",
       "      <td>...</td>\n",
       "      <td>...</td>\n",
       "      <td>...</td>\n",
       "      <td>...</td>\n",
       "      <td>...</td>\n",
       "      <td>...</td>\n",
       "      <td>...</td>\n",
       "      <td>...</td>\n",
       "      <td>...</td>\n",
       "      <td>...</td>\n",
       "      <td>...</td>\n",
       "      <td>...</td>\n",
       "      <td>...</td>\n",
       "      <td>...</td>\n",
       "      <td>...</td>\n",
       "      <td>...</td>\n",
       "      <td>...</td>\n",
       "      <td>...</td>\n",
       "      <td>...</td>\n",
       "    </tr>\n",
       "    <tr>\n",
       "      <th>772</th>\n",
       "      <td>Worcester State College</td>\n",
       "      <td>No</td>\n",
       "      <td>2197</td>\n",
       "      <td>1515</td>\n",
       "      <td>543</td>\n",
       "      <td>4</td>\n",
       "      <td>26</td>\n",
       "      <td>3089</td>\n",
       "      <td>2029</td>\n",
       "      <td>6797</td>\n",
       "      <td>3900</td>\n",
       "      <td>500</td>\n",
       "      <td>1200</td>\n",
       "      <td>60</td>\n",
       "      <td>60</td>\n",
       "      <td>21.0</td>\n",
       "      <td>14</td>\n",
       "      <td>4469</td>\n",
       "      <td>40</td>\n",
       "    </tr>\n",
       "    <tr>\n",
       "      <th>773</th>\n",
       "      <td>Xavier University</td>\n",
       "      <td>Yes</td>\n",
       "      <td>1959</td>\n",
       "      <td>1805</td>\n",
       "      <td>695</td>\n",
       "      <td>24</td>\n",
       "      <td>47</td>\n",
       "      <td>2849</td>\n",
       "      <td>1107</td>\n",
       "      <td>11520</td>\n",
       "      <td>4960</td>\n",
       "      <td>600</td>\n",
       "      <td>1250</td>\n",
       "      <td>73</td>\n",
       "      <td>75</td>\n",
       "      <td>13.3</td>\n",
       "      <td>31</td>\n",
       "      <td>9189</td>\n",
       "      <td>83</td>\n",
       "    </tr>\n",
       "    <tr>\n",
       "      <th>774</th>\n",
       "      <td>Xavier University of Louisiana</td>\n",
       "      <td>Yes</td>\n",
       "      <td>2097</td>\n",
       "      <td>1915</td>\n",
       "      <td>695</td>\n",
       "      <td>34</td>\n",
       "      <td>61</td>\n",
       "      <td>2793</td>\n",
       "      <td>166</td>\n",
       "      <td>6900</td>\n",
       "      <td>4200</td>\n",
       "      <td>617</td>\n",
       "      <td>781</td>\n",
       "      <td>67</td>\n",
       "      <td>75</td>\n",
       "      <td>14.4</td>\n",
       "      <td>20</td>\n",
       "      <td>8323</td>\n",
       "      <td>49</td>\n",
       "    </tr>\n",
       "    <tr>\n",
       "      <th>775</th>\n",
       "      <td>Yale University</td>\n",
       "      <td>Yes</td>\n",
       "      <td>10705</td>\n",
       "      <td>2453</td>\n",
       "      <td>1317</td>\n",
       "      <td>95</td>\n",
       "      <td>99</td>\n",
       "      <td>5217</td>\n",
       "      <td>83</td>\n",
       "      <td>19840</td>\n",
       "      <td>6510</td>\n",
       "      <td>630</td>\n",
       "      <td>2115</td>\n",
       "      <td>96</td>\n",
       "      <td>96</td>\n",
       "      <td>5.8</td>\n",
       "      <td>49</td>\n",
       "      <td>40386</td>\n",
       "      <td>99</td>\n",
       "    </tr>\n",
       "    <tr>\n",
       "      <th>776</th>\n",
       "      <td>York College of Pennsylvania</td>\n",
       "      <td>Yes</td>\n",
       "      <td>2989</td>\n",
       "      <td>1855</td>\n",
       "      <td>691</td>\n",
       "      <td>28</td>\n",
       "      <td>63</td>\n",
       "      <td>2988</td>\n",
       "      <td>1726</td>\n",
       "      <td>4990</td>\n",
       "      <td>3560</td>\n",
       "      <td>500</td>\n",
       "      <td>1250</td>\n",
       "      <td>75</td>\n",
       "      <td>75</td>\n",
       "      <td>18.1</td>\n",
       "      <td>28</td>\n",
       "      <td>4509</td>\n",
       "      <td>99</td>\n",
       "    </tr>\n",
       "  </tbody>\n",
       "</table>\n",
       "<p>777 rows × 19 columns</p>\n",
       "</div>"
      ],
      "text/plain": [
       "                          Inst.Name Private   Apps  Accept  Enroll  Top10perc  \\\n",
       "0      Abilene Christian University     Yes   1660    1232     721         23   \n",
       "1                Adelphi University     Yes   2186    1924     512         16   \n",
       "2                    Adrian College     Yes   1428    1097     336         22   \n",
       "3               Agnes Scott College     Yes    417     349     137         60   \n",
       "4         Alaska Pacific University     Yes    193     146      55         16   \n",
       "..                              ...     ...    ...     ...     ...        ...   \n",
       "772         Worcester State College      No   2197    1515     543          4   \n",
       "773               Xavier University     Yes   1959    1805     695         24   \n",
       "774  Xavier University of Louisiana     Yes   2097    1915     695         34   \n",
       "775                 Yale University     Yes  10705    2453    1317         95   \n",
       "776    York College of Pennsylvania     Yes   2989    1855     691         28   \n",
       "\n",
       "     Top25perc  F.Undergrad  P.Undergrad  Outstate  Room.Board  Books  \\\n",
       "0           52         2885          537      7440        3300    450   \n",
       "1           29         2683         1227     12280        6450    750   \n",
       "2           50         1036           99     11250        3750    400   \n",
       "3           89          510           63     12960        5450    450   \n",
       "4           44          249          869      7560        4120    800   \n",
       "..         ...          ...          ...       ...         ...    ...   \n",
       "772         26         3089         2029      6797        3900    500   \n",
       "773         47         2849         1107     11520        4960    600   \n",
       "774         61         2793          166      6900        4200    617   \n",
       "775         99         5217           83     19840        6510    630   \n",
       "776         63         2988         1726      4990        3560    500   \n",
       "\n",
       "     Personal  PhD  Terminal  S.F.Ratio  perc.alumni  Expend  Grad.Rate  \n",
       "0        2200   70        78       18.1           12    7041         60  \n",
       "1        1500   29        30       12.2           16   10527         56  \n",
       "2        1165   53        66       12.9           30    8735         54  \n",
       "3         875   92        97        7.7           37   19016         59  \n",
       "4        1500   76        72       11.9            2   10922         15  \n",
       "..        ...  ...       ...        ...          ...     ...        ...  \n",
       "772      1200   60        60       21.0           14    4469         40  \n",
       "773      1250   73        75       13.3           31    9189         83  \n",
       "774       781   67        75       14.4           20    8323         49  \n",
       "775      2115   96        96        5.8           49   40386         99  \n",
       "776      1250   75        75       18.1           28    4509         99  \n",
       "\n",
       "[777 rows x 19 columns]"
      ]
     },
     "execution_count": 15,
     "metadata": {},
     "output_type": "execute_result"
    }
   ],
   "source": [
    "college_data = pd.read_csv(\"data/College.csv\")\n",
    "college_data"
   ]
  },
  {
   "cell_type": "markdown",
   "metadata": {},
   "source": [
    "Foi feita a troca da variável *Top10perc* pela variável *Elite*, sendo esta uma variável que assume o valor 0 para valores da variável *Top10perc* no intervalo (-1, 50] e 1 para valores no intervalo (50, 101]."
   ]
  },
  {
   "cell_type": "code",
   "execution_count": 16,
   "metadata": {},
   "outputs": [],
   "source": [
    "college_data[\"Elite\"] = pd.cut(college_data[\"Top10perc\"], bins = (-1,50,101), labels = False)\n",
    "college_data = college_data.drop(columns = {\"Top10perc\"})"
   ]
  },
  {
   "cell_type": "markdown",
   "metadata": {},
   "source": [
    "Foi feita a troca da variável Private para valores inteiros (Yes = 1; No = 0)."
   ]
  },
  {
   "cell_type": "code",
   "execution_count": 17,
   "metadata": {},
   "outputs": [],
   "source": [
    "college_data[\"Private\"] = np.where(college_data[\"Private\"] == 'Yes', 1, 0)"
   ]
  },
  {
   "cell_type": "markdown",
   "metadata": {},
   "source": [
    "Visualização da variável resposta"
   ]
  },
  {
   "cell_type": "code",
   "execution_count": 18,
   "metadata": {},
   "outputs": [
    {
     "data": {
      "text/plain": [
       "Text(0.5, 0.98, 'Distribuição dos dados da variável resposta (Elite)')"
      ]
     },
     "execution_count": 18,
     "metadata": {},
     "output_type": "execute_result"
    },
    {
     "data": {
      "image/png": "[encoded data removed]",
      "text/plain": [
       "<Figure size 360x432 with 1 Axes>"
      ]
     },
     "metadata": {
      "needs_background": "light"
     },
     "output_type": "display_data"
    }
   ],
   "source": [
    "%matplotlib inline\n",
    "\n",
    "\n",
    "unique, counts = np.unique(college_data[\"Elite\"], return_counts = True)\n",
    "unique = ''.join(str(e) for e in unique)\n",
    "plot_data = dict(zip(unique, counts))\n",
    "\n",
    "names = list(plot_data.keys())\n",
    "values = list(plot_data.values())\n",
    "\n",
    "fig, axs = plt.subplots(1, 1, figsize = (5, 6))\n",
    "axs.bar(names, values)\n",
    "fig.suptitle('Distribuição dos dados da variável resposta (Elite)')"
   ]
  },
  {
   "cell_type": "markdown",
   "metadata": {},
   "source": [
    "Com o gráfico acima podemos perceber como a variável resposta apresenta classes (0, 1) com frequência nos dados desbalanceada. Isso deve ser observado nos modelos feitos a seguir."
   ]
  },
  {
   "cell_type": "markdown",
   "metadata": {},
   "source": [
    "Separação entre *features* e *target*"
   ]
  },
  {
   "cell_type": "code",
   "execution_count": 19,
   "metadata": {},
   "outputs": [],
   "source": [
    "features_college = college_data.drop(columns = {\"Inst.Name\", \"Elite\"})\n",
    "target_college = college_data[\"Elite\"]"
   ]
  },
  {
   "cell_type": "markdown",
   "metadata": {},
   "source": [
    "Foi feita a padronização das *features*"
   ]
  },
  {
   "cell_type": "code",
   "execution_count": 20,
   "metadata": {},
   "outputs": [],
   "source": [
    "scaler = StandardScaler()\n",
    "features_college_scaled = scaler.fit_transform(features_college)"
   ]
  },
  {
   "cell_type": "markdown",
   "metadata": {},
   "source": [
    "Aplicamos o método K-vizinhos"
   ]
  },
  {
   "cell_type": "code",
   "execution_count": 21,
   "metadata": {},
   "outputs": [
    {
     "name": "stdout",
     "output_type": "stream",
     "text": [
      "Dados normalizados:\n",
      "Acurácia:  [0.93589744 0.96153846 0.97435897 0.94871795 0.94871795 0.93589744\n",
      " 0.91025641 0.8961039  0.97402597 0.93506494] Média:  0.942057942057942\n",
      "Recall:  [0.75       0.625      0.75       0.5        0.5        0.5\n",
      " 0.125      0.14285714 0.71428571 0.625     ] Média:  0.5232142857142856\n",
      "Precison:  [0.66666667 1.         1.         1.         1.         0.8\n",
      " 1.         0.33333333 1.         0.71428571] Média:  0.8514285714285714\n",
      "f1:  [0.70588235 0.76923077 0.85714286 0.66666667 0.66666667 0.61538462\n",
      " 0.22222222 0.2        0.83333333 0.66666667] Média:  0.6203196150254974\n",
      "\n",
      "\n",
      "Dados originais:\n",
      "Acurácia:  [0.91025641 0.93589744 0.96153846 0.93589744 0.94871795 0.92307692\n",
      " 0.8974359  0.90909091 0.92207792 0.94805195] Média:  0.9292041292041292\n",
      "Recall:  [0.5        0.375      0.625      0.5        0.5        0.375\n",
      " 0.125      0.14285714 0.57142857 0.625     ] Média:  0.43392857142857144\n",
      "Precison:  [0.57142857 1.         1.         0.8        1.         0.75\n",
      " 0.5        0.5        0.57142857 0.83333333] Média:  0.7526190476190476\n",
      "f1:  [0.53333333 0.54545455 0.76923077 0.61538462 0.66666667 0.5\n",
      " 0.2        0.22222222 0.57142857 0.71428571] Média:  0.5338006438006437\n"
     ]
    }
   ],
   "source": [
    "neigh_college = KNeighborsClassifier(n_neighbors=5)\n",
    "neigh_college.fit(features_college_scaled, target_college);\n",
    "\n",
    "# Validação cruzada com método 10-fold\n",
    "print(\"Dados normalizados:\")\n",
    "score = cross_val_score(neigh_college, features_college_scaled, target_college, cv = 10, scoring = \"accuracy\")\n",
    "print(\"Acurácia: \", score, \"Média: \", np.mean(score))\n",
    "score = cross_val_score(neigh_college, features_college_scaled, target_college, cv = 10, scoring = \"recall\")\n",
    "print(\"Recall: \", score, \"Média: \", np.mean(score))\n",
    "score = cross_val_score(neigh_college, features_college_scaled, target_college, cv = 10, scoring = \"precision\")\n",
    "print(\"Precison: \", score, \"Média: \", np.mean(score))\n",
    "score = cross_val_score(neigh_college, features_college_scaled, target_college, cv = 10, scoring = \"f1\")\n",
    "print(\"f1: \", score, \"Média: \", np.mean(score))\n",
    "\n",
    "print(\"\\n\")\n",
    "print(\"Dados originais:\")\n",
    "score = cross_val_score(neigh_college, features_college, target_college, cv = 10, scoring = \"accuracy\")\n",
    "print(\"Acurácia: \", score, \"Média: \", np.mean(score))\n",
    "score = cross_val_score(neigh_college, features_college, target_college, cv = 10, scoring = \"recall\")\n",
    "print(\"Recall: \", score, \"Média: \", np.mean(score))\n",
    "score = cross_val_score(neigh_college, features_college, target_college, cv = 10, scoring = \"precision\")\n",
    "print(\"Precison: \", score, \"Média: \", np.mean(score))\n",
    "score = cross_val_score(neigh_college, features_college, target_college, cv = 10, scoring = \"f1\")\n",
    "print(\"f1: \", score, \"Média: \", np.mean(score))"
   ]
  },
  {
   "cell_type": "markdown",
   "metadata": {},
   "source": [
    "Como podemos ver com os resultados acima conseguimos resultados melhores com a normalização das *features*. \n",
    "\n",
    "Podemos perceber também que a medida de acurácia pode ser enganosa já que, neste caso, temos classes bem desbalanceadas. Por isso as medidas *recall*, *precision* e *f1* são mais interessantes para a situação."
   ]
  },
  {
   "cell_type": "markdown",
   "metadata": {},
   "source": [
    "Aplicamos Naive Bayes"
   ]
  },
  {
   "cell_type": "code",
   "execution_count": 22,
   "metadata": {},
   "outputs": [
    {
     "name": "stdout",
     "output_type": "stream",
     "text": [
      "Acurácia:  [0.92307692 0.97435897 0.94871795 0.91025641 0.97435897 0.94871795\n",
      " 0.93589744 0.88311688 0.94805195 0.90909091] Média:  0.9355644355644355\n",
      "Recall:  [0.875      1.         0.875      0.75       0.75       1.\n",
      " 0.625      0.42857143 0.85714286 1.        ] Média:  0.8160714285714284\n",
      "Precison:  [0.58333333 0.8        0.7        0.54545455 1.         0.66666667\n",
      " 0.71428571 0.375      0.66666667 0.53333333] Média:  0.658474025974026\n",
      "f1:  [0.7        0.88888889 0.77777778 0.63157895 0.85714286 0.8\n",
      " 0.66666667 0.4        0.75       0.69565217] Média:  0.7167707311757655\n"
     ]
    }
   ],
   "source": [
    "gaussian_nb_college = GaussianNB()\n",
    "gaussian_nb_college.fit(features_college, target_college);\n",
    "\n",
    "# Validação cruzada com método 10-fold\n",
    "score = cross_val_score(gaussian_nb_college, features_college, target_college, cv = 10, scoring = \"accuracy\")\n",
    "print(\"Acurácia: \", score, \"Média: \", np.mean(score))\n",
    "score = cross_val_score(gaussian_nb_college, features_college, target_college, cv = 10, scoring = \"recall\")\n",
    "print(\"Recall: \", score, \"Média: \", np.mean(score))\n",
    "score = cross_val_score(gaussian_nb_college, features_college, target_college, cv = 10, scoring = \"precision\")\n",
    "print(\"Precison: \", score, \"Média: \", np.mean(score))\n",
    "score = cross_val_score(gaussian_nb_college, features_college, target_college, cv = 10, scoring = \"f1\")\n",
    "print(\"f1: \", score, \"Média: \", np.mean(score))"
   ]
  },
  {
   "cell_type": "markdown",
   "metadata": {},
   "source": [
    "Com o *Naive Bayes Gaussiano* não precisamos normalizar as *features*.\n",
    "\n",
    "Podemos perceber com as métricas apresentadas acima que os resultados obtidos com o método de *Naive Bayes* foram melhores pela métrica *recall*. Esta métrica representa a proporção de classificações 1 corretamente identificadas pelo modelo dentre todas as verdadeiras classificações 1 nos dados, essa medida, em geral é muito importante e um incremento nela é algo significativo. Já na métrica *precision* tivemos uma piora em relação ao modelo k-vizinhos. Esta métrica representa a proporção de classificações 1 feitas pelo modelo que realmente são classificações 1 nos dados."
   ]
  },
  {
   "cell_type": "markdown",
   "metadata": {},
   "source": [
    "### Problema 4"
   ]
  },
  {
   "cell_type": "code",
   "execution_count": 4,
   "metadata": {},
   "outputs": [
    {
     "data": {
      "text/html": [
       "<div>\n",
       "<style scoped>\n",
       "    .dataframe tbody tr th:only-of-type {\n",
       "        vertical-align: middle;\n",
       "    }\n",
       "\n",
       "    .dataframe tbody tr th {\n",
       "        vertical-align: top;\n",
       "    }\n",
       "\n",
       "    .dataframe thead th {\n",
       "        text-align: right;\n",
       "    }\n",
       "</style>\n",
       "<table border=\"1\" class=\"dataframe\">\n",
       "  <thead>\n",
       "    <tr style=\"text-align: right;\">\n",
       "      <th></th>\n",
       "      <th>crim</th>\n",
       "      <th>zn</th>\n",
       "      <th>indus</th>\n",
       "      <th>chas</th>\n",
       "      <th>nox</th>\n",
       "      <th>rm</th>\n",
       "      <th>age</th>\n",
       "      <th>dis</th>\n",
       "      <th>rad</th>\n",
       "      <th>tax</th>\n",
       "      <th>ptratio</th>\n",
       "      <th>black</th>\n",
       "      <th>lstat</th>\n",
       "      <th>medv</th>\n",
       "    </tr>\n",
       "  </thead>\n",
       "  <tbody>\n",
       "    <tr>\n",
       "      <th>0</th>\n",
       "      <td>0.00632</td>\n",
       "      <td>18.0</td>\n",
       "      <td>2.31</td>\n",
       "      <td>0</td>\n",
       "      <td>0.538</td>\n",
       "      <td>6.575</td>\n",
       "      <td>65.2</td>\n",
       "      <td>4.0900</td>\n",
       "      <td>1</td>\n",
       "      <td>296</td>\n",
       "      <td>15.3</td>\n",
       "      <td>396.90</td>\n",
       "      <td>4.98</td>\n",
       "      <td>24.0</td>\n",
       "    </tr>\n",
       "    <tr>\n",
       "      <th>1</th>\n",
       "      <td>0.02731</td>\n",
       "      <td>0.0</td>\n",
       "      <td>7.07</td>\n",
       "      <td>0</td>\n",
       "      <td>0.469</td>\n",
       "      <td>6.421</td>\n",
       "      <td>78.9</td>\n",
       "      <td>4.9671</td>\n",
       "      <td>2</td>\n",
       "      <td>242</td>\n",
       "      <td>17.8</td>\n",
       "      <td>396.90</td>\n",
       "      <td>9.14</td>\n",
       "      <td>21.6</td>\n",
       "    </tr>\n",
       "    <tr>\n",
       "      <th>2</th>\n",
       "      <td>0.02729</td>\n",
       "      <td>0.0</td>\n",
       "      <td>7.07</td>\n",
       "      <td>0</td>\n",
       "      <td>0.469</td>\n",
       "      <td>7.185</td>\n",
       "      <td>61.1</td>\n",
       "      <td>4.9671</td>\n",
       "      <td>2</td>\n",
       "      <td>242</td>\n",
       "      <td>17.8</td>\n",
       "      <td>392.83</td>\n",
       "      <td>4.03</td>\n",
       "      <td>34.7</td>\n",
       "    </tr>\n",
       "    <tr>\n",
       "      <th>3</th>\n",
       "      <td>0.03237</td>\n",
       "      <td>0.0</td>\n",
       "      <td>2.18</td>\n",
       "      <td>0</td>\n",
       "      <td>0.458</td>\n",
       "      <td>6.998</td>\n",
       "      <td>45.8</td>\n",
       "      <td>6.0622</td>\n",
       "      <td>3</td>\n",
       "      <td>222</td>\n",
       "      <td>18.7</td>\n",
       "      <td>394.63</td>\n",
       "      <td>2.94</td>\n",
       "      <td>33.4</td>\n",
       "    </tr>\n",
       "    <tr>\n",
       "      <th>4</th>\n",
       "      <td>0.06905</td>\n",
       "      <td>0.0</td>\n",
       "      <td>2.18</td>\n",
       "      <td>0</td>\n",
       "      <td>0.458</td>\n",
       "      <td>7.147</td>\n",
       "      <td>54.2</td>\n",
       "      <td>6.0622</td>\n",
       "      <td>3</td>\n",
       "      <td>222</td>\n",
       "      <td>18.7</td>\n",
       "      <td>396.90</td>\n",
       "      <td>5.33</td>\n",
       "      <td>36.2</td>\n",
       "    </tr>\n",
       "  </tbody>\n",
       "</table>\n",
       "</div>"
      ],
      "text/plain": [
       "      crim    zn  indus  chas    nox     rm   age     dis  rad  tax  ptratio  \\\n",
       "0  0.00632  18.0   2.31     0  0.538  6.575  65.2  4.0900    1  296     15.3   \n",
       "1  0.02731   0.0   7.07     0  0.469  6.421  78.9  4.9671    2  242     17.8   \n",
       "2  0.02729   0.0   7.07     0  0.469  7.185  61.1  4.9671    2  242     17.8   \n",
       "3  0.03237   0.0   2.18     0  0.458  6.998  45.8  6.0622    3  222     18.7   \n",
       "4  0.06905   0.0   2.18     0  0.458  7.147  54.2  6.0622    3  222     18.7   \n",
       "\n",
       "    black  lstat  medv  \n",
       "0  396.90   4.98  24.0  \n",
       "1  396.90   9.14  21.6  \n",
       "2  392.83   4.03  34.7  \n",
       "3  394.63   2.94  33.4  \n",
       "4  396.90   5.33  36.2  "
      ]
     },
     "execution_count": 4,
     "metadata": {},
     "output_type": "execute_result"
    }
   ],
   "source": [
    "boston_data = pd.read_csv(\"data/Boston.csv\", sep = \";\", decimal = \",\")\n",
    "boston_data.head(5)"
   ]
  },
  {
   "cell_type": "markdown",
   "metadata": {},
   "source": [
    "###### Visualização da variável resposta"
   ]
  },
  {
   "cell_type": "code",
   "execution_count": 5,
   "metadata": {},
   "outputs": [
    {
     "data": {
      "text/plain": [
       "(array([ 21.,  55.,  82., 154.,  84.,  41.,  30.,   8.,  10.,  21.]),\n",
       " array([ 5. ,  9.5, 14. , 18.5, 23. , 27.5, 32. , 36.5, 41. , 45.5, 50. ]),\n",
       " <BarContainer object of 10 artists>)"
      ]
     },
     "execution_count": 5,
     "metadata": {},
     "output_type": "execute_result"
    },
    {
     "data": {
      "image/png": "[encoded data removed]",
      "text/plain": [
       "<Figure size 432x288 with 1 Axes>"
      ]
     },
     "metadata": {
      "needs_background": "light"
     },
     "output_type": "display_data"
    }
   ],
   "source": [
    "%matplotlib inline\n",
    "\n",
    "plt.hist(boston_data[\"medv\"])"
   ]
  },
  {
   "cell_type": "markdown",
   "metadata": {},
   "source": [
    "A partir do histograma da variável resposta *medv*, observa-se que sua distribuição assemelha-se com uma normal, com valores mais frequentes no intervalo central e frequência reduzida nas caudas. "
   ]
  },
  {
   "cell_type": "markdown",
   "metadata": {},
   "source": [
    "###### Separação entre features e target e Padronização das features"
   ]
  },
  {
   "cell_type": "code",
   "execution_count": 6,
   "metadata": {},
   "outputs": [],
   "source": [
    "# Separação do Banco\n",
    "features_boston = boston_data.drop(columns = {\"medv\"})\n",
    "target_boston = boston_data[\"medv\"]\n",
    "# Padronização das Features\n",
    "scaler = StandardScaler()\n",
    "features_boston_scaled = scaler.fit_transform(features_boston)"
   ]
  },
  {
   "cell_type": "markdown",
   "metadata": {},
   "source": [
    "###### Separação do conjunto de treinamento (80%) e do conjunto de teste (20%)"
   ]
  },
  {
   "cell_type": "code",
   "execution_count": 7,
   "metadata": {},
   "outputs": [],
   "source": [
    "features_boston_train, features_boston_test, target_boston_train, target_boston_test = \\\n",
    "    train_test_split(features_boston_scaled, target_boston, test_size = 0.2, random_state = 42)"
   ]
  },
  {
   "cell_type": "markdown",
   "metadata": {},
   "source": [
    "###### Ajuste e Resultado do Primeiro Trabalho"
   ]
  },
  {
   "cell_type": "code",
   "execution_count": 8,
   "metadata": {},
   "outputs": [
    {
     "name": "stdout",
     "output_type": "stream",
     "text": [
      "R^2:  0.668759493535632\n",
      "\n",
      "\n",
      "Intercepto 22.485268239316902\n",
      "crim -0.9714942298153079\n",
      "zn 0.7015556186825159\n",
      "indus 0.2767521175609763\n",
      "chas 0.7065315219738251\n",
      "nox -1.9914304346295517\n",
      "rm 3.11571836395898\n",
      "age -0.17706020680903295\n",
      "dis -3.0457706454104887\n",
      "rad 2.2827847127887217\n",
      "tax -1.7926046757521554\n",
      "ptratio -1.9799535094590683\n",
      "black 1.1264986355572144\n",
      "lstat -3.6281493743713633\n",
      "\n",
      "\n",
      "EQM Conjunto Teste:  24.29\n",
      "Acurácia Base Teste:0.669\n"
     ]
    }
   ],
   "source": [
    "lr_boston = LinearRegression()\n",
    "modelo_lr_boston =lr_boston.fit(features_boston_train, target_boston_train);\n",
    "\n",
    "# Validação\n",
    "print(\"R^2: \", modelo_lr_boston.score(features_boston_test, target_boston_test))\n",
    "\n",
    "print(\"\\n\")\n",
    "\n",
    "print(\"Intercepto\", modelo_lr_boston.intercept_)\n",
    "for i in range(len(modelo_lr_boston.coef_)):\n",
    "    print(boston_data.columns[i], modelo_lr_boston.coef_[i])\n",
    "\n",
    "print(\"\\n\")\n",
    "    \n",
    "target_predicted = modelo_lr_boston.predict(features_boston_test)\n",
    "print(\"EQM Conjunto Teste: \",round(mean_squared_error(target_boston_test, target_predicted),2))\n",
    "\n",
    "print(\"Acurácia Base Teste:{:.3f}\".format(modelo_lr_boston.score(features_boston_test,target_boston_test)))"
   ]
  },
  {
   "cell_type": "markdown",
   "metadata": {},
   "source": [
    "###### Ajuste Árvore de Decisão"
   ]
  },
  {
   "cell_type": "code",
   "execution_count": 9,
   "metadata": {},
   "outputs": [
    {
     "name": "stdout",
     "output_type": "stream",
     "text": [
      "Acurácia Base Teste:0.869\n",
      "Escore Variância Explicada:0.87\n",
      "MAE: 2.30\n",
      "R^2: 0.87\n",
      "EQM Conjunto Teste:  9.58\n"
     ]
    }
   ],
   "source": [
    "decisiontree = DecisionTreeRegressor(random_state=0)\n",
    "arv_dec_boston = decisiontree.fit(features_boston_train, target_boston_train)\n",
    "\n",
    "print(\"Acurácia Base Teste:{:.3f}\".format(decisiontree.score(features_boston_test,target_boston_test)))\n",
    "\n",
    "pred_arv_dec_boston = arv_dec_boston.predict(features_boston_test)\n",
    "\n",
    "explained_variance = explained_variance_score(target_boston_test, pred_arv_dec_boston)\n",
    "print('Escore Variância Explicada:{0:0.2f}'.format(explained_variance))\n",
    "\n",
    "mae= mean_absolute_error(target_boston_test, pred_arv_dec_boston)\n",
    "print('MAE: {0:0.2f}'.format(mae))\n",
    "\n",
    "r2score = r2_score(target_boston_test, pred_arv_dec_boston)\n",
    "print('R^2: {0:0.2f}'.format(r2score))\n",
    "\n",
    "print(\"EQM Conjunto Teste: \",round(mean_squared_error(target_boston_test, pred_arv_dec_boston),2))"
   ]
  },
  {
   "cell_type": "markdown",
   "metadata": {},
   "source": [
    "###### Ajuste Floresta Aleatória"
   ]
  },
  {
   "cell_type": "code",
   "execution_count": 10,
   "metadata": {},
   "outputs": [
    {
     "name": "stderr",
     "output_type": "stream",
     "text": [
      "C:\\Users\\Laura\\Anaconda3\\lib\\site-packages\\sklearn\\ensemble\\base.py:157: DeprecationWarning: `np.int` is a deprecated alias for the builtin `int`. To silence this warning, use `int` by itself. Doing this will not modify any behavior and is safe. When replacing `np.int`, you may wish to use e.g. `np.int64` or `np.int32` to specify the precision. If you wish to review your current use, check the release note link for additional information.\n",
      "Deprecated in NumPy 1.20; for more details and guidance: https://numpy.org/devdocs/release/1.20.0-notes.html#deprecations\n",
      "  dtype=np.int)\n",
      "C:\\Users\\Laura\\Anaconda3\\lib\\site-packages\\sklearn\\ensemble\\base.py:157: DeprecationWarning: `np.int` is a deprecated alias for the builtin `int`. To silence this warning, use `int` by itself. Doing this will not modify any behavior and is safe. When replacing `np.int`, you may wish to use e.g. `np.int64` or `np.int32` to specify the precision. If you wish to review your current use, check the release note link for additional information.\n",
      "Deprecated in NumPy 1.20; for more details and guidance: https://numpy.org/devdocs/release/1.20.0-notes.html#deprecations\n",
      "  dtype=np.int)\n"
     ]
    },
    {
     "name": "stdout",
     "output_type": "stream",
     "text": [
      "Acurácia Base Teste:0.859\n",
      "Escore Variância Explicada:0.86\n",
      "MAE: 2.27\n",
      "R^2: 0.86\n",
      "EQM Conjunto Teste:  10.35\n"
     ]
    }
   ],
   "source": [
    "randomforest = RandomForestRegressor(random_state=0, n_jobs=-1)\n",
    "rand_for_boston = randomforest.fit(features_boston_train, target_boston_train)\n",
    "\n",
    "print(\"Acurácia Base Teste:{:.3f}\".format(rand_for_boston.score(features_boston_test,target_boston_test)))\n",
    "\n",
    "pred_rand_for_boston = rand_for_boston.predict(features_boston_test)\n",
    "\n",
    "explained_variance = explained_variance_score(target_boston_test, pred_rand_for_boston)\n",
    "print('Escore Variância Explicada:{0:0.2f}'.format(explained_variance))\n",
    "\n",
    "mae= mean_absolute_error(target_boston_test, pred_rand_for_boston)\n",
    "print('MAE: {0:0.2f}'.format(mae))\n",
    "\n",
    "r2score = r2_score(target_boston_test,pred_rand_for_boston)\n",
    "print('R^2: {0:0.2f}'.format(r2score))\n",
    "\n",
    "print(\"EQM Conjunto Teste: \",round(mean_squared_error(target_boston_test, pred_rand_for_boston),2))"
   ]
  },
  {
   "cell_type": "markdown",
   "metadata": {},
   "source": [
    "###### Ajuste SVM"
   ]
  },
  {
   "cell_type": "code",
   "execution_count": 12,
   "metadata": {},
   "outputs": [
    {
     "name": "stdout",
     "output_type": "stream",
     "text": [
      "Acurácia Base Teste:0.606\n",
      "Escore Variância Explicada:0.63\n",
      "MAE: 3.10\n",
      "R^2: 0.61\n",
      "EQM Conjunto Teste:  28.9\n"
     ]
    }
   ],
   "source": [
    "svm = SVR(kernel=\"linear\")\n",
    "svm_boston = svm.fit(features_boston_train, target_boston_train)\n",
    "\n",
    "print(\"Acurácia Base Teste:{:.3f}\".format(svm_boston.score(features_boston_test,target_boston_test)))\n",
    "\n",
    "pred_svm_boston = svm_boston.predict(features_boston_test)\n",
    "\n",
    "explained_variance = explained_variance_score(target_boston_test, pred_svm_boston)\n",
    "print('Escore Variância Explicada:{0:0.2f}'.format(explained_variance))\n",
    "\n",
    "mae= mean_absolute_error(target_boston_test, pred_svm_boston)\n",
    "print('MAE: {0:0.2f}'.format(mae))\n",
    "\n",
    "r2score = r2_score(target_boston_test,pred_svm_boston)\n",
    "print('R^2: {0:0.2f}'.format(r2score))\n",
    "\n",
    "print(\"EQM Conjunto Teste: \",round(mean_squared_error(target_boston_test,pred_svm_boston),2))"
   ]
  },
  {
   "cell_type": "markdown",
   "metadata": {},
   "source": [
    "###### Comparação e Análise dos Resultados"
   ]
  },
  {
   "cell_type": "markdown",
   "metadata": {},
   "source": [
    "Nota-se que, os modelos ajustados via árvore de decisão e floresta aleatória obtiveram melhor valores de acurácia no banco de teste se comparadso com os valores obtidos na regressão linear feito anteriormente e no SVM para regressão aplicado agora. Comparando as métricas calculadas para os dois melhores modelos (árvore de decisão e a floresta aleatória), é possível observar que eles possuem valores muito próximos, porém, além da árvore possuir uma acurácia um pouco mais alta e um erro quadrático médio menor, ela possui como vantagem a sua interpretabilidade, portanto vai ser usada como referência de melhor modelo.\n",
    "\n",
    "Abaixo, tem-se o gráfico com a importância de cada uma das covariáveis para a contrução desse modelo. A variável com maior importância é *rm*, que destaca-se muito em relação as demais, seguidas das covariáveis *lstat* e *dis*."
   ]
  },
  {
   "cell_type": "code",
   "execution_count": 13,
   "metadata": {},
   "outputs": [
    {
     "data": {
      "image/png": "[encoded data removed]",
      "text/plain": [
       "<Figure size 432x288 with 1 Axes>"
      ]
     },
     "metadata": {
      "needs_background": "light"
     },
     "output_type": "display_data"
    }
   ],
   "source": [
    "importances = arv_dec_boston.feature_importances_\n",
    "indices = np.argsort(importances)[::-1]\n",
    "names = [boston_data.columns.tolist()[i] for i in indices]\n",
    "plt.figure()\n",
    "plt.title(\"Importância das Variáveis\")\n",
    "plt.bar(range(features_boston_train.shape[1]),\n",
    "importances[indices])\n",
    "plt.xticks(range(features_boston_train.shape[1]), names,rotation=90)\n",
    "plt.show()"
   ]
  },
  {
   "cell_type": "markdown",
   "metadata": {},
   "source": [
    "### Problema 5"
   ]
  },
  {
   "cell_type": "code",
   "execution_count": 15,
   "metadata": {},
   "outputs": [
    {
     "data": {
      "text/html": [
       "<div>\n",
       "<style scoped>\n",
       "    .dataframe tbody tr th:only-of-type {\n",
       "        vertical-align: middle;\n",
       "    }\n",
       "\n",
       "    .dataframe tbody tr th {\n",
       "        vertical-align: top;\n",
       "    }\n",
       "\n",
       "    .dataframe thead th {\n",
       "        text-align: right;\n",
       "    }\n",
       "</style>\n",
       "<table border=\"1\" class=\"dataframe\">\n",
       "  <thead>\n",
       "    <tr style=\"text-align: right;\">\n",
       "      <th></th>\n",
       "      <th>IDADE</th>\n",
       "      <th>TP_SEXO</th>\n",
       "      <th>ST_CONCLUSAO</th>\n",
       "      <th>IN_TP_ENSINO</th>\n",
       "      <th>IN_CERTIFICADO</th>\n",
       "      <th>TP_ESTADO_CIVIL</th>\n",
       "      <th>TP_LINGUA</th>\n",
       "      <th>Q01</th>\n",
       "      <th>Q02</th>\n",
       "      <th>Q03</th>\n",
       "      <th>...</th>\n",
       "      <th>Q25</th>\n",
       "      <th>Q26</th>\n",
       "      <th>Q27</th>\n",
       "      <th>Q28</th>\n",
       "      <th>Q29</th>\n",
       "      <th>Q30</th>\n",
       "      <th>Q31</th>\n",
       "      <th>Q32</th>\n",
       "      <th>Q33</th>\n",
       "      <th>NU_NT_MT</th>\n",
       "    </tr>\n",
       "  </thead>\n",
       "  <tbody>\n",
       "    <tr>\n",
       "      <th>0</th>\n",
       "      <td>20</td>\n",
       "      <td>M</td>\n",
       "      <td>3</td>\n",
       "      <td></td>\n",
       "      <td>1</td>\n",
       "      <td>0</td>\n",
       "      <td>1</td>\n",
       "      <td>A</td>\n",
       "      <td>C</td>\n",
       "      <td>B</td>\n",
       "      <td>...</td>\n",
       "      <td>4</td>\n",
       "      <td>5</td>\n",
       "      <td>4</td>\n",
       "      <td>E</td>\n",
       "      <td>A</td>\n",
       "      <td>A</td>\n",
       "      <td>F</td>\n",
       "      <td>B</td>\n",
       "      <td>A</td>\n",
       "      <td></td>\n",
       "    </tr>\n",
       "    <tr>\n",
       "      <th>1</th>\n",
       "      <td>31</td>\n",
       "      <td>F</td>\n",
       "      <td>1</td>\n",
       "      <td>1</td>\n",
       "      <td>0</td>\n",
       "      <td>1</td>\n",
       "      <td>0</td>\n",
       "      <td>A</td>\n",
       "      <td>A</td>\n",
       "      <td>A</td>\n",
       "      <td>...</td>\n",
       "      <td>5</td>\n",
       "      <td>5</td>\n",
       "      <td>5</td>\n",
       "      <td>D</td>\n",
       "      <td>A</td>\n",
       "      <td>A</td>\n",
       "      <td>B</td>\n",
       "      <td>B</td>\n",
       "      <td>A</td>\n",
       "      <td></td>\n",
       "    </tr>\n",
       "    <tr>\n",
       "      <th>2</th>\n",
       "      <td>27</td>\n",
       "      <td>F</td>\n",
       "      <td>1</td>\n",
       "      <td>1</td>\n",
       "      <td>0</td>\n",
       "      <td>1</td>\n",
       "      <td>0</td>\n",
       "      <td>A</td>\n",
       "      <td>C</td>\n",
       "      <td>C</td>\n",
       "      <td>...</td>\n",
       "      <td>5</td>\n",
       "      <td>0</td>\n",
       "      <td>5</td>\n",
       "      <td>A</td>\n",
       "      <td>A</td>\n",
       "      <td>A</td>\n",
       "      <td>B</td>\n",
       "      <td>A</td>\n",
       "      <td>A</td>\n",
       "      <td></td>\n",
       "    </tr>\n",
       "    <tr>\n",
       "      <th>3</th>\n",
       "      <td>19</td>\n",
       "      <td>F</td>\n",
       "      <td>1</td>\n",
       "      <td>1</td>\n",
       "      <td>0</td>\n",
       "      <td>0</td>\n",
       "      <td>1</td>\n",
       "      <td>B</td>\n",
       "      <td>A</td>\n",
       "      <td>I</td>\n",
       "      <td>...</td>\n",
       "      <td>5</td>\n",
       "      <td>4</td>\n",
       "      <td>4</td>\n",
       "      <td>B</td>\n",
       "      <td>A</td>\n",
       "      <td>A</td>\n",
       "      <td>B</td>\n",
       "      <td>A</td>\n",
       "      <td>A</td>\n",
       "      <td>342.3</td>\n",
       "    </tr>\n",
       "    <tr>\n",
       "      <th>4</th>\n",
       "      <td>26</td>\n",
       "      <td>F</td>\n",
       "      <td>1</td>\n",
       "      <td>1</td>\n",
       "      <td>0</td>\n",
       "      <td>0</td>\n",
       "      <td>1</td>\n",
       "      <td>A</td>\n",
       "      <td>I</td>\n",
       "      <td>B</td>\n",
       "      <td>...</td>\n",
       "      <td>5</td>\n",
       "      <td>0</td>\n",
       "      <td>5</td>\n",
       "      <td>C</td>\n",
       "      <td>A</td>\n",
       "      <td>A</td>\n",
       "      <td>D</td>\n",
       "      <td>B</td>\n",
       "      <td>A</td>\n",
       "      <td>411.6</td>\n",
       "    </tr>\n",
       "  </tbody>\n",
       "</table>\n",
       "<p>5 rows × 26 columns</p>\n",
       "</div>"
      ],
      "text/plain": [
       "   IDADE TP_SEXO  ST_CONCLUSAO IN_TP_ENSINO IN_CERTIFICADO  TP_ESTADO_CIVIL  \\\n",
       "0     20       M             3                           1                0   \n",
       "1     31       F             1            1              0                1   \n",
       "2     27       F             1            1              0                1   \n",
       "3     19       F             1            1              0                0   \n",
       "4     26       F             1            1              0                0   \n",
       "\n",
       "   TP_LINGUA Q01 Q02 Q03   ...    Q25 Q26 Q27 Q28 Q29  Q30  Q31  Q32  Q33  \\\n",
       "0          1   A   C   B   ...      4   5   4   E   A    A    F    B    A   \n",
       "1          0   A   A   A   ...      5   5   5   D   A    A    B    B    A   \n",
       "2          0   A   C   C   ...      5   0   5   A   A    A    B    A    A   \n",
       "3          1   B   A   I   ...      5   4   4   B   A    A    B    A    A   \n",
       "4          1   A   I   B   ...      5   0   5   C   A    A    D    B    A   \n",
       "\n",
       "  NU_NT_MT  \n",
       "0           \n",
       "1           \n",
       "2           \n",
       "3    342.3  \n",
       "4    411.6  \n",
       "\n",
       "[5 rows x 26 columns]"
      ]
     },
     "execution_count": 15,
     "metadata": {},
     "output_type": "execute_result"
    }
   ],
   "source": [
    "enem_data_na = pd.read_csv(\"data/DadosEnemCandidatosMG.csv\", sep = \";\", decimal = \",\")\n",
    "enem_data_na.head(5)"
   ]
  },
  {
   "cell_type": "code",
   "execution_count": 16,
   "metadata": {},
   "outputs": [
    {
     "data": {
      "text/plain": [
       "(382179, 26)"
      ]
     },
     "execution_count": 16,
     "metadata": {},
     "output_type": "execute_result"
    }
   ],
   "source": [
    "enem_data_na.shape"
   ]
  },
  {
   "cell_type": "markdown",
   "metadata": {},
   "source": [
    "A partir da visualização dos dados inicial é possível notar que esse banco de dados possui NAs, tanto em algumas covariáveis quanto na variável resposta. Como o objetivo principal do trabalho é avaliar diferentes modelos para prever a nota final dos candidatos e o banco de dados possui informações de muitos candidatos, optou-se por descartar as linhas com valores faltantes."
   ]
  },
  {
   "cell_type": "code",
   "execution_count": 17,
   "metadata": {},
   "outputs": [
    {
     "data": {
      "text/html": [
       "<div>\n",
       "<style scoped>\n",
       "    .dataframe tbody tr th:only-of-type {\n",
       "        vertical-align: middle;\n",
       "    }\n",
       "\n",
       "    .dataframe tbody tr th {\n",
       "        vertical-align: top;\n",
       "    }\n",
       "\n",
       "    .dataframe thead th {\n",
       "        text-align: right;\n",
       "    }\n",
       "</style>\n",
       "<table border=\"1\" class=\"dataframe\">\n",
       "  <thead>\n",
       "    <tr style=\"text-align: right;\">\n",
       "      <th></th>\n",
       "      <th>IDADE</th>\n",
       "      <th>TP_SEXO</th>\n",
       "      <th>ST_CONCLUSAO</th>\n",
       "      <th>IN_TP_ENSINO</th>\n",
       "      <th>IN_CERTIFICADO</th>\n",
       "      <th>TP_ESTADO_CIVIL</th>\n",
       "      <th>TP_LINGUA</th>\n",
       "      <th>Q01</th>\n",
       "      <th>Q02</th>\n",
       "      <th>Q03</th>\n",
       "      <th>...</th>\n",
       "      <th>Q25</th>\n",
       "      <th>Q26</th>\n",
       "      <th>Q27</th>\n",
       "      <th>Q28</th>\n",
       "      <th>Q29</th>\n",
       "      <th>Q30</th>\n",
       "      <th>Q31</th>\n",
       "      <th>Q32</th>\n",
       "      <th>Q33</th>\n",
       "      <th>NU_NT_MT</th>\n",
       "    </tr>\n",
       "  </thead>\n",
       "  <tbody>\n",
       "    <tr>\n",
       "      <th>3</th>\n",
       "      <td>19</td>\n",
       "      <td>F</td>\n",
       "      <td>1</td>\n",
       "      <td>1</td>\n",
       "      <td>0</td>\n",
       "      <td>0</td>\n",
       "      <td>1</td>\n",
       "      <td>B</td>\n",
       "      <td>A</td>\n",
       "      <td>I</td>\n",
       "      <td>...</td>\n",
       "      <td>5</td>\n",
       "      <td>4</td>\n",
       "      <td>4</td>\n",
       "      <td>B</td>\n",
       "      <td>A</td>\n",
       "      <td>A</td>\n",
       "      <td>B</td>\n",
       "      <td>A</td>\n",
       "      <td>A</td>\n",
       "      <td>342.3</td>\n",
       "    </tr>\n",
       "    <tr>\n",
       "      <th>4</th>\n",
       "      <td>26</td>\n",
       "      <td>F</td>\n",
       "      <td>1</td>\n",
       "      <td>1</td>\n",
       "      <td>0</td>\n",
       "      <td>0</td>\n",
       "      <td>1</td>\n",
       "      <td>A</td>\n",
       "      <td>I</td>\n",
       "      <td>B</td>\n",
       "      <td>...</td>\n",
       "      <td>5</td>\n",
       "      <td>0</td>\n",
       "      <td>5</td>\n",
       "      <td>C</td>\n",
       "      <td>A</td>\n",
       "      <td>A</td>\n",
       "      <td>D</td>\n",
       "      <td>B</td>\n",
       "      <td>A</td>\n",
       "      <td>411.6</td>\n",
       "    </tr>\n",
       "    <tr>\n",
       "      <th>6</th>\n",
       "      <td>24</td>\n",
       "      <td>F</td>\n",
       "      <td>1</td>\n",
       "      <td>1</td>\n",
       "      <td>0</td>\n",
       "      <td>0</td>\n",
       "      <td>0</td>\n",
       "      <td>B</td>\n",
       "      <td>A</td>\n",
       "      <td>A</td>\n",
       "      <td>...</td>\n",
       "      <td>5</td>\n",
       "      <td>2</td>\n",
       "      <td>5</td>\n",
       "      <td>A</td>\n",
       "      <td>A</td>\n",
       "      <td>A</td>\n",
       "      <td>B</td>\n",
       "      <td>A</td>\n",
       "      <td>A</td>\n",
       "      <td>397.8</td>\n",
       "    </tr>\n",
       "    <tr>\n",
       "      <th>7</th>\n",
       "      <td>30</td>\n",
       "      <td>F</td>\n",
       "      <td>1</td>\n",
       "      <td>1</td>\n",
       "      <td>0</td>\n",
       "      <td>1</td>\n",
       "      <td>1</td>\n",
       "      <td>A</td>\n",
       "      <td>A</td>\n",
       "      <td>A</td>\n",
       "      <td>...</td>\n",
       "      <td>5</td>\n",
       "      <td>0</td>\n",
       "      <td>5</td>\n",
       "      <td>C</td>\n",
       "      <td>A</td>\n",
       "      <td>A</td>\n",
       "      <td>A</td>\n",
       "      <td>A</td>\n",
       "      <td>A</td>\n",
       "      <td>461.8</td>\n",
       "    </tr>\n",
       "    <tr>\n",
       "      <th>8</th>\n",
       "      <td>29</td>\n",
       "      <td>M</td>\n",
       "      <td>1</td>\n",
       "      <td>1</td>\n",
       "      <td>0</td>\n",
       "      <td>1</td>\n",
       "      <td>1</td>\n",
       "      <td>B</td>\n",
       "      <td>B</td>\n",
       "      <td>A</td>\n",
       "      <td>...</td>\n",
       "      <td>5</td>\n",
       "      <td>5</td>\n",
       "      <td>5</td>\n",
       "      <td>F</td>\n",
       "      <td>A</td>\n",
       "      <td>A</td>\n",
       "      <td>B</td>\n",
       "      <td>A</td>\n",
       "      <td>A</td>\n",
       "      <td>566.8</td>\n",
       "    </tr>\n",
       "  </tbody>\n",
       "</table>\n",
       "<p>5 rows × 26 columns</p>\n",
       "</div>"
      ],
      "text/plain": [
       "   IDADE TP_SEXO  ST_CONCLUSAO IN_TP_ENSINO IN_CERTIFICADO  TP_ESTADO_CIVIL  \\\n",
       "3     19       F             1            1              0                0   \n",
       "4     26       F             1            1              0                0   \n",
       "6     24       F             1            1              0                0   \n",
       "7     30       F             1            1              0                1   \n",
       "8     29       M             1            1              0                1   \n",
       "\n",
       "   TP_LINGUA Q01 Q02 Q03   ...    Q25 Q26 Q27 Q28 Q29  Q30  Q31  Q32  Q33  \\\n",
       "3          1   B   A   I   ...      5   4   4   B   A    A    B    A    A   \n",
       "4          1   A   I   B   ...      5   0   5   C   A    A    D    B    A   \n",
       "6          0   B   A   A   ...      5   2   5   A   A    A    B    A    A   \n",
       "7          1   A   A   A   ...      5   0   5   C   A    A    A    A    A   \n",
       "8          1   B   B   A   ...      5   5   5   F   A    A    B    A    A   \n",
       "\n",
       "  NU_NT_MT  \n",
       "3    342.3  \n",
       "4    411.6  \n",
       "6    397.8  \n",
       "7    461.8  \n",
       "8    566.8  \n",
       "\n",
       "[5 rows x 26 columns]"
      ]
     },
     "execution_count": 17,
     "metadata": {},
     "output_type": "execute_result"
    }
   ],
   "source": [
    "nan_value = float(\"NaN\")\n",
    "enem_data_na.replace(\" \", nan_value, inplace=True)\n",
    "enem_data = enem_data_na.dropna()\n",
    "enem_data.head(5)"
   ]
  },
  {
   "cell_type": "code",
   "execution_count": 18,
   "metadata": {},
   "outputs": [
    {
     "data": {
      "text/plain": [
       "(180638, 26)"
      ]
     },
     "execution_count": 18,
     "metadata": {},
     "output_type": "execute_result"
    }
   ],
   "source": [
    "enem_data.shape"
   ]
  },
  {
   "cell_type": "markdown",
   "metadata": {},
   "source": [
    "Após a remoção de linhas que continham NAs, o tamanho do banco passou de 382179 obersvações para 180638. O banco continua sendo grande para o ajuste de um modelo para predição da resposta, dessa forma iremos prosseguir o estudo."
   ]
  },
  {
   "cell_type": "markdown",
   "metadata": {},
   "source": [
    "###### Visualização da Variável Resposta"
   ]
  },
  {
   "cell_type": "code",
   "execution_count": 19,
   "metadata": {},
   "outputs": [
    {
     "data": {
      "text/plain": [
       "(array([8452., 8695., 8701., 8988., 8796., 8379., 8296., 8711., 8228.,\n",
       "        7796., 8440., 8413., 8145., 7604., 7615., 7267., 7760., 6989.,\n",
       "        7141., 6236., 5531., 5216., 3233., 2273., 1249.,  861.,  655.,\n",
       "         448.,  314.,  206.]),\n",
       " array([   0. ,  167.9,  335.8,  503.7,  671.6,  839.5, 1007.4, 1175.3,\n",
       "        1343.2, 1511.1, 1679. , 1846.9, 2014.8, 2182.7, 2350.6, 2518.5,\n",
       "        2686.4, 2854.3, 3022.2, 3190.1, 3358. , 3525.9, 3693.8, 3861.7,\n",
       "        4029.6, 4197.5, 4365.4, 4533.3, 4701.2, 4869.1, 5037. ]),\n",
       " <BarContainer object of 30 artists>)"
      ]
     },
     "execution_count": 19,
     "metadata": {},
     "output_type": "execute_result"
    },
    {
     "data": {
      "image/png": "[encoded data removed]",
      "text/plain": [
       "<Figure size 432x288 with 1 Axes>"
      ]
     },
     "metadata": {
      "needs_background": "light"
     },
     "output_type": "display_data"
    }
   ],
   "source": [
    "%matplotlib inline\n",
    "\n",
    "plt.hist(enem_data[\"NU_NT_MT\"], bins = 30)"
   ]
  },
  {
   "cell_type": "markdown",
   "metadata": {},
   "source": [
    "###### Analisando Covariáveis"
   ]
  },
  {
   "cell_type": "code",
   "execution_count": 20,
   "metadata": {},
   "outputs": [
    {
     "data": {
      "text/plain": [
       "IDADE               int64\n",
       "TP_SEXO            object\n",
       "ST_CONCLUSAO        int64\n",
       "IN_TP_ENSINO       object\n",
       "IN_CERTIFICADO     object\n",
       "TP_ESTADO_CIVIL     int64\n",
       "TP_LINGUA           int64\n",
       "Q01                object\n",
       "Q02                object\n",
       "Q03                object\n",
       "Q04                object\n",
       "Q05                object\n",
       "Q06                object\n",
       "Q07                object\n",
       "Q08                object\n",
       "Q24                 int64\n",
       "Q25                 int64\n",
       "Q26                 int64\n",
       "Q27                 int64\n",
       "Q28                object\n",
       "Q29                object\n",
       "Q30                object\n",
       "Q31                object\n",
       "Q32                object\n",
       "Q33                object\n",
       "NU_NT_MT           object\n",
       "dtype: object"
      ]
     },
     "execution_count": 20,
     "metadata": {},
     "output_type": "execute_result"
    }
   ],
   "source": [
    "enem_data.dtypes"
   ]
  },
  {
   "cell_type": "markdown",
   "metadata": {},
   "source": [
    "Com exceção da covariável idade, todas demais features devem ser consideradas como categóricas. A partir do comando acima nota-se que nem todas estão sendo interpretadas da maneira correta, dessa forma é necessário corrigir seus tipos para realizar o ajuste dos modelos."
   ]
  },
  {
   "cell_type": "code",
   "execution_count": null,
   "metadata": {},
   "outputs": [],
   "source": []
  }
 ],
 "metadata": {
  "kernelspec": {
   "display_name": "Python 3",
   "language": "python",
   "name": "python3"
  },
  "language_info": {
   "codemirror_mode": {
    "name": "ipython",
    "version": 3
   },
   "file_extension": ".py",
   "mimetype": "text/x-python",
   "name": "python",
   "nbconvert_exporter": "python",
   "pygments_lexer": "ipython3",
   "version": "3.7.0"
  }
 },
 "nbformat": 4,
 "nbformat_minor": 5
}
